{
 "cells": [
  {
   "cell_type": "code",
   "execution_count": 1,
   "id": "bf148fa4-40e7-4bc0-b4d6-bf9557a46f34",
   "metadata": {},
   "outputs": [],
   "source": [
    "from astropy.io import fits"
   ]
  },
  {
   "cell_type": "code",
   "execution_count": 2,
   "id": "af168cd0-6f35-4ed2-a713-2751a0366434",
   "metadata": {},
   "outputs": [],
   "source": [
    "hdu = fits.open('cpt1m013-fa14-20210412-0125-e91.fits.fz')"
   ]
  },
  {
   "cell_type": "code",
   "execution_count": 3,
   "id": "00ce2d76-c829-4f1b-b4ec-3a88bd2784e2",
   "metadata": {},
   "outputs": [],
   "source": [
    "psf_hdu = fits.open('psf-new.fits')"
   ]
  },
  {
   "cell_type": "code",
   "execution_count": 4,
   "id": "5381c6ad-8bf5-4391-afa0-9c5f1949b660",
   "metadata": {},
   "outputs": [
    {
     "data": {
      "text/html": [
       "        <script type=\"text/javascript\">\n",
       "        window.PlotlyConfig = {MathJaxConfig: 'local'};\n",
       "        if (window.MathJax && window.MathJax.Hub && window.MathJax.Hub.Config) {window.MathJax.Hub.Config({SVG: {font: \"STIX-Web\"}});}\n",
       "        if (typeof require !== 'undefined') {\n",
       "        require.undef(\"plotly\");\n",
       "        requirejs.config({\n",
       "            paths: {\n",
       "                'plotly': ['https://cdn.plot.ly/plotly-2.27.0.min']\n",
       "            }\n",
       "        });\n",
       "        require(['plotly'], function(Plotly) {\n",
       "            window._Plotly = Plotly;\n",
       "        });\n",
       "        }\n",
       "        </script>\n",
       "        "
      ]
     },
     "metadata": {},
     "output_type": "display_data"
    }
   ],
   "source": [
    "import plotly.graph_objs as go\n",
    "import plotly.offline as pyo\n",
    "import plotly.express as px\n",
    "pyo.init_notebook_mode(connected=True)"
   ]
  },
  {
   "cell_type": "code",
   "execution_count": 5,
   "id": "3ef75e41-f793-4278-906e-29bffa927c61",
   "metadata": {},
   "outputs": [
    {
     "data": {
      "application/vnd.plotly.v1+json": {
       "config": {
        "plotlyServerURL": "https://plot.ly"
       },
       "data": [
        {
         "coloraxis": "coloraxis",
         "hovertemplate": "x: %{x}<br>y: %{y}<br>color: %{z}<extra></extra>",
         "name": "0",
         "type": "heatmap",
         "xaxis": "x",
         "yaxis": "y",
         "z": [
          [
           2.8442152748948933e-05,
           7.500357915191183e-05,
           8.029346646375771e-05,
           0.0001084223749968795,
           8.960841531272498e-05,
           0.0001285883039230847,
           0.00013171624834750316,
           0.00014507436046323803,
           0.00022951685342941406,
           0.0002335113825281201,
           0.00021740969681803175,
           0.0002237252470978148,
           0.00022310390943502164,
           0.000236078517765416,
           0.0001684351965219342,
           7.457420124350578e-05,
           9.818418948769849e-05,
           0.0001267791639686019,
           0.00012133727762707474,
           0.00013285196587309363,
           0.000106877408583802
          ],
          [
           9.52120494239971e-05,
           7.744910538174682e-05,
           7.266902165190702e-05,
           0.0001751094815143772,
           0.00016760366341254964,
           0.00016430123759111968,
           0.00018644183636432477,
           0.0002579756265473771,
           0.0002751231788074415,
           0.0003456088796530031,
           0.00036741286880807454,
           0.0003284908137917148,
           0.000313819407755752,
           0.0002738278164575431,
           0.00022062193087042138,
           0.00015075376208826426,
           0.00021988813985655416,
           0.00019568767201582816,
           9.800674863488681e-05,
           0.00012675503731126182,
           5.033349204196166e-05
          ],
          [
           6.67135531308318e-05,
           3.217483193405906e-05,
           5.253735277794504e-05,
           0.0001340269831551228,
           0.00019892791010481944,
           0.00027496360697333106,
           0.00029862428854189203,
           0.0004437736612183461,
           0.0004582996342019323,
           0.0005071450239558246,
           0.0005315727708352319,
           0.00048620650370048707,
           0.0004438762077157052,
           0.0003781737780867775,
           0.00034579424385540615,
           0.00027854707548332876,
           0.00034817135089916735,
           0.00019774213039022774,
           0.0001436555795128343,
           0.00015040644676885917,
           0.00013485514008657946
          ],
          [
           0.00015169518359799247,
           0.0001719107051545437,
           0.00018208724117173102,
           0.00022864139523693058,
           0.0002441632090989022,
           0.0003542435447744412,
           0.00042785388910914315,
           0.0005382410599465572,
           0.000646635062894665,
           0.0006828531624248863,
           0.0007201381062409143,
           0.0007032609629706224,
           0.0006196273497096594,
           0.0006104261026679974,
           0.000601638765835676,
           0.0005150077217489016,
           0.000471052742962296,
           0.0003537075067703659,
           0.00021855529622156363,
           0.00025524483425722186,
           0.0001569994652413712
          ],
          [
           0.000207848070708248,
           0.00021089258304198298,
           0.00023076478090022857,
           0.00030389577976316185,
           0.0003529066517904857,
           0.0005351389035655268,
           0.0006974795941666784,
           0.0008903161842706897,
           0.0010788078596402025,
           0.001155821170637573,
           0.001159286004059703,
           0.0011383854260856602,
           0.0011015546684788147,
           0.0010510170157016377,
           0.0009325679427445542,
           0.0007724941140065014,
           0.000659604237464342,
           0.0005131753899132117,
           0.0003524705041986605,
           0.00032579837846926203,
           0.0002339300214792645
          ],
          [
           9.957509749895763e-05,
           0.00020377372176041318,
           0.0002847380984335429,
           0.00040088845081539935,
           0.0005116203634668655,
           0.0008048479164199607,
           0.0010852472988816622,
           0.001490064955869376,
           0.0019092994660869051,
           0.002169093497627471,
           0.002270282575329382,
           0.0022381244013956947,
           0.0020972678989096215,
           0.0018991673661902678,
           0.0016190465081372598,
           0.0012627248020393182,
           0.0009798736869185266,
           0.000752497054727498,
           0.0005087513363936744,
           0.0003617958477129245,
           0.00022856264232636882
          ],
          [
           0.00019128090275384937,
           0.00020883013051430232,
           0.000332129093750081,
           0.0004916005689107753,
           0.0006780012419645698,
           0.0010178191682001523,
           0.0015889007023860463,
           0.002406586150950113,
           0.0033008812336242847,
           0.004099342038091549,
           0.004659245615778464,
           0.0047667458427950605,
           0.004341223963836214,
           0.003632659488854094,
           0.0028710498893741057,
           0.00206305998911271,
           0.0014397953384934627,
           0.0010370573930606273,
           0.0007409299411225553,
           0.0004549984608292634,
           0.00028299545346866976
          ],
          [
           0.00021806557965542677,
           0.00026998858314953786,
           0.00039621727956231484,
           0.0005855497941302618,
           0.0009143356853705497,
           0.0013695593501513287,
           0.002260491428747446,
           0.0036329505061551415,
           0.005404361428274258,
           0.007305264046444816,
           0.008665207055923472,
           0.009015224155244824,
           0.008228471744790793,
           0.006565855023216553,
           0.004777303693371811,
           0.0032808389728350303,
           0.0021562475094155566,
           0.001409539111136142,
           0.0009280496660627268,
           0.0005468271234236068,
           0.00038332586998157984
          ],
          [
           0.0002542774268484211,
           0.0003148392066576254,
           0.0005062842279344761,
           0.0007680143922438919,
           0.0011477267956241384,
           0.0018722380613904275,
           0.0032733954418098466,
           0.005485521113876539,
           0.008366343165349075,
           0.011427137571303467,
           0.013827768236228728,
           0.014670276921639443,
           0.013444659089119798,
           0.010435481372060235,
           0.006942933373574886,
           0.004398059017456507,
           0.002776086767807319,
           0.0017309242492327505,
           0.0011162455321263947,
           0.0006101192018284851,
           0.00040729531031334344
          ],
          [
           0.00030623763929924744,
           0.0003897072204263576,
           0.000560548721169705,
           0.0008267846686842864,
           0.0013230917444145708,
           0.0024272718770516036,
           0.004503875295279313,
           0.007846327013525526,
           0.011948874216024984,
           0.01596946184080572,
           0.0191128785085075,
           0.020146130680334717,
           0.01814887341572509,
           0.013628976605733088,
           0.008511873491371,
           0.004968664643023104,
           0.003003541999120744,
           0.0017895330378418554,
           0.0011464092994144025,
           0.0006399402675379735,
           0.0004087491981897908
          ],
          [
           0.00032487012145412995,
           0.0004731241200268903,
           0.0006105097712333087,
           0.000842842175417472,
           0.0014752419597662593,
           0.0029495612957211098,
           0.0056436278239679295,
           0.010048895443698823,
           0.015268371516056633,
           0.019925887970323297,
           0.023056513425220037,
           0.02348413501454757,
           0.020367580578286,
           0.014614176365205114,
           0.008726838425074464,
           0.00485769506317592,
           0.002803983826150551,
           0.001647112212690783,
           0.0010224019978595938,
           0.0006373734408448191,
           0.0004691409498450387
          ],
          [
           0.00030944931244151195,
           0.000476033331128678,
           0.000677786460546412,
           0.0009639155030818106,
           0.0015959382221606242,
           0.0032023291628138968,
           0.006226857838349737,
           0.011147174101627164,
           0.016608192800911872,
           0.021112390557426895,
           0.023505704091615932,
           0.022899199354646634,
           0.01909506165212702,
           0.013265650026920678,
           0.00781341352995064,
           0.004346617639649379,
           0.0024589405952520895,
           0.0014721982114829749,
           0.0009015023657807223,
           0.0006068358042976453,
           0.00045728769680373766
          ],
          [
           0.0002915317737985148,
           0.00043036435432246365,
           0.0006713201957277485,
           0.001021890595599159,
           0.0015809729571169648,
           0.002996149279040004,
           0.005726252592974251,
           0.010045750155105745,
           0.014594490991348569,
           0.018139524570003743,
           0.01957071922164525,
           0.018343884780606938,
           0.01487658435033616,
           0.010315898129888649,
           0.006272690316744788,
           0.0036214387386344824,
           0.0020990664566403845,
           0.00131401261390947,
           0.0008077543396906431,
           0.0005303182236384506,
           0.00034237757517535547
          ],
          [
           0.00026114744102604894,
           0.000401652326300346,
           0.0006224663102003655,
           0.000925127837845156,
           0.001405762964228293,
           0.0024726447712432394,
           0.004324518039529643,
           0.007065844638391679,
           0.01012091308736783,
           0.012443301917159167,
           0.013174154997116803,
           0.012075327363074278,
           0.009694882257530896,
           0.006920485459711301,
           0.004447509082464945,
           0.0027242473926909466,
           0.0016547777908687124,
           0.001118128672667704,
           0.0007214806864060097,
           0.00043464638478517433,
           0.0003150908375372713
          ],
          [
           0.00019000461113117235,
           0.00038728075161631345,
           0.0005758660929895035,
           0.0007611051380803201,
           0.0011514190081174883,
           0.0018700386347144677,
           0.002917670659452054,
           0.0042934564908583,
           0.005792318469768945,
           0.006911611438363479,
           0.007270164177363382,
           0.006703198385864135,
           0.005550891994908441,
           0.0042626479497968614,
           0.0029485018896380126,
           0.0019799660166341815,
           0.0012933319197430794,
           0.0008510281194286956,
           0.000622861412523021,
           0.0003944177600547413,
           0.0003228479278427707
          ],
          [
           0.00019675925263809433,
           0.00036891215683380185,
           0.00046232415565048844,
           0.0005621575598160533,
           0.0008693787242651841,
           0.0013138758864445945,
           0.0019196800120247805,
           0.0026406294023249384,
           0.0031536831305361336,
           0.0034552721538026526,
           0.003653582538868889,
           0.0036040606148957143,
           0.0031698151950975157,
           0.00251507091544113,
           0.0019056907464898988,
           0.0014209571747571597,
           0.0010083143851287266,
           0.0006401037927066777,
           0.0004867584261588315,
           0.0003849633644483035,
           0.00023190080630454022
          ],
          [
           0.00019290690981713603,
           0.0002644125568544306,
           0.00031012207461292014,
           0.0004420260670687674,
           0.0006879505982237566,
           0.0009294667680952628,
           0.0012963244557347893,
           0.0016684551391761315,
           0.0019278192855529724,
           0.0020575544249842484,
           0.00206491723274964,
           0.0020008935645041193,
           0.0018464221543464097,
           0.001548068103454171,
           0.0012363468981248728,
           0.0009991461149873023,
           0.0007135161065430642,
           0.0005441307716873661,
           0.0004022694568036137,
           0.0003395414779144928,
           0.00028050326426751015
          ],
          [
           0.00018653269939506172,
           0.0001599214518352692,
           0.00022627970414680574,
           0.0003267492902556725,
           0.0004413834404814424,
           0.0006363590792332301,
           0.0008710318154106325,
           0.0010406599671513332,
           0.0011683151971330125,
           0.0011959699045856263,
           0.0012395862476089314,
           0.0012528168350413706,
           0.001126316311384825,
           0.0009513081303891892,
           0.0008004520771307449,
           0.0007315190984984159,
           0.0005599751065185338,
           0.0004449551774104708,
           0.000279965635902661,
           0.0002237700415550079,
           0.00018902599517435536
          ],
          [
           0.0001778428159912624,
           0.00019320041088759427,
           0.00025992846334775083,
           0.0002994155488809445,
           0.0002730627809151991,
           0.00042642483727157977,
           0.00058896300259953,
           0.0006928359272446594,
           0.0007267558767582983,
           0.0007627131171212869,
           0.000825340280005657,
           0.0007978344693318323,
           0.0006886955460979448,
           0.0006346550604262054,
           0.0005945043361052757,
           0.0005118291604090926,
           0.0004632273108515982,
           0.00035786405072852425,
           0.0002113083409789051,
           0.00014111568146827255,
           0.0001321419817891958
          ],
          [
           0.00014877809146581546,
           0.00014159066655940856,
           0.0001817822057360695,
           0.0002239540189083813,
           0.00025497034687223344,
           0.0003083181288756724,
           0.00033517940363626575,
           0.0004383851903978222,
           0.00047270423245292524,
           0.0004656361051188692,
           0.0005361522697462789,
           0.0005642962698632611,
           0.00048416872645018575,
           0.0004473560380028399,
           0.0004087868225194007,
           0.0002602627995881642,
           0.00026330431529362114,
           0.00024101762232631103,
           0.00013152239622405925,
           0.00016874213649494931,
           0.00017107087037513156
          ],
          [
           0.0001334155720848673,
           0.00015766562469065123,
           9.793474220235184e-05,
           0.00011554651106431078,
           0.0001435392164654766,
           0.00021202547787076712,
           0.00020116646667873916,
           0.00023751850919850672,
           0.000293014308573723,
           0.00035470969729232033,
           0.0003630528878595815,
           0.00037239746344717626,
           0.00040068749490094606,
           0.00035280568764492135,
           0.0002717592983705271,
           0.00020114965426157024,
           0.00022930159442384492,
           0.00018495300373559675,
           0.0001241838134997721,
           0.00014080433541092743,
           8.86954492987125e-05
          ]
         ]
        }
       ],
       "layout": {
        "autosize": true,
        "coloraxis": {
         "colorscale": [
          [
           0,
           "#0d0887"
          ],
          [
           0.1111111111111111,
           "#46039f"
          ],
          [
           0.2222222222222222,
           "#7201a8"
          ],
          [
           0.3333333333333333,
           "#9c179e"
          ],
          [
           0.4444444444444444,
           "#bd3786"
          ],
          [
           0.5555555555555556,
           "#d8576b"
          ],
          [
           0.6666666666666666,
           "#ed7953"
          ],
          [
           0.7777777777777778,
           "#fb9f3a"
          ],
          [
           0.8888888888888888,
           "#fdca26"
          ],
          [
           1,
           "#f0f921"
          ]
         ]
        },
        "margin": {
         "t": 60
        },
        "template": {
         "data": {
          "bar": [
           {
            "error_x": {
             "color": "#2a3f5f"
            },
            "error_y": {
             "color": "#2a3f5f"
            },
            "marker": {
             "line": {
              "color": "#E5ECF6",
              "width": 0.5
             },
             "pattern": {
              "fillmode": "overlay",
              "size": 10,
              "solidity": 0.2
             }
            },
            "type": "bar"
           }
          ],
          "barpolar": [
           {
            "marker": {
             "line": {
              "color": "#E5ECF6",
              "width": 0.5
             },
             "pattern": {
              "fillmode": "overlay",
              "size": 10,
              "solidity": 0.2
             }
            },
            "type": "barpolar"
           }
          ],
          "carpet": [
           {
            "aaxis": {
             "endlinecolor": "#2a3f5f",
             "gridcolor": "white",
             "linecolor": "white",
             "minorgridcolor": "white",
             "startlinecolor": "#2a3f5f"
            },
            "baxis": {
             "endlinecolor": "#2a3f5f",
             "gridcolor": "white",
             "linecolor": "white",
             "minorgridcolor": "white",
             "startlinecolor": "#2a3f5f"
            },
            "type": "carpet"
           }
          ],
          "choropleth": [
           {
            "colorbar": {
             "outlinewidth": 0,
             "ticks": ""
            },
            "type": "choropleth"
           }
          ],
          "contour": [
           {
            "colorbar": {
             "outlinewidth": 0,
             "ticks": ""
            },
            "colorscale": [
             [
              0,
              "#0d0887"
             ],
             [
              0.1111111111111111,
              "#46039f"
             ],
             [
              0.2222222222222222,
              "#7201a8"
             ],
             [
              0.3333333333333333,
              "#9c179e"
             ],
             [
              0.4444444444444444,
              "#bd3786"
             ],
             [
              0.5555555555555556,
              "#d8576b"
             ],
             [
              0.6666666666666666,
              "#ed7953"
             ],
             [
              0.7777777777777778,
              "#fb9f3a"
             ],
             [
              0.8888888888888888,
              "#fdca26"
             ],
             [
              1,
              "#f0f921"
             ]
            ],
            "type": "contour"
           }
          ],
          "contourcarpet": [
           {
            "colorbar": {
             "outlinewidth": 0,
             "ticks": ""
            },
            "type": "contourcarpet"
           }
          ],
          "heatmap": [
           {
            "colorbar": {
             "outlinewidth": 0,
             "ticks": ""
            },
            "colorscale": [
             [
              0,
              "#0d0887"
             ],
             [
              0.1111111111111111,
              "#46039f"
             ],
             [
              0.2222222222222222,
              "#7201a8"
             ],
             [
              0.3333333333333333,
              "#9c179e"
             ],
             [
              0.4444444444444444,
              "#bd3786"
             ],
             [
              0.5555555555555556,
              "#d8576b"
             ],
             [
              0.6666666666666666,
              "#ed7953"
             ],
             [
              0.7777777777777778,
              "#fb9f3a"
             ],
             [
              0.8888888888888888,
              "#fdca26"
             ],
             [
              1,
              "#f0f921"
             ]
            ],
            "type": "heatmap"
           }
          ],
          "heatmapgl": [
           {
            "colorbar": {
             "outlinewidth": 0,
             "ticks": ""
            },
            "colorscale": [
             [
              0,
              "#0d0887"
             ],
             [
              0.1111111111111111,
              "#46039f"
             ],
             [
              0.2222222222222222,
              "#7201a8"
             ],
             [
              0.3333333333333333,
              "#9c179e"
             ],
             [
              0.4444444444444444,
              "#bd3786"
             ],
             [
              0.5555555555555556,
              "#d8576b"
             ],
             [
              0.6666666666666666,
              "#ed7953"
             ],
             [
              0.7777777777777778,
              "#fb9f3a"
             ],
             [
              0.8888888888888888,
              "#fdca26"
             ],
             [
              1,
              "#f0f921"
             ]
            ],
            "type": "heatmapgl"
           }
          ],
          "histogram": [
           {
            "marker": {
             "pattern": {
              "fillmode": "overlay",
              "size": 10,
              "solidity": 0.2
             }
            },
            "type": "histogram"
           }
          ],
          "histogram2d": [
           {
            "colorbar": {
             "outlinewidth": 0,
             "ticks": ""
            },
            "colorscale": [
             [
              0,
              "#0d0887"
             ],
             [
              0.1111111111111111,
              "#46039f"
             ],
             [
              0.2222222222222222,
              "#7201a8"
             ],
             [
              0.3333333333333333,
              "#9c179e"
             ],
             [
              0.4444444444444444,
              "#bd3786"
             ],
             [
              0.5555555555555556,
              "#d8576b"
             ],
             [
              0.6666666666666666,
              "#ed7953"
             ],
             [
              0.7777777777777778,
              "#fb9f3a"
             ],
             [
              0.8888888888888888,
              "#fdca26"
             ],
             [
              1,
              "#f0f921"
             ]
            ],
            "type": "histogram2d"
           }
          ],
          "histogram2dcontour": [
           {
            "colorbar": {
             "outlinewidth": 0,
             "ticks": ""
            },
            "colorscale": [
             [
              0,
              "#0d0887"
             ],
             [
              0.1111111111111111,
              "#46039f"
             ],
             [
              0.2222222222222222,
              "#7201a8"
             ],
             [
              0.3333333333333333,
              "#9c179e"
             ],
             [
              0.4444444444444444,
              "#bd3786"
             ],
             [
              0.5555555555555556,
              "#d8576b"
             ],
             [
              0.6666666666666666,
              "#ed7953"
             ],
             [
              0.7777777777777778,
              "#fb9f3a"
             ],
             [
              0.8888888888888888,
              "#fdca26"
             ],
             [
              1,
              "#f0f921"
             ]
            ],
            "type": "histogram2dcontour"
           }
          ],
          "mesh3d": [
           {
            "colorbar": {
             "outlinewidth": 0,
             "ticks": ""
            },
            "type": "mesh3d"
           }
          ],
          "parcoords": [
           {
            "line": {
             "colorbar": {
              "outlinewidth": 0,
              "ticks": ""
             }
            },
            "type": "parcoords"
           }
          ],
          "pie": [
           {
            "automargin": true,
            "type": "pie"
           }
          ],
          "scatter": [
           {
            "fillpattern": {
             "fillmode": "overlay",
             "size": 10,
             "solidity": 0.2
            },
            "type": "scatter"
           }
          ],
          "scatter3d": [
           {
            "line": {
             "colorbar": {
              "outlinewidth": 0,
              "ticks": ""
             }
            },
            "marker": {
             "colorbar": {
              "outlinewidth": 0,
              "ticks": ""
             }
            },
            "type": "scatter3d"
           }
          ],
          "scattercarpet": [
           {
            "marker": {
             "colorbar": {
              "outlinewidth": 0,
              "ticks": ""
             }
            },
            "type": "scattercarpet"
           }
          ],
          "scattergeo": [
           {
            "marker": {
             "colorbar": {
              "outlinewidth": 0,
              "ticks": ""
             }
            },
            "type": "scattergeo"
           }
          ],
          "scattergl": [
           {
            "marker": {
             "colorbar": {
              "outlinewidth": 0,
              "ticks": ""
             }
            },
            "type": "scattergl"
           }
          ],
          "scattermapbox": [
           {
            "marker": {
             "colorbar": {
              "outlinewidth": 0,
              "ticks": ""
             }
            },
            "type": "scattermapbox"
           }
          ],
          "scatterpolar": [
           {
            "marker": {
             "colorbar": {
              "outlinewidth": 0,
              "ticks": ""
             }
            },
            "type": "scatterpolar"
           }
          ],
          "scatterpolargl": [
           {
            "marker": {
             "colorbar": {
              "outlinewidth": 0,
              "ticks": ""
             }
            },
            "type": "scatterpolargl"
           }
          ],
          "scatterternary": [
           {
            "marker": {
             "colorbar": {
              "outlinewidth": 0,
              "ticks": ""
             }
            },
            "type": "scatterternary"
           }
          ],
          "surface": [
           {
            "colorbar": {
             "outlinewidth": 0,
             "ticks": ""
            },
            "colorscale": [
             [
              0,
              "#0d0887"
             ],
             [
              0.1111111111111111,
              "#46039f"
             ],
             [
              0.2222222222222222,
              "#7201a8"
             ],
             [
              0.3333333333333333,
              "#9c179e"
             ],
             [
              0.4444444444444444,
              "#bd3786"
             ],
             [
              0.5555555555555556,
              "#d8576b"
             ],
             [
              0.6666666666666666,
              "#ed7953"
             ],
             [
              0.7777777777777778,
              "#fb9f3a"
             ],
             [
              0.8888888888888888,
              "#fdca26"
             ],
             [
              1,
              "#f0f921"
             ]
            ],
            "type": "surface"
           }
          ],
          "table": [
           {
            "cells": {
             "fill": {
              "color": "#EBF0F8"
             },
             "line": {
              "color": "white"
             }
            },
            "header": {
             "fill": {
              "color": "#C8D4E3"
             },
             "line": {
              "color": "white"
             }
            },
            "type": "table"
           }
          ]
         },
         "layout": {
          "annotationdefaults": {
           "arrowcolor": "#2a3f5f",
           "arrowhead": 0,
           "arrowwidth": 1
          },
          "autotypenumbers": "strict",
          "coloraxis": {
           "colorbar": {
            "outlinewidth": 0,
            "ticks": ""
           }
          },
          "colorscale": {
           "diverging": [
            [
             0,
             "#8e0152"
            ],
            [
             0.1,
             "#c51b7d"
            ],
            [
             0.2,
             "#de77ae"
            ],
            [
             0.3,
             "#f1b6da"
            ],
            [
             0.4,
             "#fde0ef"
            ],
            [
             0.5,
             "#f7f7f7"
            ],
            [
             0.6,
             "#e6f5d0"
            ],
            [
             0.7,
             "#b8e186"
            ],
            [
             0.8,
             "#7fbc41"
            ],
            [
             0.9,
             "#4d9221"
            ],
            [
             1,
             "#276419"
            ]
           ],
           "sequential": [
            [
             0,
             "#0d0887"
            ],
            [
             0.1111111111111111,
             "#46039f"
            ],
            [
             0.2222222222222222,
             "#7201a8"
            ],
            [
             0.3333333333333333,
             "#9c179e"
            ],
            [
             0.4444444444444444,
             "#bd3786"
            ],
            [
             0.5555555555555556,
             "#d8576b"
            ],
            [
             0.6666666666666666,
             "#ed7953"
            ],
            [
             0.7777777777777778,
             "#fb9f3a"
            ],
            [
             0.8888888888888888,
             "#fdca26"
            ],
            [
             1,
             "#f0f921"
            ]
           ],
           "sequentialminus": [
            [
             0,
             "#0d0887"
            ],
            [
             0.1111111111111111,
             "#46039f"
            ],
            [
             0.2222222222222222,
             "#7201a8"
            ],
            [
             0.3333333333333333,
             "#9c179e"
            ],
            [
             0.4444444444444444,
             "#bd3786"
            ],
            [
             0.5555555555555556,
             "#d8576b"
            ],
            [
             0.6666666666666666,
             "#ed7953"
            ],
            [
             0.7777777777777778,
             "#fb9f3a"
            ],
            [
             0.8888888888888888,
             "#fdca26"
            ],
            [
             1,
             "#f0f921"
            ]
           ]
          },
          "colorway": [
           "#636efa",
           "#EF553B",
           "#00cc96",
           "#ab63fa",
           "#FFA15A",
           "#19d3f3",
           "#FF6692",
           "#B6E880",
           "#FF97FF",
           "#FECB52"
          ],
          "font": {
           "color": "#2a3f5f"
          },
          "geo": {
           "bgcolor": "white",
           "lakecolor": "white",
           "landcolor": "#E5ECF6",
           "showlakes": true,
           "showland": true,
           "subunitcolor": "white"
          },
          "hoverlabel": {
           "align": "left"
          },
          "hovermode": "closest",
          "mapbox": {
           "style": "light"
          },
          "paper_bgcolor": "white",
          "plot_bgcolor": "#E5ECF6",
          "polar": {
           "angularaxis": {
            "gridcolor": "white",
            "linecolor": "white",
            "ticks": ""
           },
           "bgcolor": "#E5ECF6",
           "radialaxis": {
            "gridcolor": "white",
            "linecolor": "white",
            "ticks": ""
           }
          },
          "scene": {
           "xaxis": {
            "backgroundcolor": "#E5ECF6",
            "gridcolor": "white",
            "gridwidth": 2,
            "linecolor": "white",
            "showbackground": true,
            "ticks": "",
            "zerolinecolor": "white"
           },
           "yaxis": {
            "backgroundcolor": "#E5ECF6",
            "gridcolor": "white",
            "gridwidth": 2,
            "linecolor": "white",
            "showbackground": true,
            "ticks": "",
            "zerolinecolor": "white"
           },
           "zaxis": {
            "backgroundcolor": "#E5ECF6",
            "gridcolor": "white",
            "gridwidth": 2,
            "linecolor": "white",
            "showbackground": true,
            "ticks": "",
            "zerolinecolor": "white"
           }
          },
          "shapedefaults": {
           "line": {
            "color": "#2a3f5f"
           }
          },
          "ternary": {
           "aaxis": {
            "gridcolor": "white",
            "linecolor": "white",
            "ticks": ""
           },
           "baxis": {
            "gridcolor": "white",
            "linecolor": "white",
            "ticks": ""
           },
           "bgcolor": "#E5ECF6",
           "caxis": {
            "gridcolor": "white",
            "linecolor": "white",
            "ticks": ""
           }
          },
          "title": {
           "x": 0.05
          },
          "xaxis": {
           "automargin": true,
           "gridcolor": "white",
           "linecolor": "white",
           "ticks": "",
           "title": {
            "standoff": 15
           },
           "zerolinecolor": "white",
           "zerolinewidth": 2
          },
          "yaxis": {
           "automargin": true,
           "gridcolor": "white",
           "linecolor": "white",
           "ticks": "",
           "title": {
            "standoff": 15
           },
           "zerolinecolor": "white",
           "zerolinewidth": 2
          }
         }
        },
        "xaxis": {
         "anchor": "y",
         "autorange": true,
         "constrain": "domain",
         "domain": [
          0.3484848484848485,
          0.6515151515151515
         ],
         "range": [
          -0.5,
          20.5
         ],
         "scaleanchor": "y"
        },
        "yaxis": {
         "anchor": "x",
         "autorange": true,
         "constrain": "domain",
         "domain": [
          0,
          1
         ],
         "range": [
          20.5,
          -0.5
         ]
        }
       }
      },
      "image/png": "[encoded data removed]",
      "text/html": [
       "<div>                            <div id=\"3c668523-71f8-4f42-a3da-cbab2004c6a7\" class=\"plotly-graph-div\" style=\"height:525px; width:100%;\"></div>            <script type=\"text/javascript\">                require([\"plotly\"], function(Plotly) {                    window.PLOTLYENV=window.PLOTLYENV || {};                                    if (document.getElementById(\"3c668523-71f8-4f42-a3da-cbab2004c6a7\")) {                    Plotly.newPlot(                        \"3c668523-71f8-4f42-a3da-cbab2004c6a7\",                        [{\"coloraxis\":\"coloraxis\",\"name\":\"0\",\"z\":[[2.8442152748948933e-05,7.500357915191183e-05,8.029346646375771e-05,0.0001084223749968795,8.960841531272498e-05,0.0001285883039230847,0.00013171624834750316,0.00014507436046323803,0.00022951685342941406,0.0002335113825281201,0.00021740969681803175,0.0002237252470978148,0.00022310390943502164,0.000236078517765416,0.0001684351965219342,7.457420124350578e-05,9.818418948769849e-05,0.0001267791639686019,0.00012133727762707474,0.00013285196587309363,0.000106877408583802],[9.52120494239971e-05,7.744910538174682e-05,7.266902165190702e-05,0.0001751094815143772,0.00016760366341254964,0.00016430123759111968,0.00018644183636432477,0.0002579756265473771,0.0002751231788074415,0.0003456088796530031,0.00036741286880807454,0.0003284908137917148,0.000313819407755752,0.0002738278164575431,0.00022062193087042138,0.00015075376208826426,0.00021988813985655416,0.00019568767201582816,9.800674863488681e-05,0.00012675503731126182,5.033349204196166e-05],[6.67135531308318e-05,3.217483193405906e-05,5.253735277794504e-05,0.0001340269831551228,0.00019892791010481944,0.00027496360697333106,0.00029862428854189203,0.0004437736612183461,0.0004582996342019323,0.0005071450239558246,0.0005315727708352319,0.00048620650370048707,0.0004438762077157052,0.0003781737780867775,0.00034579424385540615,0.00027854707548332876,0.00034817135089916735,0.00019774213039022774,0.0001436555795128343,0.00015040644676885917,0.00013485514008657946],[0.00015169518359799247,0.0001719107051545437,0.00018208724117173102,0.00022864139523693058,0.0002441632090989022,0.0003542435447744412,0.00042785388910914315,0.0005382410599465572,0.000646635062894665,0.0006828531624248863,0.0007201381062409143,0.0007032609629706224,0.0006196273497096594,0.0006104261026679974,0.000601638765835676,0.0005150077217489016,0.000471052742962296,0.0003537075067703659,0.00021855529622156363,0.00025524483425722186,0.0001569994652413712],[0.000207848070708248,0.00021089258304198298,0.00023076478090022857,0.00030389577976316185,0.0003529066517904857,0.0005351389035655268,0.0006974795941666784,0.0008903161842706897,0.0010788078596402025,0.001155821170637573,0.001159286004059703,0.0011383854260856602,0.0011015546684788147,0.0010510170157016377,0.0009325679427445542,0.0007724941140065014,0.000659604237464342,0.0005131753899132117,0.0003524705041986605,0.00032579837846926203,0.0002339300214792645],[9.957509749895763e-05,0.00020377372176041318,0.0002847380984335429,0.00040088845081539935,0.0005116203634668655,0.0008048479164199607,0.0010852472988816622,0.001490064955869376,0.0019092994660869051,0.002169093497627471,0.002270282575329382,0.0022381244013956947,0.0020972678989096215,0.0018991673661902678,0.0016190465081372598,0.0012627248020393182,0.0009798736869185266,0.000752497054727498,0.0005087513363936744,0.0003617958477129245,0.00022856264232636882],[0.00019128090275384937,0.00020883013051430232,0.000332129093750081,0.0004916005689107753,0.0006780012419645698,0.0010178191682001523,0.0015889007023860463,0.002406586150950113,0.0033008812336242847,0.004099342038091549,0.004659245615778464,0.0047667458427950605,0.004341223963836214,0.003632659488854094,0.0028710498893741057,0.00206305998911271,0.0014397953384934627,0.0010370573930606273,0.0007409299411225553,0.0004549984608292634,0.00028299545346866976],[0.00021806557965542677,0.00026998858314953786,0.00039621727956231484,0.0005855497941302618,0.0009143356853705497,0.0013695593501513287,0.002260491428747446,0.0036329505061551415,0.005404361428274258,0.007305264046444816,0.008665207055923472,0.009015224155244824,0.008228471744790793,0.006565855023216553,0.004777303693371811,0.0032808389728350303,0.0021562475094155566,0.001409539111136142,0.0009280496660627268,0.0005468271234236068,0.00038332586998157984],[0.0002542774268484211,0.0003148392066576254,0.0005062842279344761,0.0007680143922438919,0.0011477267956241384,0.0018722380613904275,0.0032733954418098466,0.005485521113876539,0.008366343165349075,0.011427137571303467,0.013827768236228728,0.014670276921639443,0.013444659089119798,0.010435481372060235,0.006942933373574886,0.004398059017456507,0.002776086767807319,0.0017309242492327505,0.0011162455321263947,0.0006101192018284851,0.00040729531031334344],[0.00030623763929924744,0.0003897072204263576,0.000560548721169705,0.0008267846686842864,0.0013230917444145708,0.0024272718770516036,0.004503875295279313,0.007846327013525526,0.011948874216024984,0.01596946184080572,0.0191128785085075,0.020146130680334717,0.01814887341572509,0.013628976605733088,0.008511873491371,0.004968664643023104,0.003003541999120744,0.0017895330378418554,0.0011464092994144025,0.0006399402675379735,0.0004087491981897908],[0.00032487012145412995,0.0004731241200268903,0.0006105097712333087,0.000842842175417472,0.0014752419597662593,0.0029495612957211098,0.0056436278239679295,0.010048895443698823,0.015268371516056633,0.019925887970323297,0.023056513425220037,0.02348413501454757,0.020367580578286,0.014614176365205114,0.008726838425074464,0.00485769506317592,0.002803983826150551,0.001647112212690783,0.0010224019978595938,0.0006373734408448191,0.0004691409498450387],[0.00030944931244151195,0.000476033331128678,0.000677786460546412,0.0009639155030818106,0.0015959382221606242,0.0032023291628138968,0.006226857838349737,0.011147174101627164,0.016608192800911872,0.021112390557426895,0.023505704091615932,0.022899199354646634,0.01909506165212702,0.013265650026920678,0.00781341352995064,0.004346617639649379,0.0024589405952520895,0.0014721982114829749,0.0009015023657807223,0.0006068358042976453,0.00045728769680373766],[0.0002915317737985148,0.00043036435432246365,0.0006713201957277485,0.001021890595599159,0.0015809729571169648,0.002996149279040004,0.005726252592974251,0.010045750155105745,0.014594490991348569,0.018139524570003743,0.01957071922164525,0.018343884780606938,0.01487658435033616,0.010315898129888649,0.006272690316744788,0.0036214387386344824,0.0020990664566403845,0.00131401261390947,0.0008077543396906431,0.0005303182236384506,0.00034237757517535547],[0.00026114744102604894,0.000401652326300346,0.0006224663102003655,0.000925127837845156,0.001405762964228293,0.0024726447712432394,0.004324518039529643,0.007065844638391679,0.01012091308736783,0.012443301917159167,0.013174154997116803,0.012075327363074278,0.009694882257530896,0.006920485459711301,0.004447509082464945,0.0027242473926909466,0.0016547777908687124,0.001118128672667704,0.0007214806864060097,0.00043464638478517433,0.0003150908375372713],[0.00019000461113117235,0.00038728075161631345,0.0005758660929895035,0.0007611051380803201,0.0011514190081174883,0.0018700386347144677,0.002917670659452054,0.0042934564908583,0.005792318469768945,0.006911611438363479,0.007270164177363382,0.006703198385864135,0.005550891994908441,0.0042626479497968614,0.0029485018896380126,0.0019799660166341815,0.0012933319197430794,0.0008510281194286956,0.000622861412523021,0.0003944177600547413,0.0003228479278427707],[0.00019675925263809433,0.00036891215683380185,0.00046232415565048844,0.0005621575598160533,0.0008693787242651841,0.0013138758864445945,0.0019196800120247805,0.0026406294023249384,0.0031536831305361336,0.0034552721538026526,0.003653582538868889,0.0036040606148957143,0.0031698151950975157,0.00251507091544113,0.0019056907464898988,0.0014209571747571597,0.0010083143851287266,0.0006401037927066777,0.0004867584261588315,0.0003849633644483035,0.00023190080630454022],[0.00019290690981713603,0.0002644125568544306,0.00031012207461292014,0.0004420260670687674,0.0006879505982237566,0.0009294667680952628,0.0012963244557347893,0.0016684551391761315,0.0019278192855529724,0.0020575544249842484,0.00206491723274964,0.0020008935645041193,0.0018464221543464097,0.001548068103454171,0.0012363468981248728,0.0009991461149873023,0.0007135161065430642,0.0005441307716873661,0.0004022694568036137,0.0003395414779144928,0.00028050326426751015],[0.00018653269939506172,0.0001599214518352692,0.00022627970414680574,0.0003267492902556725,0.0004413834404814424,0.0006363590792332301,0.0008710318154106325,0.0010406599671513332,0.0011683151971330125,0.0011959699045856263,0.0012395862476089314,0.0012528168350413706,0.001126316311384825,0.0009513081303891892,0.0008004520771307449,0.0007315190984984159,0.0005599751065185338,0.0004449551774104708,0.000279965635902661,0.0002237700415550079,0.00018902599517435536],[0.0001778428159912624,0.00019320041088759427,0.00025992846334775083,0.0002994155488809445,0.0002730627809151991,0.00042642483727157977,0.00058896300259953,0.0006928359272446594,0.0007267558767582983,0.0007627131171212869,0.000825340280005657,0.0007978344693318323,0.0006886955460979448,0.0006346550604262054,0.0005945043361052757,0.0005118291604090926,0.0004632273108515982,0.00035786405072852425,0.0002113083409789051,0.00014111568146827255,0.0001321419817891958],[0.00014877809146581546,0.00014159066655940856,0.0001817822057360695,0.0002239540189083813,0.00025497034687223344,0.0003083181288756724,0.00033517940363626575,0.0004383851903978222,0.00047270423245292524,0.0004656361051188692,0.0005361522697462789,0.0005642962698632611,0.00048416872645018575,0.0004473560380028399,0.0004087868225194007,0.0002602627995881642,0.00026330431529362114,0.00024101762232631103,0.00013152239622405925,0.00016874213649494931,0.00017107087037513156],[0.0001334155720848673,0.00015766562469065123,9.793474220235184e-05,0.00011554651106431078,0.0001435392164654766,0.00021202547787076712,0.00020116646667873916,0.00023751850919850672,0.000293014308573723,0.00035470969729232033,0.0003630528878595815,0.00037239746344717626,0.00040068749490094606,0.00035280568764492135,0.0002717592983705271,0.00020114965426157024,0.00022930159442384492,0.00018495300373559675,0.0001241838134997721,0.00014080433541092743,8.86954492987125e-05]],\"type\":\"heatmap\",\"xaxis\":\"x\",\"yaxis\":\"y\",\"hovertemplate\":\"x: %{x}\\u003cbr\\u003ey: %{y}\\u003cbr\\u003ecolor: %{z}\\u003cextra\\u003e\\u003c\\u002fextra\\u003e\"}],                        {\"template\":{\"data\":{\"histogram2dcontour\":[{\"type\":\"histogram2dcontour\",\"colorbar\":{\"outlinewidth\":0,\"ticks\":\"\"},\"colorscale\":[[0.0,\"#0d0887\"],[0.1111111111111111,\"#46039f\"],[0.2222222222222222,\"#7201a8\"],[0.3333333333333333,\"#9c179e\"],[0.4444444444444444,\"#bd3786\"],[0.5555555555555556,\"#d8576b\"],[0.6666666666666666,\"#ed7953\"],[0.7777777777777778,\"#fb9f3a\"],[0.8888888888888888,\"#fdca26\"],[1.0,\"#f0f921\"]]}],\"choropleth\":[{\"type\":\"choropleth\",\"colorbar\":{\"outlinewidth\":0,\"ticks\":\"\"}}],\"histogram2d\":[{\"type\":\"histogram2d\",\"colorbar\":{\"outlinewidth\":0,\"ticks\":\"\"},\"colorscale\":[[0.0,\"#0d0887\"],[0.1111111111111111,\"#46039f\"],[0.2222222222222222,\"#7201a8\"],[0.3333333333333333,\"#9c179e\"],[0.4444444444444444,\"#bd3786\"],[0.5555555555555556,\"#d8576b\"],[0.6666666666666666,\"#ed7953\"],[0.7777777777777778,\"#fb9f3a\"],[0.8888888888888888,\"#fdca26\"],[1.0,\"#f0f921\"]]}],\"heatmap\":[{\"type\":\"heatmap\",\"colorbar\":{\"outlinewidth\":0,\"ticks\":\"\"},\"colorscale\":[[0.0,\"#0d0887\"],[0.1111111111111111,\"#46039f\"],[0.2222222222222222,\"#7201a8\"],[0.3333333333333333,\"#9c179e\"],[0.4444444444444444,\"#bd3786\"],[0.5555555555555556,\"#d8576b\"],[0.6666666666666666,\"#ed7953\"],[0.7777777777777778,\"#fb9f3a\"],[0.8888888888888888,\"#fdca26\"],[1.0,\"#f0f921\"]]}],\"heatmapgl\":[{\"type\":\"heatmapgl\",\"colorbar\":{\"outlinewidth\":0,\"ticks\":\"\"},\"colorscale\":[[0.0,\"#0d0887\"],[0.1111111111111111,\"#46039f\"],[0.2222222222222222,\"#7201a8\"],[0.3333333333333333,\"#9c179e\"],[0.4444444444444444,\"#bd3786\"],[0.5555555555555556,\"#d8576b\"],[0.6666666666666666,\"#ed7953\"],[0.7777777777777778,\"#fb9f3a\"],[0.8888888888888888,\"#fdca26\"],[1.0,\"#f0f921\"]]}],\"contourcarpet\":[{\"type\":\"contourcarpet\",\"colorbar\":{\"outlinewidth\":0,\"ticks\":\"\"}}],\"contour\":[{\"type\":\"contour\",\"colorbar\":{\"outlinewidth\":0,\"ticks\":\"\"},\"colorscale\":[[0.0,\"#0d0887\"],[0.1111111111111111,\"#46039f\"],[0.2222222222222222,\"#7201a8\"],[0.3333333333333333,\"#9c179e\"],[0.4444444444444444,\"#bd3786\"],[0.5555555555555556,\"#d8576b\"],[0.6666666666666666,\"#ed7953\"],[0.7777777777777778,\"#fb9f3a\"],[0.8888888888888888,\"#fdca26\"],[1.0,\"#f0f921\"]]}],\"surface\":[{\"type\":\"surface\",\"colorbar\":{\"outlinewidth\":0,\"ticks\":\"\"},\"colorscale\":[[0.0,\"#0d0887\"],[0.1111111111111111,\"#46039f\"],[0.2222222222222222,\"#7201a8\"],[0.3333333333333333,\"#9c179e\"],[0.4444444444444444,\"#bd3786\"],[0.5555555555555556,\"#d8576b\"],[0.6666666666666666,\"#ed7953\"],[0.7777777777777778,\"#fb9f3a\"],[0.8888888888888888,\"#fdca26\"],[1.0,\"#f0f921\"]]}],\"mesh3d\":[{\"type\":\"mesh3d\",\"colorbar\":{\"outlinewidth\":0,\"ticks\":\"\"}}],\"scatter\":[{\"fillpattern\":{\"fillmode\":\"overlay\",\"size\":10,\"solidity\":0.2},\"type\":\"scatter\"}],\"parcoords\":[{\"type\":\"parcoords\",\"line\":{\"colorbar\":{\"outlinewidth\":0,\"ticks\":\"\"}}}],\"scatterpolargl\":[{\"type\":\"scatterpolargl\",\"marker\":{\"colorbar\":{\"outlinewidth\":0,\"ticks\":\"\"}}}],\"bar\":[{\"error_x\":{\"color\":\"#2a3f5f\"},\"error_y\":{\"color\":\"#2a3f5f\"},\"marker\":{\"line\":{\"color\":\"#E5ECF6\",\"width\":0.5},\"pattern\":{\"fillmode\":\"overlay\",\"size\":10,\"solidity\":0.2}},\"type\":\"bar\"}],\"scattergeo\":[{\"type\":\"scattergeo\",\"marker\":{\"colorbar\":{\"outlinewidth\":0,\"ticks\":\"\"}}}],\"scatterpolar\":[{\"type\":\"scatterpolar\",\"marker\":{\"colorbar\":{\"outlinewidth\":0,\"ticks\":\"\"}}}],\"histogram\":[{\"marker\":{\"pattern\":{\"fillmode\":\"overlay\",\"size\":10,\"solidity\":0.2}},\"type\":\"histogram\"}],\"scattergl\":[{\"type\":\"scattergl\",\"marker\":{\"colorbar\":{\"outlinewidth\":0,\"ticks\":\"\"}}}],\"scatter3d\":[{\"type\":\"scatter3d\",\"line\":{\"colorbar\":{\"outlinewidth\":0,\"ticks\":\"\"}},\"marker\":{\"colorbar\":{\"outlinewidth\":0,\"ticks\":\"\"}}}],\"scattermapbox\":[{\"type\":\"scattermapbox\",\"marker\":{\"colorbar\":{\"outlinewidth\":0,\"ticks\":\"\"}}}],\"scatterternary\":[{\"type\":\"scatterternary\",\"marker\":{\"colorbar\":{\"outlinewidth\":0,\"ticks\":\"\"}}}],\"scattercarpet\":[{\"type\":\"scattercarpet\",\"marker\":{\"colorbar\":{\"outlinewidth\":0,\"ticks\":\"\"}}}],\"carpet\":[{\"aaxis\":{\"endlinecolor\":\"#2a3f5f\",\"gridcolor\":\"white\",\"linecolor\":\"white\",\"minorgridcolor\":\"white\",\"startlinecolor\":\"#2a3f5f\"},\"baxis\":{\"endlinecolor\":\"#2a3f5f\",\"gridcolor\":\"white\",\"linecolor\":\"white\",\"minorgridcolor\":\"white\",\"startlinecolor\":\"#2a3f5f\"},\"type\":\"carpet\"}],\"table\":[{\"cells\":{\"fill\":{\"color\":\"#EBF0F8\"},\"line\":{\"color\":\"white\"}},\"header\":{\"fill\":{\"color\":\"#C8D4E3\"},\"line\":{\"color\":\"white\"}},\"type\":\"table\"}],\"barpolar\":[{\"marker\":{\"line\":{\"color\":\"#E5ECF6\",\"width\":0.5},\"pattern\":{\"fillmode\":\"overlay\",\"size\":10,\"solidity\":0.2}},\"type\":\"barpolar\"}],\"pie\":[{\"automargin\":true,\"type\":\"pie\"}]},\"layout\":{\"autotypenumbers\":\"strict\",\"colorway\":[\"#636efa\",\"#EF553B\",\"#00cc96\",\"#ab63fa\",\"#FFA15A\",\"#19d3f3\",\"#FF6692\",\"#B6E880\",\"#FF97FF\",\"#FECB52\"],\"font\":{\"color\":\"#2a3f5f\"},\"hovermode\":\"closest\",\"hoverlabel\":{\"align\":\"left\"},\"paper_bgcolor\":\"white\",\"plot_bgcolor\":\"#E5ECF6\",\"polar\":{\"bgcolor\":\"#E5ECF6\",\"angularaxis\":{\"gridcolor\":\"white\",\"linecolor\":\"white\",\"ticks\":\"\"},\"radialaxis\":{\"gridcolor\":\"white\",\"linecolor\":\"white\",\"ticks\":\"\"}},\"ternary\":{\"bgcolor\":\"#E5ECF6\",\"aaxis\":{\"gridcolor\":\"white\",\"linecolor\":\"white\",\"ticks\":\"\"},\"baxis\":{\"gridcolor\":\"white\",\"linecolor\":\"white\",\"ticks\":\"\"},\"caxis\":{\"gridcolor\":\"white\",\"linecolor\":\"white\",\"ticks\":\"\"}},\"coloraxis\":{\"colorbar\":{\"outlinewidth\":0,\"ticks\":\"\"}},\"colorscale\":{\"sequential\":[[0.0,\"#0d0887\"],[0.1111111111111111,\"#46039f\"],[0.2222222222222222,\"#7201a8\"],[0.3333333333333333,\"#9c179e\"],[0.4444444444444444,\"#bd3786\"],[0.5555555555555556,\"#d8576b\"],[0.6666666666666666,\"#ed7953\"],[0.7777777777777778,\"#fb9f3a\"],[0.8888888888888888,\"#fdca26\"],[1.0,\"#f0f921\"]],\"sequentialminus\":[[0.0,\"#0d0887\"],[0.1111111111111111,\"#46039f\"],[0.2222222222222222,\"#7201a8\"],[0.3333333333333333,\"#9c179e\"],[0.4444444444444444,\"#bd3786\"],[0.5555555555555556,\"#d8576b\"],[0.6666666666666666,\"#ed7953\"],[0.7777777777777778,\"#fb9f3a\"],[0.8888888888888888,\"#fdca26\"],[1.0,\"#f0f921\"]],\"diverging\":[[0,\"#8e0152\"],[0.1,\"#c51b7d\"],[0.2,\"#de77ae\"],[0.3,\"#f1b6da\"],[0.4,\"#fde0ef\"],[0.5,\"#f7f7f7\"],[0.6,\"#e6f5d0\"],[0.7,\"#b8e186\"],[0.8,\"#7fbc41\"],[0.9,\"#4d9221\"],[1,\"#276419\"]]},\"xaxis\":{\"gridcolor\":\"white\",\"linecolor\":\"white\",\"ticks\":\"\",\"title\":{\"standoff\":15},\"zerolinecolor\":\"white\",\"automargin\":true,\"zerolinewidth\":2},\"yaxis\":{\"gridcolor\":\"white\",\"linecolor\":\"white\",\"ticks\":\"\",\"title\":{\"standoff\":15},\"zerolinecolor\":\"white\",\"automargin\":true,\"zerolinewidth\":2},\"scene\":{\"xaxis\":{\"backgroundcolor\":\"#E5ECF6\",\"gridcolor\":\"white\",\"linecolor\":\"white\",\"showbackground\":true,\"ticks\":\"\",\"zerolinecolor\":\"white\",\"gridwidth\":2},\"yaxis\":{\"backgroundcolor\":\"#E5ECF6\",\"gridcolor\":\"white\",\"linecolor\":\"white\",\"showbackground\":true,\"ticks\":\"\",\"zerolinecolor\":\"white\",\"gridwidth\":2},\"zaxis\":{\"backgroundcolor\":\"#E5ECF6\",\"gridcolor\":\"white\",\"linecolor\":\"white\",\"showbackground\":true,\"ticks\":\"\",\"zerolinecolor\":\"white\",\"gridwidth\":2}},\"shapedefaults\":{\"line\":{\"color\":\"#2a3f5f\"}},\"annotationdefaults\":{\"arrowcolor\":\"#2a3f5f\",\"arrowhead\":0,\"arrowwidth\":1},\"geo\":{\"bgcolor\":\"white\",\"landcolor\":\"#E5ECF6\",\"subunitcolor\":\"white\",\"showland\":true,\"showlakes\":true,\"lakecolor\":\"white\"},\"title\":{\"x\":0.05},\"mapbox\":{\"style\":\"light\"}}},\"xaxis\":{\"anchor\":\"y\",\"domain\":[0.0,1.0],\"scaleanchor\":\"y\",\"constrain\":\"domain\"},\"yaxis\":{\"anchor\":\"x\",\"domain\":[0.0,1.0],\"autorange\":\"reversed\",\"constrain\":\"domain\"},\"coloraxis\":{\"colorscale\":[[0.0,\"#0d0887\"],[0.1111111111111111,\"#46039f\"],[0.2222222222222222,\"#7201a8\"],[0.3333333333333333,\"#9c179e\"],[0.4444444444444444,\"#bd3786\"],[0.5555555555555556,\"#d8576b\"],[0.6666666666666666,\"#ed7953\"],[0.7777777777777778,\"#fb9f3a\"],[0.8888888888888888,\"#fdca26\"],[1.0,\"#f0f921\"]]},\"margin\":{\"t\":60}},                        {\"responsive\": true}                    ).then(function(){\n",
       "                            \n",
       "var gd = document.getElementById('3c668523-71f8-4f42-a3da-cbab2004c6a7');\n",
       "var x = new MutationObserver(function (mutations, observer) {{\n",
       "        var display = window.getComputedStyle(gd).display;\n",
       "        if (!display || display === 'none') {{\n",
       "            console.log([gd, 'removed!']);\n",
       "            Plotly.purge(gd);\n",
       "            observer.disconnect();\n",
       "        }}\n",
       "}});\n",
       "\n",
       "// Listen for the removal of the full notebook cells\n",
       "var notebookContainer = gd.closest('#notebook-container');\n",
       "if (notebookContainer) {{\n",
       "    x.observe(notebookContainer, {childList: true});\n",
       "}}\n",
       "\n",
       "// Listen for the clearing of the current output cell\n",
       "var outputEl = gd.closest('.output');\n",
       "if (outputEl) {{\n",
       "    x.observe(outputEl, {childList: true});\n",
       "}}\n",
       "\n",
       "                        })                };                });            </script>        </div>"
      ]
     },
     "metadata": {},
     "output_type": "display_data"
    }
   ],
   "source": [
    "psf_plot = px.imshow(psf_hdu[0].data, aspect='equal')\n",
    "psf_plot.show()"
   ]
  },
  {
   "cell_type": "code",
   "execution_count": 6,
   "id": "4da1a5cb-cd7f-4151-b0db-167ac3fadaf2",
   "metadata": {},
   "outputs": [],
   "source": [
    "from psf_wrench import PSFSplineModel"
   ]
  },
  {
   "cell_type": "code",
   "execution_count": 64,
   "id": "75b4220f-f67f-4101-bc5b-e6f17fadfefd",
   "metadata": {},
   "outputs": [],
   "source": [
    "m = PSFSplineModel(hdu['SCI'].data, stamp_size=20, oversampling=10, spline_order=2, alignment_order=1)\n",
    "m.fit(smoothing=0,  detect_sigma=10)"
   ]
  },
  {
   "cell_type": "code",
   "execution_count": 36,
   "id": "7a26fe9b-f307-4620-9f18-05222cf18f2f",
   "metadata": {},
   "outputs": [],
   "source": [
    "x_center, y_center = 2193, 2140\n",
    "half_width=15\n",
    "cutout_slice = slice(y_center - half_width, y_center + half_width), slice(x_center - half_width, x_center + half_width)\n",
    "star_cutout = hdu['SCI'].data[cutout_slice]\n",
    "star_cutout -= np.median(star_cutout)\n",
    "cutout_error = hdu['ERR'].data[cutout_slice]"
   ]
  },
  {
   "cell_type": "code",
   "execution_count": 37,
   "id": "89877e8f-da4e-4dcb-a9e5-a7de14ab5957",
   "metadata": {},
   "outputs": [
    {
     "data": {
      "application/vnd.plotly.v1+json": {
       "config": {
        "plotlyServerURL": "https://plot.ly"
       },
       "data": [
        {
         "coloraxis": "coloraxis",
         "hovertemplate": "x: %{x}<br>y: %{y}<br>color: %{z}<extra></extra>",
         "name": "0",
         "type": "heatmap",
         "xaxis": "x",
         "yaxis": "y",
         "z": [
          [
           -0.30022507905960083,
           -0.24191313982009888,
           -0.1705566644668579,
           -0.2921755909919739,
           -0.23238730430603027,
           -0.34581100940704346,
           -0.08393079042434692,
           -0.03304475545883179,
           0.08668339252471924,
           -0.2554738521575928,
           -0.07973432540893555,
           -0.38960009813308716,
           -0.049046456813812256,
           -0.41774308681488037,
           0.06417882442474365,
           -0.2696787118911743,
           -0.16668790578842163,
           -0.29173558950424194,
           -0.10261720418930054,
           -0.3559895157814026,
           0.13240420818328857,
           -0.22238516807556152,
           -0.23154479265213013,
           -0.2194799780845642,
           -0.3177322745323181,
           -0.4199824333190918,
           -0.11947846412658691,
           -0.32707417011260986,
           -0.08585673570632935,
           -0.049223899841308594
          ],
          [
           0.06693553924560547,
           0.15951824188232422,
           0.06183469295501709,
           -0.30122435092926025,
           -0.11096948385238647,
           0.10682094097137451,
           -0.13533514738082886,
           -0.23596137762069702,
           0.06341004371643066,
           -0.05410259962081909,
           -0.1506447196006775,
           -0.2152099609375,
           -0.297238826751709,
           -0.12861472368240356,
           -0.30913805961608887,
           -0.064480721950531,
           0.15714192390441895,
           -0.34258949756622314,
           -0.22191846370697021,
           -0.07307428121566772,
           -0.2072533369064331,
           0.32860755920410156,
           -0.12034523487091064,
           -0.09725797176361084,
           -0.06705909967422485,
           0.028491854667663574,
           -0.15998363494873047,
           -0.13490909337997437,
           -0.1807968020439148,
           -0.2865784168243408
          ],
          [
           -0.13326364755630493,
           0.05951488018035889,
           -0.4771711230278015,
           0.013296961784362793,
           0.05738186836242676,
           -0.033293068408966064,
           0.01883077621459961,
           -0.5786503553390503,
           -0.09986847639083862,
           0.06225001811981201,
           -0.31497722864151,
           -0.17906099557876587,
           -0.40787047147750854,
           -0.35039663314819336,
           -0.07396453619003296,
           -0.3663381338119507,
           -0.15056729316711426,
           -0.5016615390777588,
           -0.23731935024261475,
           -0.3890213966369629,
           -0.6851660013198853,
           0.08184576034545898,
           -0.13760048151016235,
           -0.10675352811813354,
           -0.41562390327453613,
           -0.049581825733184814,
           -0.3933464288711548,
           -0.24724245071411133,
           0.054981231689453125,
           -0.6149212121963501
          ],
          [
           -0.03855240345001221,
           -0.22448068857192993,
           0.12908470630645752,
           -0.2119377851486206,
           -0.42501306533813477,
           -0.2443751096725464,
           -0.28324079513549805,
           0.11250972747802734,
           0.03539848327636719,
           -0.3930552005767822,
           -0.24154579639434814,
           -0.3006748557090759,
           0.035647034645080566,
           -0.3407869338989258,
           -0.2148405909538269,
           -0.12992489337921143,
           -0.19876325130462646,
           -0.3085672855377197,
           -0.4421488046646118,
           -0.1650417447090149,
           -0.04139983654022217,
           -0.2358623743057251,
           -0.33227819204330444,
           -0.057572364807128906,
           -0.008832097053527832,
           -0.20301836729049683,
           -0.5607993602752686,
           -0.12997621297836304,
           -0.37464457750320435,
           -0.2499384880065918
          ],
          [
           -0.19243556261062622,
           -0.2805873155593872,
           0.08878874778747559,
           -0.1433851718902588,
           -0.0902090072631836,
           -0.034134864807128906,
           -0.29202961921691895,
           -0.16910040378570557,
           -0.2139127254486084,
           -0.09060662984848022,
           -0.3312828540802002,
           -0.00140458345413208,
           0.14715898036956787,
           -0.12442553043365479,
           -0.14872604608535767,
           -0.1654045581817627,
           -0.27419447898864746,
           0.02983248233795166,
           0.0743865966796875,
           -0.45011377334594727,
           -0.07164984941482544,
           -0.4379531145095825,
           -0.22437340021133423,
           -0.0771864652633667,
           -0.2481985092163086,
           -0.26650720834732056,
           -0.02196723222732544,
           0.007892251014709473,
           0.11571168899536133,
           -0.12611812353134155
          ],
          [
           0.00820302963256836,
           -0.07692587375640869,
           0.24607324600219727,
           -0.3259585499763489,
           0.030541419982910156,
           -0.2592323422431946,
           -0.11220318078994751,
           -0.1648697853088379,
           -0.2593056559562683,
           -0.3746994733810425,
           -0.19025969505310059,
           -0.16825562715530396,
           -0.2925225496292114,
           -0.17761707305908203,
           0.1071709394454956,
           -0.46481794118881226,
           -0.21969783306121826,
           0.06633460521697998,
           -0.18029910326004028,
           -0.14509105682373047,
           0.11501407623291016,
           -0.2558751106262207,
           0.178855299949646,
           -0.18426549434661865,
           0.03406071662902832,
           -0.15212178230285645,
           -0.47395098209381104,
           0.0023958683013916016,
           -0.044170379638671875,
           -0.5974682569503784
          ],
          [
           -0.11721998453140259,
           -0.2621736526489258,
           -0.2343418002128601,
           -0.25001758337020874,
           -0.17871558666229248,
           -0.22483962774276733,
           -0.0973396897315979,
           -0.32055550813674927,
           0.007899761199951172,
           0.03968024253845215,
           -0.09032595157623291,
           0.14384329319000244,
           -0.26109057664871216,
           0.08866918087005615,
           0.20605385303497314,
           0.3466542959213257,
           0.372702956199646,
           0.051186442375183105,
           0.5037297010421753,
           -0.04212576150894165,
           -0.2556130290031433,
           0.4089008569717407,
           0.07203936576843262,
           -0.21523535251617432,
           -0.29170405864715576,
           -0.4783989191055298,
           -0.3373720645904541,
           -0.43445712327957153,
           -0.004824697971343994,
           -0.2593570351600647
          ],
          [
           -0.10680282115936279,
           -0.35349828004837036,
           0.02731037139892578,
           -0.17295396327972412,
           -0.14685708284378052,
           -0.0520176887512207,
           -0.5129342079162598,
           -0.10986220836639404,
           -0.045358896255493164,
           -0.24002432823181152,
           0.25976884365081787,
           0.19159889221191406,
           0.2702822685241699,
           0.19089913368225098,
           0.019057869911193848,
           0.47586071491241455,
           0.4016537666320801,
           0.28770577907562256,
           0.2313680648803711,
           0.045638442039489746,
           0.0999155044555664,
           0.08988809585571289,
           -0.24861806631088257,
           -0.2772088646888733,
           -0.3861483931541443,
           -0.15751081705093384,
           -0.13684439659118652,
           0.03984498977661133,
           -0.14140963554382324,
           -0.2580532431602478
          ],
          [
           0.09147536754608154,
           -0.28258877992630005,
           -0.3090721368789673,
           0.043796420097351074,
           -0.2778891921043396,
           -0.06078237295150757,
           -0.03388434648513794,
           -0.1266237497329712,
           0.3755683898925781,
           0.3538433313369751,
           0.2646803855895996,
           0.1339048147201538,
           0.28750181198120117,
           0.8344604969024658,
           0.3670046329498291,
           0.5283039808273315,
           0.29566752910614014,
           0.22784781455993652,
           0.43101072311401367,
           0.2798522710800171,
           0.4620997905731201,
           0.7267537117004395,
           -0.06166958808898926,
           0.1494818925857544,
           -0.006671726703643799,
           -0.2335948944091797,
           -0.06220507621765137,
           -0.3282296657562256,
           0.04184567928314209,
           0.11859738826751709
          ],
          [
           -0.3099653720855713,
           0.18373966217041016,
           0.18116331100463867,
           0.2166001796722412,
           0.1280992031097412,
           -0.26070350408554077,
           -0.23706310987472534,
           -0.013676941394805908,
           -0.09319800138473511,
           0.22879743576049805,
           0.7936136722564697,
           0.4561314582824707,
           0.7425315380096436,
           1.0773084163665771,
           1.1953041553497314,
           1.2792954444885254,
           1.3762128353118896,
           1.3518879413604736,
           0.8994708061218262,
           0.960721492767334,
           0.7763850688934326,
           0.3879680633544922,
           0.3083653450012207,
           0.1373298168182373,
           -0.06951040029525757,
           -0.219943106174469,
           -0.06411540508270264,
           0.364345908164978,
           -0.2427842617034912,
           -0.273453950881958
          ],
          [
           -0.3034150004386902,
           0.020504117012023926,
           -0.33415043354034424,
           0.26706111431121826,
           0.05717349052429199,
           -0.03209030628204346,
           -0.32266366481781006,
           0.09401857852935791,
           0.3226203918457031,
           0.406009316444397,
           0.6569894552230835,
           1.1826212406158447,
           1.7128593921661377,
           2.3179311752319336,
           2.5597341060638428,
           2.534402370452881,
           2.646123170852661,
           1.8953251838684082,
           2.0971364974975586,
           1.4005556106567383,
           1.028320550918579,
           0.9894132614135742,
           0.34356236457824707,
           0.1384570598602295,
           0.07236301898956299,
           0.11910152435302734,
           -0.3931465148925781,
           0.09737980365753174,
           -0.49656927585601807,
           0.0826801061630249
          ],
          [
           -0.16141754388809204,
           -0.15823030471801758,
           0.019468307495117188,
           -0.14637380838394165,
           -0.2972968816757202,
           0.11247503757476807,
           0.3766270875930786,
           0.4086892604827881,
           0.36148858070373535,
           1.26924467086792,
           0.6238846778869629,
           2.293938159942627,
           3.0434885025024414,
           4.633354187011719,
           5.586528778076172,
           4.966434955596924,
           5.118898391723633,
           5.296859264373779,
           4.485610008239746,
           2.8524491786956787,
           2.041367769241333,
           1.4934239387512207,
           0.6048791408538818,
           0.3189725875854492,
           0.009044289588928223,
           0.2011793851852417,
           0.0021948814392089844,
           -0.23419839143753052,
           0.023290157318115234,
           0.04708850383758545
          ],
          [
           -0.43575483560562134,
           -0.3829474449157715,
           -0.0807146430015564,
           -0.18563807010650635,
           0.03455674648284912,
           -0.056227684020996094,
           0.370932936668396,
           0.20710527896881104,
           0.5578279495239258,
           0.6596088409423828,
           1.642411231994629,
           3.15065336227417,
           5.297778606414795,
           7.936079025268555,
           9.468037605285645,
           11.293801307678223,
           11.569235801696777,
           10.730501174926758,
           8.141242980957031,
           5.543015956878662,
           3.3242149353027344,
           2.0172781944274902,
           0.8079046010971069,
           0.3556331396102905,
           0.2268754243850708,
           0.016759872436523438,
           -0.06385505199432373,
           0.046704769134521484,
           -0.3581400513648987,
           -0.5101306438446045
          ],
          [
           -0.4119985103607178,
           0.0019582509994506836,
           0.05675399303436279,
           -0.2914844751358032,
           -0.14053595066070557,
           0.2083646059036255,
           -0.05308818817138672,
           0.6513888835906982,
           0.35114359855651855,
           1.101355791091919,
           2.3381683826446533,
           4.597368240356445,
           7.603082656860352,
           12.702402114868164,
           16.261659622192383,
           20.04059600830078,
           21.221385955810547,
           18.409360885620117,
           11.600334167480469,
           7.31611442565918,
           4.224213600158691,
           2.256390333175659,
           1.6474826335906982,
           0.6862783432006836,
           0.305730938911438,
           0.258617639541626,
           -0.13648730516433716,
           -0.33407533168792725,
           -0.4283956289291382,
           -0.42997175455093384
          ],
          [
           -0.08340334892272949,
           -0.01947683095932007,
           -0.2546842098236084,
           -0.3933714032173157,
           -0.1618025302886963,
           0.4292714595794678,
           0.39836275577545166,
           0.15999960899353027,
           0.6973680257797241,
           1.5481510162353516,
           2.6896848678588867,
           5.8011088371276855,
           11.108827590942383,
           16.790325164794922,
           23.624162673950195,
           28.97511863708496,
           28.604707717895508,
           22.938886642456055,
           13.998745918273926,
           6.826594829559326,
           3.751296043395996,
           2.0800955295562744,
           1.302236557006836,
           0.30597198009490967,
           0.1069478988647461,
           0.39501965045928955,
           0.10550713539123535,
           0.11945998668670654,
           -0.030572831630706787,
           -0.10632967948913574
          ],
          [
           -0.10489857196807861,
           0.09324216842651367,
           -0.14883053302764893,
           -0.17531728744506836,
           0.06058359146118164,
           -0.06147289276123047,
           0.529075026512146,
           0.5120224952697754,
           0.8393357992172241,
           1.7617480754852295,
           3.6799139976501465,
           7.482361793518066,
           14.043554306030273,
           22.475488662719727,
           28.878679275512695,
           33.686370849609375,
           33.10853958129883,
           22.871017456054688,
           12.503255844116211,
           6.354394435882568,
           3.1860618591308594,
           1.8727800846099854,
           1.0123913288116455,
           0.28951871395111084,
           -0.10210990905761719,
           0.3395266532897949,
           0.13129830360412598,
           -0.13216906785964966,
           -0.15149235725402832,
           -0.13742685317993164
          ],
          [
           -0.5842946767807007,
           -0.34089064598083496,
           0.06885862350463867,
           0.2651458978652954,
           0.41161787509918213,
           0.08958888053894043,
           0.4020298719406128,
           0.5227090120315552,
           1.1857359409332275,
           2.249476432800293,
           3.5686473846435547,
           7.804658889770508,
           16.434728622436523,
           23.191171646118164,
           29.15340805053711,
           28.85422706604004,
           27.333391189575195,
           18.25206756591797,
           10.23579216003418,
           5.054567813873291,
           2.550893783569336,
           1.5785460472106934,
           0.7041206359863281,
           0.42440199851989746,
           0.020847439765930176,
           0.0028737783432006836,
           -0.18127375841140747,
           0.08371198177337646,
           -0.046114981174468994,
           -0.2835182547569275
          ],
          [
           -0.25161492824554443,
           -0.04289776086807251,
           -0.20064425468444824,
           -0.2771686315536499,
           0.019948124885559082,
           0.13449585437774658,
           0.4161992073059082,
           0.4954841136932373,
           1.375131607055664,
           1.957789421081543,
           3.6379776000976562,
           7.059907913208008,
           11.880498886108398,
           17.31022071838379,
           20.505661010742188,
           20.513093948364258,
           17.57047462463379,
           12.183738708496094,
           8.410273551940918,
           4.169894695281982,
           1.8535428047180176,
           1.4426379203796387,
           0.6821945905685425,
           0.45559895038604736,
           0.2861851453781128,
           -0.2697058916091919,
           0.0944373607635498,
           0.06002604961395264,
           -0.15482431650161743,
           -0.23725569248199463
          ],
          [
           -0.0809280276298523,
           -0.3017579913139343,
           -0.08116328716278076,
           -0.3783319592475891,
           0.04740297794342041,
           0.11750316619873047,
           0.1605745553970337,
           0.41464948654174805,
           0.9391093254089355,
           1.0099802017211914,
           2.8096275329589844,
           4.456538677215576,
           6.298582553863525,
           9.396417617797852,
           11.08473014831543,
           10.754315376281738,
           8.594792366027832,
           7.5886640548706055,
           4.7643723487854,
           3.1924538612365723,
           1.6009948253631592,
           0.9127360582351685,
           0.7498102188110352,
           0.3493664264678955,
           0.15862560272216797,
           -0.08426600694656372,
           -0.16683584451675415,
           -0.256273090839386,
           -0.27947908639907837,
           -0.05042850971221924
          ],
          [
           -0.22975754737854004,
           -0.11687570810317993,
           0.02446281909942627,
           0.09077417850494385,
           0.1654043197631836,
           -0.15304046869277954,
           0.3366892337799072,
           0.3019075393676758,
           0.39242637157440186,
           1.1307952404022217,
           1.3693575859069824,
           2.2269041538238525,
           3.9957032203674316,
           5.109915256500244,
           4.794450283050537,
           5.436054229736328,
           4.754559516906738,
           4.218769550323486,
           3.162137031555176,
           2.0815041065216064,
           1.3669250011444092,
           0.350955605506897,
           0.5584176778793335,
           0.17058908939361572,
           -0.012524843215942383,
           -0.010456681251525879,
           -0.06069660186767578,
           -0.24782150983810425,
           -0.15783929824829102,
           -0.23221135139465332
          ],
          [
           -0.14498978853225708,
           -0.3677360415458679,
           -0.03997170925140381,
           -0.420021116733551,
           -0.0007364153861999512,
           -0.1788228154182434,
           -0.07963895797729492,
           0.31513655185699463,
           0.38652288913726807,
           0.6640819311141968,
           1.1933417320251465,
           1.741779088973999,
           1.7816071510314941,
           2.5179405212402344,
           2.5336599349975586,
           2.78501296043396,
           2.4946115016937256,
           2.253692388534546,
           1.4911127090454102,
           1.5793192386627197,
           1.171032190322876,
           0.4336308240890503,
           0.45059657096862793,
           0.19659960269927979,
           -0.07491075992584229,
           -0.10061180591583252,
           -0.07230645418167114,
           -0.022293150424957275,
           -0.45135486125946045,
           -0.39436644315719604
          ],
          [
           -0.20212525129318237,
           -0.35201144218444824,
           -0.35448431968688965,
           -0.15327507257461548,
           0.014227747917175293,
           -0.11682695150375366,
           -0.25702571868896484,
           0.11248159408569336,
           0.10038602352142334,
           0.3725111484527588,
           0.6854978799819946,
           1.1539485454559326,
           0.9590468406677246,
           1.5184414386749268,
           1.2584800720214844,
           1.7233684062957764,
           1.9090185165405273,
           1.0210957527160645,
           0.7960183620452881,
           0.5154761075973511,
           0.6188949346542358,
           -0.12292826175689697,
           -0.006116092205047607,
           0.27826952934265137,
           0.18625032901763916,
           -0.15937012434005737,
           -0.04476708173751831,
           -0.3817483186721802,
           -0.22383683919906616,
           -0.12721234560012817
          ],
          [
           0.27197349071502686,
           0.22493219375610352,
           -0.361569344997406,
           -0.3734220266342163,
           -0.10676217079162598,
           -0.38728225231170654,
           0.026589274406433105,
           -0.25473976135253906,
           0.20307862758636475,
           0.35487568378448486,
           0.04252314567565918,
           0.49546992778778076,
           1.0256762504577637,
           0.5340938568115234,
           0.8915777206420898,
           1.173602819442749,
           0.627361536026001,
           0.6966568231582642,
           0.11708474159240723,
           0.7044765949249268,
           0.13994300365447998,
           -0.15429317951202393,
           -0.30382323265075684,
           -0.103912353515625,
           -0.14474093914031982,
           -0.06986755132675171,
           0.047840237617492676,
           -0.2573689818382263,
           -0.3062496781349182,
           -0.3664180636405945
          ],
          [
           0.01853930950164795,
           -0.11592036485671997,
           0.14441514015197754,
           -0.0685306191444397,
           -0.4469403028488159,
           -0.06301122903823853,
           -0.18021726608276367,
           -0.029019296169281006,
           -0.06714874505996704,
           0.20492196083068848,
           0.427282452583313,
           -0.0074312686920166016,
           0.6876064538955688,
           0.5238986015319824,
           0.5027129650115967,
           0.5616965293884277,
           0.6526280641555786,
           0.5049319267272949,
           0.29566264152526855,
           0.1664581298828125,
           -0.0017470121383666992,
           0.44813311100006104,
           -0.49969202280044556,
           -0.1360769271850586,
           0.03188943862915039,
           -0.5912017226219177,
           -0.33937788009643555,
           -0.2944020628929138,
           -0.24249619245529175,
           -0.3816378116607666
          ],
          [
           -0.14856266975402832,
           -0.17532473802566528,
           -0.32672637701034546,
           -0.24375975131988525,
           -0.2283596396446228,
           0.12189245223999023,
           -0.20054388046264648,
           0.06371581554412842,
           -0.12682408094406128,
           -0.013045966625213623,
           0.0914764404296875,
           -0.17791616916656494,
           0.0067032575607299805,
           0.25728631019592285,
           0.44926345348358154,
           0.30034732818603516,
           0.18055570125579834,
           0.16765093803405762,
           -0.08408540487289429,
           -0.004665553569793701,
           -0.14925992488861084,
           0.19992530345916748,
           0.0886683464050293,
           -0.24019914865493774,
           -0.14747881889343262,
           0.2547844648361206,
           -0.11437493562698364,
           0.052672624588012695,
           -0.08534163236618042,
           -0.21899819374084473
          ],
          [
           -0.30901622772216797,
           -0.31100302934646606,
           -0.14578896760940552,
           -0.16467541456222534,
           0.1396108865737915,
           -0.027087748050689697,
           -0.22992181777954102,
           -0.3117581605911255,
           0.0250626802444458,
           -0.02816307544708252,
           0.20810627937316895,
           -0.02974700927734375,
           -0.06980180740356445,
           -0.22416502237319946,
           0.2798808813095093,
           0.16576671600341797,
           0.29074418544769287,
           0.006651401519775391,
           -0.18676716089248657,
           0.20599126815795898,
           0.1172935962677002,
           -0.04811418056488037,
           0.03664875030517578,
           -0.28550732135772705,
           -0.10214561223983765,
           -0.16692346334457397,
           -0.3837658166885376,
           -0.2882489562034607,
           -0.3294166326522827,
           -0.24947738647460938
          ],
          [
           -0.24983084201812744,
           -0.02069193124771118,
           -0.2382412552833557,
           -0.051348984241485596,
           -0.24774682521820068,
           -0.31403452157974243,
           0.07619869709014893,
           -0.09521102905273438,
           -0.19381433725357056,
           -0.13484638929367065,
           0.07308840751647949,
           -0.17483621835708618,
           0.06864452362060547,
           0.12428128719329834,
           -0.04027754068374634,
           -0.24908053874969482,
           -0.2618560791015625,
           -0.007159292697906494,
           -0.29646652936935425,
           -0.16709178686141968,
           -0.14171671867370605,
           -0.3743884563446045,
           -0.31056225299835205,
           -0.6479743123054504,
           -0.11447906494140625,
           -0.09245473146438599,
           -0.3761862516403198,
           -0.5696758031845093,
           -0.3440747857093811,
           -0.1089354157447815
          ],
          [
           -0.3042823076248169,
           -0.13214653730392456,
           0.10351777076721191,
           -0.4070214033126831,
           0.15682661533355713,
           -0.16981571912765503,
           -0.09916740655899048,
           0.0007364749908447266,
           -0.2754061222076416,
           0.024040937423706055,
           -0.2759400010108948,
           -0.013914525508880615,
           -0.13246989250183105,
           -0.08199012279510498,
           -0.3280242681503296,
           0.022245407104492188,
           -0.10471165180206299,
           -0.24665212631225586,
           0.06042671203613281,
           0.04909849166870117,
           -0.05635881423950195,
           0.1397033929824829,
           -0.17672377824783325,
           -0.5194178819656372,
           0.5146138668060303,
           -0.6403790712356567,
           -0.26285576820373535,
           -0.3320534825325012,
           0.18504393100738525,
           0.055445075035095215
          ],
          [
           -0.21884918212890625,
           0.041475772857666016,
           -0.5375974178314209,
           0.19949400424957275,
           -0.025823116302490234,
           -0.19080603122711182,
           -0.30460792779922485,
           -0.2700023055076599,
           0.3169116973876953,
           -0.21954387426376343,
           -0.4567364454269409,
           -0.34045249223709106,
           -0.1418284773826599,
           0.06742095947265625,
           -0.06771957874298096,
           -0.09251528978347778,
           -0.2795373797416687,
           0.03923225402832031,
           0.10448074340820312,
           -0.4904480576515198,
           -0.030934512615203857,
           0.0021480321884155273,
           0.07097268104553223,
           -0.3931676745414734,
           -0.3592389225959778,
           -0.15364545583724976,
           -0.12290692329406738,
           -0.012052416801452637,
           -0.2412852644920349,
           -0.5169645547866821
          ],
          [
           0.18615198135375977,
           -0.3423328995704651,
           -0.23651152849197388,
           -0.4577218294143677,
           0.1538606882095337,
           -0.1528381109237671,
           0.024437665939331055,
           0.03080117702484131,
           -0.07133620977401733,
           0.1265120506286621,
           -0.3453441858291626,
           -0.3576785922050476,
           -0.14164161682128906,
           -0.12312805652618408,
           0.03199291229248047,
           0.11599552631378174,
           0.1502056121826172,
           -0.33764129877090454,
           -0.10842698812484741,
           -0.04740250110626221,
           0.13488709926605225,
           -0.2977697253227234,
           -0.21088272333145142,
           -0.47301822900772095,
           -0.4986935257911682,
           -0.1525149941444397,
           -0.4333101511001587,
           0.2222745418548584,
           -0.44677335023880005,
           -0.1275651454925537
          ]
         ]
        }
       ],
       "layout": {
        "autosize": true,
        "coloraxis": {
         "colorscale": [
          [
           0,
           "#0d0887"
          ],
          [
           0.1111111111111111,
           "#46039f"
          ],
          [
           0.2222222222222222,
           "#7201a8"
          ],
          [
           0.3333333333333333,
           "#9c179e"
          ],
          [
           0.4444444444444444,
           "#bd3786"
          ],
          [
           0.5555555555555556,
           "#d8576b"
          ],
          [
           0.6666666666666666,
           "#ed7953"
          ],
          [
           0.7777777777777778,
           "#fb9f3a"
          ],
          [
           0.8888888888888888,
           "#fdca26"
          ],
          [
           1,
           "#f0f921"
          ]
         ]
        },
        "margin": {
         "t": 60
        },
        "template": {
         "data": {
          "bar": [
           {
            "error_x": {
             "color": "#2a3f5f"
            },
            "error_y": {
             "color": "#2a3f5f"
            },
            "marker": {
             "line": {
              "color": "#E5ECF6",
              "width": 0.5
             },
             "pattern": {
              "fillmode": "overlay",
              "size": 10,
              "solidity": 0.2
             }
            },
            "type": "bar"
           }
          ],
          "barpolar": [
           {
            "marker": {
             "line": {
              "color": "#E5ECF6",
              "width": 0.5
             },
             "pattern": {
              "fillmode": "overlay",
              "size": 10,
              "solidity": 0.2
             }
            },
            "type": "barpolar"
           }
          ],
          "carpet": [
           {
            "aaxis": {
             "endlinecolor": "#2a3f5f",
             "gridcolor": "white",
             "linecolor": "white",
             "minorgridcolor": "white",
             "startlinecolor": "#2a3f5f"
            },
            "baxis": {
             "endlinecolor": "#2a3f5f",
             "gridcolor": "white",
             "linecolor": "white",
             "minorgridcolor": "white",
             "startlinecolor": "#2a3f5f"
            },
            "type": "carpet"
           }
          ],
          "choropleth": [
           {
            "colorbar": {
             "outlinewidth": 0,
             "ticks": ""
            },
            "type": "choropleth"
           }
          ],
          "contour": [
           {
            "colorbar": {
             "outlinewidth": 0,
             "ticks": ""
            },
            "colorscale": [
             [
              0,
              "#0d0887"
             ],
             [
              0.1111111111111111,
              "#46039f"
             ],
             [
              0.2222222222222222,
              "#7201a8"
             ],
             [
              0.3333333333333333,
              "#9c179e"
             ],
             [
              0.4444444444444444,
              "#bd3786"
             ],
             [
              0.5555555555555556,
              "#d8576b"
             ],
             [
              0.6666666666666666,
              "#ed7953"
             ],
             [
              0.7777777777777778,
              "#fb9f3a"
             ],
             [
              0.8888888888888888,
              "#fdca26"
             ],
             [
              1,
              "#f0f921"
             ]
            ],
            "type": "contour"
           }
          ],
          "contourcarpet": [
           {
            "colorbar": {
             "outlinewidth": 0,
             "ticks": ""
            },
            "type": "contourcarpet"
           }
          ],
          "heatmap": [
           {
            "colorbar": {
             "outlinewidth": 0,
             "ticks": ""
            },
            "colorscale": [
             [
              0,
              "#0d0887"
             ],
             [
              0.1111111111111111,
              "#46039f"
             ],
             [
              0.2222222222222222,
              "#7201a8"
             ],
             [
              0.3333333333333333,
              "#9c179e"
             ],
             [
              0.4444444444444444,
              "#bd3786"
             ],
             [
              0.5555555555555556,
              "#d8576b"
             ],
             [
              0.6666666666666666,
              "#ed7953"
             ],
             [
              0.7777777777777778,
              "#fb9f3a"
             ],
             [
              0.8888888888888888,
              "#fdca26"
             ],
             [
              1,
              "#f0f921"
             ]
            ],
            "type": "heatmap"
           }
          ],
          "heatmapgl": [
           {
            "colorbar": {
             "outlinewidth": 0,
             "ticks": ""
            },
            "colorscale": [
             [
              0,
              "#0d0887"
             ],
             [
              0.1111111111111111,
              "#46039f"
             ],
             [
              0.2222222222222222,
              "#7201a8"
             ],
             [
              0.3333333333333333,
              "#9c179e"
             ],
             [
              0.4444444444444444,
              "#bd3786"
             ],
             [
              0.5555555555555556,
              "#d8576b"
             ],
             [
              0.6666666666666666,
              "#ed7953"
             ],
             [
              0.7777777777777778,
              "#fb9f3a"
             ],
             [
              0.8888888888888888,
              "#fdca26"
             ],
             [
              1,
              "#f0f921"
             ]
            ],
            "type": "heatmapgl"
           }
          ],
          "histogram": [
           {
            "marker": {
             "pattern": {
              "fillmode": "overlay",
              "size": 10,
              "solidity": 0.2
             }
            },
            "type": "histogram"
           }
          ],
          "histogram2d": [
           {
            "colorbar": {
             "outlinewidth": 0,
             "ticks": ""
            },
            "colorscale": [
             [
              0,
              "#0d0887"
             ],
             [
              0.1111111111111111,
              "#46039f"
             ],
             [
              0.2222222222222222,
              "#7201a8"
             ],
             [
              0.3333333333333333,
              "#9c179e"
             ],
             [
              0.4444444444444444,
              "#bd3786"
             ],
             [
              0.5555555555555556,
              "#d8576b"
             ],
             [
              0.6666666666666666,
              "#ed7953"
             ],
             [
              0.7777777777777778,
              "#fb9f3a"
             ],
             [
              0.8888888888888888,
              "#fdca26"
             ],
             [
              1,
              "#f0f921"
             ]
            ],
            "type": "histogram2d"
           }
          ],
          "histogram2dcontour": [
           {
            "colorbar": {
             "outlinewidth": 0,
             "ticks": ""
            },
            "colorscale": [
             [
              0,
              "#0d0887"
             ],
             [
              0.1111111111111111,
              "#46039f"
             ],
             [
              0.2222222222222222,
              "#7201a8"
             ],
             [
              0.3333333333333333,
              "#9c179e"
             ],
             [
              0.4444444444444444,
              "#bd3786"
             ],
             [
              0.5555555555555556,
              "#d8576b"
             ],
             [
              0.6666666666666666,
              "#ed7953"
             ],
             [
              0.7777777777777778,
              "#fb9f3a"
             ],
             [
              0.8888888888888888,
              "#fdca26"
             ],
             [
              1,
              "#f0f921"
             ]
            ],
            "type": "histogram2dcontour"
           }
          ],
          "mesh3d": [
           {
            "colorbar": {
             "outlinewidth": 0,
             "ticks": ""
            },
            "type": "mesh3d"
           }
          ],
          "parcoords": [
           {
            "line": {
             "colorbar": {
              "outlinewidth": 0,
              "ticks": ""
             }
            },
            "type": "parcoords"
           }
          ],
          "pie": [
           {
            "automargin": true,
            "type": "pie"
           }
          ],
          "scatter": [
           {
            "fillpattern": {
             "fillmode": "overlay",
             "size": 10,
             "solidity": 0.2
            },
            "type": "scatter"
           }
          ],
          "scatter3d": [
           {
            "line": {
             "colorbar": {
              "outlinewidth": 0,
              "ticks": ""
             }
            },
            "marker": {
             "colorbar": {
              "outlinewidth": 0,
              "ticks": ""
             }
            },
            "type": "scatter3d"
           }
          ],
          "scattercarpet": [
           {
            "marker": {
             "colorbar": {
              "outlinewidth": 0,
              "ticks": ""
             }
            },
            "type": "scattercarpet"
           }
          ],
          "scattergeo": [
           {
            "marker": {
             "colorbar": {
              "outlinewidth": 0,
              "ticks": ""
             }
            },
            "type": "scattergeo"
           }
          ],
          "scattergl": [
           {
            "marker": {
             "colorbar": {
              "outlinewidth": 0,
              "ticks": ""
             }
            },
            "type": "scattergl"
           }
          ],
          "scattermapbox": [
           {
            "marker": {
             "colorbar": {
              "outlinewidth": 0,
              "ticks": ""
             }
            },
            "type": "scattermapbox"
           }
          ],
          "scatterpolar": [
           {
            "marker": {
             "colorbar": {
              "outlinewidth": 0,
              "ticks": ""
             }
            },
            "type": "scatterpolar"
           }
          ],
          "scatterpolargl": [
           {
            "marker": {
             "colorbar": {
              "outlinewidth": 0,
              "ticks": ""
             }
            },
            "type": "scatterpolargl"
           }
          ],
          "scatterternary": [
           {
            "marker": {
             "colorbar": {
              "outlinewidth": 0,
              "ticks": ""
             }
            },
            "type": "scatterternary"
           }
          ],
          "surface": [
           {
            "colorbar": {
             "outlinewidth": 0,
             "ticks": ""
            },
            "colorscale": [
             [
              0,
              "#0d0887"
             ],
             [
              0.1111111111111111,
              "#46039f"
             ],
             [
              0.2222222222222222,
              "#7201a8"
             ],
             [
              0.3333333333333333,
              "#9c179e"
             ],
             [
              0.4444444444444444,
              "#bd3786"
             ],
             [
              0.5555555555555556,
              "#d8576b"
             ],
             [
              0.6666666666666666,
              "#ed7953"
             ],
             [
              0.7777777777777778,
              "#fb9f3a"
             ],
             [
              0.8888888888888888,
              "#fdca26"
             ],
             [
              1,
              "#f0f921"
             ]
            ],
            "type": "surface"
           }
          ],
          "table": [
           {
            "cells": {
             "fill": {
              "color": "#EBF0F8"
             },
             "line": {
              "color": "white"
             }
            },
            "header": {
             "fill": {
              "color": "#C8D4E3"
             },
             "line": {
              "color": "white"
             }
            },
            "type": "table"
           }
          ]
         },
         "layout": {
          "annotationdefaults": {
           "arrowcolor": "#2a3f5f",
           "arrowhead": 0,
           "arrowwidth": 1
          },
          "autotypenumbers": "strict",
          "coloraxis": {
           "colorbar": {
            "outlinewidth": 0,
            "ticks": ""
           }
          },
          "colorscale": {
           "diverging": [
            [
             0,
             "#8e0152"
            ],
            [
             0.1,
             "#c51b7d"
            ],
            [
             0.2,
             "#de77ae"
            ],
            [
             0.3,
             "#f1b6da"
            ],
            [
             0.4,
             "#fde0ef"
            ],
            [
             0.5,
             "#f7f7f7"
            ],
            [
             0.6,
             "#e6f5d0"
            ],
            [
             0.7,
             "#b8e186"
            ],
            [
             0.8,
             "#7fbc41"
            ],
            [
             0.9,
             "#4d9221"
            ],
            [
             1,
             "#276419"
            ]
           ],
           "sequential": [
            [
             0,
             "#0d0887"
            ],
            [
             0.1111111111111111,
             "#46039f"
            ],
            [
             0.2222222222222222,
             "#7201a8"
            ],
            [
             0.3333333333333333,
             "#9c179e"
            ],
            [
             0.4444444444444444,
             "#bd3786"
            ],
            [
             0.5555555555555556,
             "#d8576b"
            ],
            [
             0.6666666666666666,
             "#ed7953"
            ],
            [
             0.7777777777777778,
             "#fb9f3a"
            ],
            [
             0.8888888888888888,
             "#fdca26"
            ],
            [
             1,
             "#f0f921"
            ]
           ],
           "sequentialminus": [
            [
             0,
             "#0d0887"
            ],
            [
             0.1111111111111111,
             "#46039f"
            ],
            [
             0.2222222222222222,
             "#7201a8"
            ],
            [
             0.3333333333333333,
             "#9c179e"
            ],
            [
             0.4444444444444444,
             "#bd3786"
            ],
            [
             0.5555555555555556,
             "#d8576b"
            ],
            [
             0.6666666666666666,
             "#ed7953"
            ],
            [
             0.7777777777777778,
             "#fb9f3a"
            ],
            [
             0.8888888888888888,
             "#fdca26"
            ],
            [
             1,
             "#f0f921"
            ]
           ]
          },
          "colorway": [
           "#636efa",
           "#EF553B",
           "#00cc96",
           "#ab63fa",
           "#FFA15A",
           "#19d3f3",
           "#FF6692",
           "#B6E880",
           "#FF97FF",
           "#FECB52"
          ],
          "font": {
           "color": "#2a3f5f"
          },
          "geo": {
           "bgcolor": "white",
           "lakecolor": "white",
           "landcolor": "#E5ECF6",
           "showlakes": true,
           "showland": true,
           "subunitcolor": "white"
          },
          "hoverlabel": {
           "align": "left"
          },
          "hovermode": "closest",
          "mapbox": {
           "style": "light"
          },
          "paper_bgcolor": "white",
          "plot_bgcolor": "#E5ECF6",
          "polar": {
           "angularaxis": {
            "gridcolor": "white",
            "linecolor": "white",
            "ticks": ""
           },
           "bgcolor": "#E5ECF6",
           "radialaxis": {
            "gridcolor": "white",
            "linecolor": "white",
            "ticks": ""
           }
          },
          "scene": {
           "xaxis": {
            "backgroundcolor": "#E5ECF6",
            "gridcolor": "white",
            "gridwidth": 2,
            "linecolor": "white",
            "showbackground": true,
            "ticks": "",
            "zerolinecolor": "white"
           },
           "yaxis": {
            "backgroundcolor": "#E5ECF6",
            "gridcolor": "white",
            "gridwidth": 2,
            "linecolor": "white",
            "showbackground": true,
            "ticks": "",
            "zerolinecolor": "white"
           },
           "zaxis": {
            "backgroundcolor": "#E5ECF6",
            "gridcolor": "white",
            "gridwidth": 2,
            "linecolor": "white",
            "showbackground": true,
            "ticks": "",
            "zerolinecolor": "white"
           }
          },
          "shapedefaults": {
           "line": {
            "color": "#2a3f5f"
           }
          },
          "ternary": {
           "aaxis": {
            "gridcolor": "white",
            "linecolor": "white",
            "ticks": ""
           },
           "baxis": {
            "gridcolor": "white",
            "linecolor": "white",
            "ticks": ""
           },
           "bgcolor": "#E5ECF6",
           "caxis": {
            "gridcolor": "white",
            "linecolor": "white",
            "ticks": ""
           }
          },
          "title": {
           "x": 0.05
          },
          "xaxis": {
           "automargin": true,
           "gridcolor": "white",
           "linecolor": "white",
           "ticks": "",
           "title": {
            "standoff": 15
           },
           "zerolinecolor": "white",
           "zerolinewidth": 2
          },
          "yaxis": {
           "automargin": true,
           "gridcolor": "white",
           "linecolor": "white",
           "ticks": "",
           "title": {
            "standoff": 15
           },
           "zerolinecolor": "white",
           "zerolinewidth": 2
          }
         }
        },
        "xaxis": {
         "anchor": "y",
         "autorange": true,
         "constrain": "domain",
         "domain": [
          0.3523489932885906,
          0.6476510067114094
         ],
         "range": [
          -0.5,
          29.5
         ],
         "scaleanchor": "y"
        },
        "yaxis": {
         "anchor": "x",
         "autorange": true,
         "constrain": "domain",
         "domain": [
          0,
          1
         ],
         "range": [
          29.5,
          -0.5
         ]
        }
       }
      },
      "image/png": "[encoded data removed]",
      "text/html": [
       "<div>                            <div id=\"1c102a41-c3be-4942-b501-ecd7131851e2\" class=\"plotly-graph-div\" style=\"height:525px; width:100%;\"></div>            <script type=\"text/javascript\">                require([\"plotly\"], function(Plotly) {                    window.PLOTLYENV=window.PLOTLYENV || {};                                    if (document.getElementById(\"1c102a41-c3be-4942-b501-ecd7131851e2\")) {                    Plotly.newPlot(                        \"1c102a41-c3be-4942-b501-ecd7131851e2\",                        [{\"coloraxis\":\"coloraxis\",\"name\":\"0\",\"z\":[[-0.30022507905960083,-0.24191313982009888,-0.1705566644668579,-0.2921755909919739,-0.23238730430603027,-0.34581100940704346,-0.08393079042434692,-0.03304475545883179,0.08668339252471924,-0.2554738521575928,-0.07973432540893555,-0.38960009813308716,-0.049046456813812256,-0.41774308681488037,0.06417882442474365,-0.2696787118911743,-0.16668790578842163,-0.29173558950424194,-0.10261720418930054,-0.3559895157814026,0.13240420818328857,-0.22238516807556152,-0.23154479265213013,-0.2194799780845642,-0.3177322745323181,-0.4199824333190918,-0.11947846412658691,-0.32707417011260986,-0.08585673570632935,-0.049223899841308594],[0.06693553924560547,0.15951824188232422,0.06183469295501709,-0.30122435092926025,-0.11096948385238647,0.10682094097137451,-0.13533514738082886,-0.23596137762069702,0.06341004371643066,-0.05410259962081909,-0.1506447196006775,-0.2152099609375,-0.297238826751709,-0.12861472368240356,-0.30913805961608887,-0.064480721950531,0.15714192390441895,-0.34258949756622314,-0.22191846370697021,-0.07307428121566772,-0.2072533369064331,0.32860755920410156,-0.12034523487091064,-0.09725797176361084,-0.06705909967422485,0.028491854667663574,-0.15998363494873047,-0.13490909337997437,-0.1807968020439148,-0.2865784168243408],[-0.13326364755630493,0.05951488018035889,-0.4771711230278015,0.013296961784362793,0.05738186836242676,-0.033293068408966064,0.01883077621459961,-0.5786503553390503,-0.09986847639083862,0.06225001811981201,-0.31497722864151,-0.17906099557876587,-0.40787047147750854,-0.35039663314819336,-0.07396453619003296,-0.3663381338119507,-0.15056729316711426,-0.5016615390777588,-0.23731935024261475,-0.3890213966369629,-0.6851660013198853,0.08184576034545898,-0.13760048151016235,-0.10675352811813354,-0.41562390327453613,-0.049581825733184814,-0.3933464288711548,-0.24724245071411133,0.054981231689453125,-0.6149212121963501],[-0.03855240345001221,-0.22448068857192993,0.12908470630645752,-0.2119377851486206,-0.42501306533813477,-0.2443751096725464,-0.28324079513549805,0.11250972747802734,0.03539848327636719,-0.3930552005767822,-0.24154579639434814,-0.3006748557090759,0.035647034645080566,-0.3407869338989258,-0.2148405909538269,-0.12992489337921143,-0.19876325130462646,-0.3085672855377197,-0.4421488046646118,-0.1650417447090149,-0.04139983654022217,-0.2358623743057251,-0.33227819204330444,-0.057572364807128906,-0.008832097053527832,-0.20301836729049683,-0.5607993602752686,-0.12997621297836304,-0.37464457750320435,-0.2499384880065918],[-0.19243556261062622,-0.2805873155593872,0.08878874778747559,-0.1433851718902588,-0.0902090072631836,-0.034134864807128906,-0.29202961921691895,-0.16910040378570557,-0.2139127254486084,-0.09060662984848022,-0.3312828540802002,-0.00140458345413208,0.14715898036956787,-0.12442553043365479,-0.14872604608535767,-0.1654045581817627,-0.27419447898864746,0.02983248233795166,0.0743865966796875,-0.45011377334594727,-0.07164984941482544,-0.4379531145095825,-0.22437340021133423,-0.0771864652633667,-0.2481985092163086,-0.26650720834732056,-0.02196723222732544,0.007892251014709473,0.11571168899536133,-0.12611812353134155],[0.00820302963256836,-0.07692587375640869,0.24607324600219727,-0.3259585499763489,0.030541419982910156,-0.2592323422431946,-0.11220318078994751,-0.1648697853088379,-0.2593056559562683,-0.3746994733810425,-0.19025969505310059,-0.16825562715530396,-0.2925225496292114,-0.17761707305908203,0.1071709394454956,-0.46481794118881226,-0.21969783306121826,0.06633460521697998,-0.18029910326004028,-0.14509105682373047,0.11501407623291016,-0.2558751106262207,0.178855299949646,-0.18426549434661865,0.03406071662902832,-0.15212178230285645,-0.47395098209381104,0.0023958683013916016,-0.044170379638671875,-0.5974682569503784],[-0.11721998453140259,-0.2621736526489258,-0.2343418002128601,-0.25001758337020874,-0.17871558666229248,-0.22483962774276733,-0.0973396897315979,-0.32055550813674927,0.007899761199951172,0.03968024253845215,-0.09032595157623291,0.14384329319000244,-0.26109057664871216,0.08866918087005615,0.20605385303497314,0.3466542959213257,0.372702956199646,0.051186442375183105,0.5037297010421753,-0.04212576150894165,-0.2556130290031433,0.4089008569717407,0.07203936576843262,-0.21523535251617432,-0.29170405864715576,-0.4783989191055298,-0.3373720645904541,-0.43445712327957153,-0.004824697971343994,-0.2593570351600647],[-0.10680282115936279,-0.35349828004837036,0.02731037139892578,-0.17295396327972412,-0.14685708284378052,-0.0520176887512207,-0.5129342079162598,-0.10986220836639404,-0.045358896255493164,-0.24002432823181152,0.25976884365081787,0.19159889221191406,0.2702822685241699,0.19089913368225098,0.019057869911193848,0.47586071491241455,0.4016537666320801,0.28770577907562256,0.2313680648803711,0.045638442039489746,0.0999155044555664,0.08988809585571289,-0.24861806631088257,-0.2772088646888733,-0.3861483931541443,-0.15751081705093384,-0.13684439659118652,0.03984498977661133,-0.14140963554382324,-0.2580532431602478],[0.09147536754608154,-0.28258877992630005,-0.3090721368789673,0.043796420097351074,-0.2778891921043396,-0.06078237295150757,-0.03388434648513794,-0.1266237497329712,0.3755683898925781,0.3538433313369751,0.2646803855895996,0.1339048147201538,0.28750181198120117,0.8344604969024658,0.3670046329498291,0.5283039808273315,0.29566752910614014,0.22784781455993652,0.43101072311401367,0.2798522710800171,0.4620997905731201,0.7267537117004395,-0.06166958808898926,0.1494818925857544,-0.006671726703643799,-0.2335948944091797,-0.06220507621765137,-0.3282296657562256,0.04184567928314209,0.11859738826751709],[-0.3099653720855713,0.18373966217041016,0.18116331100463867,0.2166001796722412,0.1280992031097412,-0.26070350408554077,-0.23706310987472534,-0.013676941394805908,-0.09319800138473511,0.22879743576049805,0.7936136722564697,0.4561314582824707,0.7425315380096436,1.0773084163665771,1.1953041553497314,1.2792954444885254,1.3762128353118896,1.3518879413604736,0.8994708061218262,0.960721492767334,0.7763850688934326,0.3879680633544922,0.3083653450012207,0.1373298168182373,-0.06951040029525757,-0.219943106174469,-0.06411540508270264,0.364345908164978,-0.2427842617034912,-0.273453950881958],[-0.3034150004386902,0.020504117012023926,-0.33415043354034424,0.26706111431121826,0.05717349052429199,-0.03209030628204346,-0.32266366481781006,0.09401857852935791,0.3226203918457031,0.406009316444397,0.6569894552230835,1.1826212406158447,1.7128593921661377,2.3179311752319336,2.5597341060638428,2.534402370452881,2.646123170852661,1.8953251838684082,2.0971364974975586,1.4005556106567383,1.028320550918579,0.9894132614135742,0.34356236457824707,0.1384570598602295,0.07236301898956299,0.11910152435302734,-0.3931465148925781,0.09737980365753174,-0.49656927585601807,0.0826801061630249],[-0.16141754388809204,-0.15823030471801758,0.019468307495117188,-0.14637380838394165,-0.2972968816757202,0.11247503757476807,0.3766270875930786,0.4086892604827881,0.36148858070373535,1.26924467086792,0.6238846778869629,2.293938159942627,3.0434885025024414,4.633354187011719,5.586528778076172,4.966434955596924,5.118898391723633,5.296859264373779,4.485610008239746,2.8524491786956787,2.041367769241333,1.4934239387512207,0.6048791408538818,0.3189725875854492,0.009044289588928223,0.2011793851852417,0.0021948814392089844,-0.23419839143753052,0.023290157318115234,0.04708850383758545],[-0.43575483560562134,-0.3829474449157715,-0.0807146430015564,-0.18563807010650635,0.03455674648284912,-0.056227684020996094,0.370932936668396,0.20710527896881104,0.5578279495239258,0.6596088409423828,1.642411231994629,3.15065336227417,5.297778606414795,7.936079025268555,9.468037605285645,11.293801307678223,11.569235801696777,10.730501174926758,8.141242980957031,5.543015956878662,3.3242149353027344,2.0172781944274902,0.8079046010971069,0.3556331396102905,0.2268754243850708,0.016759872436523438,-0.06385505199432373,0.046704769134521484,-0.3581400513648987,-0.5101306438446045],[-0.4119985103607178,0.0019582509994506836,0.05675399303436279,-0.2914844751358032,-0.14053595066070557,0.2083646059036255,-0.05308818817138672,0.6513888835906982,0.35114359855651855,1.101355791091919,2.3381683826446533,4.597368240356445,7.603082656860352,12.702402114868164,16.261659622192383,20.04059600830078,21.221385955810547,18.409360885620117,11.600334167480469,7.31611442565918,4.224213600158691,2.256390333175659,1.6474826335906982,0.6862783432006836,0.305730938911438,0.258617639541626,-0.13648730516433716,-0.33407533168792725,-0.4283956289291382,-0.42997175455093384],[-0.08340334892272949,-0.01947683095932007,-0.2546842098236084,-0.3933714032173157,-0.1618025302886963,0.4292714595794678,0.39836275577545166,0.15999960899353027,0.6973680257797241,1.5481510162353516,2.6896848678588867,5.8011088371276855,11.108827590942383,16.790325164794922,23.624162673950195,28.97511863708496,28.604707717895508,22.938886642456055,13.998745918273926,6.826594829559326,3.751296043395996,2.0800955295562744,1.302236557006836,0.30597198009490967,0.1069478988647461,0.39501965045928955,0.10550713539123535,0.11945998668670654,-0.030572831630706787,-0.10632967948913574],[-0.10489857196807861,0.09324216842651367,-0.14883053302764893,-0.17531728744506836,0.06058359146118164,-0.06147289276123047,0.529075026512146,0.5120224952697754,0.8393357992172241,1.7617480754852295,3.6799139976501465,7.482361793518066,14.043554306030273,22.475488662719727,28.878679275512695,33.686370849609375,33.10853958129883,22.871017456054688,12.503255844116211,6.354394435882568,3.1860618591308594,1.8727800846099854,1.0123913288116455,0.28951871395111084,-0.10210990905761719,0.3395266532897949,0.13129830360412598,-0.13216906785964966,-0.15149235725402832,-0.13742685317993164],[-0.5842946767807007,-0.34089064598083496,0.06885862350463867,0.2651458978652954,0.41161787509918213,0.08958888053894043,0.4020298719406128,0.5227090120315552,1.1857359409332275,2.249476432800293,3.5686473846435547,7.804658889770508,16.434728622436523,23.191171646118164,29.15340805053711,28.85422706604004,27.333391189575195,18.25206756591797,10.23579216003418,5.054567813873291,2.550893783569336,1.5785460472106934,0.7041206359863281,0.42440199851989746,0.020847439765930176,0.0028737783432006836,-0.18127375841140747,0.08371198177337646,-0.046114981174468994,-0.2835182547569275],[-0.25161492824554443,-0.04289776086807251,-0.20064425468444824,-0.2771686315536499,0.019948124885559082,0.13449585437774658,0.4161992073059082,0.4954841136932373,1.375131607055664,1.957789421081543,3.6379776000976562,7.059907913208008,11.880498886108398,17.31022071838379,20.505661010742188,20.513093948364258,17.57047462463379,12.183738708496094,8.410273551940918,4.169894695281982,1.8535428047180176,1.4426379203796387,0.6821945905685425,0.45559895038604736,0.2861851453781128,-0.2697058916091919,0.0944373607635498,0.06002604961395264,-0.15482431650161743,-0.23725569248199463],[-0.0809280276298523,-0.3017579913139343,-0.08116328716278076,-0.3783319592475891,0.04740297794342041,0.11750316619873047,0.1605745553970337,0.41464948654174805,0.9391093254089355,1.0099802017211914,2.8096275329589844,4.456538677215576,6.298582553863525,9.396417617797852,11.08473014831543,10.754315376281738,8.594792366027832,7.5886640548706055,4.7643723487854,3.1924538612365723,1.6009948253631592,0.9127360582351685,0.7498102188110352,0.3493664264678955,0.15862560272216797,-0.08426600694656372,-0.16683584451675415,-0.256273090839386,-0.27947908639907837,-0.05042850971221924],[-0.22975754737854004,-0.11687570810317993,0.02446281909942627,0.09077417850494385,0.1654043197631836,-0.15304046869277954,0.3366892337799072,0.3019075393676758,0.39242637157440186,1.1307952404022217,1.3693575859069824,2.2269041538238525,3.9957032203674316,5.109915256500244,4.794450283050537,5.436054229736328,4.754559516906738,4.218769550323486,3.162137031555176,2.0815041065216064,1.3669250011444092,0.350955605506897,0.5584176778793335,0.17058908939361572,-0.012524843215942383,-0.010456681251525879,-0.06069660186767578,-0.24782150983810425,-0.15783929824829102,-0.23221135139465332],[-0.14498978853225708,-0.3677360415458679,-0.03997170925140381,-0.420021116733551,-0.0007364153861999512,-0.1788228154182434,-0.07963895797729492,0.31513655185699463,0.38652288913726807,0.6640819311141968,1.1933417320251465,1.741779088973999,1.7816071510314941,2.5179405212402344,2.5336599349975586,2.78501296043396,2.4946115016937256,2.253692388534546,1.4911127090454102,1.5793192386627197,1.171032190322876,0.4336308240890503,0.45059657096862793,0.19659960269927979,-0.07491075992584229,-0.10061180591583252,-0.07230645418167114,-0.022293150424957275,-0.45135486125946045,-0.39436644315719604],[-0.20212525129318237,-0.35201144218444824,-0.35448431968688965,-0.15327507257461548,0.014227747917175293,-0.11682695150375366,-0.25702571868896484,0.11248159408569336,0.10038602352142334,0.3725111484527588,0.6854978799819946,1.1539485454559326,0.9590468406677246,1.5184414386749268,1.2584800720214844,1.7233684062957764,1.9090185165405273,1.0210957527160645,0.7960183620452881,0.5154761075973511,0.6188949346542358,-0.12292826175689697,-0.006116092205047607,0.27826952934265137,0.18625032901763916,-0.15937012434005737,-0.04476708173751831,-0.3817483186721802,-0.22383683919906616,-0.12721234560012817],[0.27197349071502686,0.22493219375610352,-0.361569344997406,-0.3734220266342163,-0.10676217079162598,-0.38728225231170654,0.026589274406433105,-0.25473976135253906,0.20307862758636475,0.35487568378448486,0.04252314567565918,0.49546992778778076,1.0256762504577637,0.5340938568115234,0.8915777206420898,1.173602819442749,0.627361536026001,0.6966568231582642,0.11708474159240723,0.7044765949249268,0.13994300365447998,-0.15429317951202393,-0.30382323265075684,-0.103912353515625,-0.14474093914031982,-0.06986755132675171,0.047840237617492676,-0.2573689818382263,-0.3062496781349182,-0.3664180636405945],[0.01853930950164795,-0.11592036485671997,0.14441514015197754,-0.0685306191444397,-0.4469403028488159,-0.06301122903823853,-0.18021726608276367,-0.029019296169281006,-0.06714874505996704,0.20492196083068848,0.427282452583313,-0.0074312686920166016,0.6876064538955688,0.5238986015319824,0.5027129650115967,0.5616965293884277,0.6526280641555786,0.5049319267272949,0.29566264152526855,0.1664581298828125,-0.0017470121383666992,0.44813311100006104,-0.49969202280044556,-0.1360769271850586,0.03188943862915039,-0.5912017226219177,-0.33937788009643555,-0.2944020628929138,-0.24249619245529175,-0.3816378116607666],[-0.14856266975402832,-0.17532473802566528,-0.32672637701034546,-0.24375975131988525,-0.2283596396446228,0.12189245223999023,-0.20054388046264648,0.06371581554412842,-0.12682408094406128,-0.013045966625213623,0.0914764404296875,-0.17791616916656494,0.0067032575607299805,0.25728631019592285,0.44926345348358154,0.30034732818603516,0.18055570125579834,0.16765093803405762,-0.08408540487289429,-0.004665553569793701,-0.14925992488861084,0.19992530345916748,0.0886683464050293,-0.24019914865493774,-0.14747881889343262,0.2547844648361206,-0.11437493562698364,0.052672624588012695,-0.08534163236618042,-0.21899819374084473],[-0.30901622772216797,-0.31100302934646606,-0.14578896760940552,-0.16467541456222534,0.1396108865737915,-0.027087748050689697,-0.22992181777954102,-0.3117581605911255,0.0250626802444458,-0.02816307544708252,0.20810627937316895,-0.02974700927734375,-0.06980180740356445,-0.22416502237319946,0.2798808813095093,0.16576671600341797,0.29074418544769287,0.006651401519775391,-0.18676716089248657,0.20599126815795898,0.1172935962677002,-0.04811418056488037,0.03664875030517578,-0.28550732135772705,-0.10214561223983765,-0.16692346334457397,-0.3837658166885376,-0.2882489562034607,-0.3294166326522827,-0.24947738647460938],[-0.24983084201812744,-0.02069193124771118,-0.2382412552833557,-0.051348984241485596,-0.24774682521820068,-0.31403452157974243,0.07619869709014893,-0.09521102905273438,-0.19381433725357056,-0.13484638929367065,0.07308840751647949,-0.17483621835708618,0.06864452362060547,0.12428128719329834,-0.04027754068374634,-0.24908053874969482,-0.2618560791015625,-0.007159292697906494,-0.29646652936935425,-0.16709178686141968,-0.14171671867370605,-0.3743884563446045,-0.31056225299835205,-0.6479743123054504,-0.11447906494140625,-0.09245473146438599,-0.3761862516403198,-0.5696758031845093,-0.3440747857093811,-0.1089354157447815],[-0.3042823076248169,-0.13214653730392456,0.10351777076721191,-0.4070214033126831,0.15682661533355713,-0.16981571912765503,-0.09916740655899048,0.0007364749908447266,-0.2754061222076416,0.024040937423706055,-0.2759400010108948,-0.013914525508880615,-0.13246989250183105,-0.08199012279510498,-0.3280242681503296,0.022245407104492188,-0.10471165180206299,-0.24665212631225586,0.06042671203613281,0.04909849166870117,-0.05635881423950195,0.1397033929824829,-0.17672377824783325,-0.5194178819656372,0.5146138668060303,-0.6403790712356567,-0.26285576820373535,-0.3320534825325012,0.18504393100738525,0.055445075035095215],[-0.21884918212890625,0.041475772857666016,-0.5375974178314209,0.19949400424957275,-0.025823116302490234,-0.19080603122711182,-0.30460792779922485,-0.2700023055076599,0.3169116973876953,-0.21954387426376343,-0.4567364454269409,-0.34045249223709106,-0.1418284773826599,0.06742095947265625,-0.06771957874298096,-0.09251528978347778,-0.2795373797416687,0.03923225402832031,0.10448074340820312,-0.4904480576515198,-0.030934512615203857,0.0021480321884155273,0.07097268104553223,-0.3931676745414734,-0.3592389225959778,-0.15364545583724976,-0.12290692329406738,-0.012052416801452637,-0.2412852644920349,-0.5169645547866821],[0.18615198135375977,-0.3423328995704651,-0.23651152849197388,-0.4577218294143677,0.1538606882095337,-0.1528381109237671,0.024437665939331055,0.03080117702484131,-0.07133620977401733,0.1265120506286621,-0.3453441858291626,-0.3576785922050476,-0.14164161682128906,-0.12312805652618408,0.03199291229248047,0.11599552631378174,0.1502056121826172,-0.33764129877090454,-0.10842698812484741,-0.04740250110626221,0.13488709926605225,-0.2977697253227234,-0.21088272333145142,-0.47301822900772095,-0.4986935257911682,-0.1525149941444397,-0.4333101511001587,0.2222745418548584,-0.44677335023880005,-0.1275651454925537]],\"type\":\"heatmap\",\"xaxis\":\"x\",\"yaxis\":\"y\",\"hovertemplate\":\"x: %{x}\\u003cbr\\u003ey: %{y}\\u003cbr\\u003ecolor: %{z}\\u003cextra\\u003e\\u003c\\u002fextra\\u003e\"}],                        {\"template\":{\"data\":{\"histogram2dcontour\":[{\"type\":\"histogram2dcontour\",\"colorbar\":{\"outlinewidth\":0,\"ticks\":\"\"},\"colorscale\":[[0.0,\"#0d0887\"],[0.1111111111111111,\"#46039f\"],[0.2222222222222222,\"#7201a8\"],[0.3333333333333333,\"#9c179e\"],[0.4444444444444444,\"#bd3786\"],[0.5555555555555556,\"#d8576b\"],[0.6666666666666666,\"#ed7953\"],[0.7777777777777778,\"#fb9f3a\"],[0.8888888888888888,\"#fdca26\"],[1.0,\"#f0f921\"]]}],\"choropleth\":[{\"type\":\"choropleth\",\"colorbar\":{\"outlinewidth\":0,\"ticks\":\"\"}}],\"histogram2d\":[{\"type\":\"histogram2d\",\"colorbar\":{\"outlinewidth\":0,\"ticks\":\"\"},\"colorscale\":[[0.0,\"#0d0887\"],[0.1111111111111111,\"#46039f\"],[0.2222222222222222,\"#7201a8\"],[0.3333333333333333,\"#9c179e\"],[0.4444444444444444,\"#bd3786\"],[0.5555555555555556,\"#d8576b\"],[0.6666666666666666,\"#ed7953\"],[0.7777777777777778,\"#fb9f3a\"],[0.8888888888888888,\"#fdca26\"],[1.0,\"#f0f921\"]]}],\"heatmap\":[{\"type\":\"heatmap\",\"colorbar\":{\"outlinewidth\":0,\"ticks\":\"\"},\"colorscale\":[[0.0,\"#0d0887\"],[0.1111111111111111,\"#46039f\"],[0.2222222222222222,\"#7201a8\"],[0.3333333333333333,\"#9c179e\"],[0.4444444444444444,\"#bd3786\"],[0.5555555555555556,\"#d8576b\"],[0.6666666666666666,\"#ed7953\"],[0.7777777777777778,\"#fb9f3a\"],[0.8888888888888888,\"#fdca26\"],[1.0,\"#f0f921\"]]}],\"heatmapgl\":[{\"type\":\"heatmapgl\",\"colorbar\":{\"outlinewidth\":0,\"ticks\":\"\"},\"colorscale\":[[0.0,\"#0d0887\"],[0.1111111111111111,\"#46039f\"],[0.2222222222222222,\"#7201a8\"],[0.3333333333333333,\"#9c179e\"],[0.4444444444444444,\"#bd3786\"],[0.5555555555555556,\"#d8576b\"],[0.6666666666666666,\"#ed7953\"],[0.7777777777777778,\"#fb9f3a\"],[0.8888888888888888,\"#fdca26\"],[1.0,\"#f0f921\"]]}],\"contourcarpet\":[{\"type\":\"contourcarpet\",\"colorbar\":{\"outlinewidth\":0,\"ticks\":\"\"}}],\"contour\":[{\"type\":\"contour\",\"colorbar\":{\"outlinewidth\":0,\"ticks\":\"\"},\"colorscale\":[[0.0,\"#0d0887\"],[0.1111111111111111,\"#46039f\"],[0.2222222222222222,\"#7201a8\"],[0.3333333333333333,\"#9c179e\"],[0.4444444444444444,\"#bd3786\"],[0.5555555555555556,\"#d8576b\"],[0.6666666666666666,\"#ed7953\"],[0.7777777777777778,\"#fb9f3a\"],[0.8888888888888888,\"#fdca26\"],[1.0,\"#f0f921\"]]}],\"surface\":[{\"type\":\"surface\",\"colorbar\":{\"outlinewidth\":0,\"ticks\":\"\"},\"colorscale\":[[0.0,\"#0d0887\"],[0.1111111111111111,\"#46039f\"],[0.2222222222222222,\"#7201a8\"],[0.3333333333333333,\"#9c179e\"],[0.4444444444444444,\"#bd3786\"],[0.5555555555555556,\"#d8576b\"],[0.6666666666666666,\"#ed7953\"],[0.7777777777777778,\"#fb9f3a\"],[0.8888888888888888,\"#fdca26\"],[1.0,\"#f0f921\"]]}],\"mesh3d\":[{\"type\":\"mesh3d\",\"colorbar\":{\"outlinewidth\":0,\"ticks\":\"\"}}],\"scatter\":[{\"fillpattern\":{\"fillmode\":\"overlay\",\"size\":10,\"solidity\":0.2},\"type\":\"scatter\"}],\"parcoords\":[{\"type\":\"parcoords\",\"line\":{\"colorbar\":{\"outlinewidth\":0,\"ticks\":\"\"}}}],\"scatterpolargl\":[{\"type\":\"scatterpolargl\",\"marker\":{\"colorbar\":{\"outlinewidth\":0,\"ticks\":\"\"}}}],\"bar\":[{\"error_x\":{\"color\":\"#2a3f5f\"},\"error_y\":{\"color\":\"#2a3f5f\"},\"marker\":{\"line\":{\"color\":\"#E5ECF6\",\"width\":0.5},\"pattern\":{\"fillmode\":\"overlay\",\"size\":10,\"solidity\":0.2}},\"type\":\"bar\"}],\"scattergeo\":[{\"type\":\"scattergeo\",\"marker\":{\"colorbar\":{\"outlinewidth\":0,\"ticks\":\"\"}}}],\"scatterpolar\":[{\"type\":\"scatterpolar\",\"marker\":{\"colorbar\":{\"outlinewidth\":0,\"ticks\":\"\"}}}],\"histogram\":[{\"marker\":{\"pattern\":{\"fillmode\":\"overlay\",\"size\":10,\"solidity\":0.2}},\"type\":\"histogram\"}],\"scattergl\":[{\"type\":\"scattergl\",\"marker\":{\"colorbar\":{\"outlinewidth\":0,\"ticks\":\"\"}}}],\"scatter3d\":[{\"type\":\"scatter3d\",\"line\":{\"colorbar\":{\"outlinewidth\":0,\"ticks\":\"\"}},\"marker\":{\"colorbar\":{\"outlinewidth\":0,\"ticks\":\"\"}}}],\"scattermapbox\":[{\"type\":\"scattermapbox\",\"marker\":{\"colorbar\":{\"outlinewidth\":0,\"ticks\":\"\"}}}],\"scatterternary\":[{\"type\":\"scatterternary\",\"marker\":{\"colorbar\":{\"outlinewidth\":0,\"ticks\":\"\"}}}],\"scattercarpet\":[{\"type\":\"scattercarpet\",\"marker\":{\"colorbar\":{\"outlinewidth\":0,\"ticks\":\"\"}}}],\"carpet\":[{\"aaxis\":{\"endlinecolor\":\"#2a3f5f\",\"gridcolor\":\"white\",\"linecolor\":\"white\",\"minorgridcolor\":\"white\",\"startlinecolor\":\"#2a3f5f\"},\"baxis\":{\"endlinecolor\":\"#2a3f5f\",\"gridcolor\":\"white\",\"linecolor\":\"white\",\"minorgridcolor\":\"white\",\"startlinecolor\":\"#2a3f5f\"},\"type\":\"carpet\"}],\"table\":[{\"cells\":{\"fill\":{\"color\":\"#EBF0F8\"},\"line\":{\"color\":\"white\"}},\"header\":{\"fill\":{\"color\":\"#C8D4E3\"},\"line\":{\"color\":\"white\"}},\"type\":\"table\"}],\"barpolar\":[{\"marker\":{\"line\":{\"color\":\"#E5ECF6\",\"width\":0.5},\"pattern\":{\"fillmode\":\"overlay\",\"size\":10,\"solidity\":0.2}},\"type\":\"barpolar\"}],\"pie\":[{\"automargin\":true,\"type\":\"pie\"}]},\"layout\":{\"autotypenumbers\":\"strict\",\"colorway\":[\"#636efa\",\"#EF553B\",\"#00cc96\",\"#ab63fa\",\"#FFA15A\",\"#19d3f3\",\"#FF6692\",\"#B6E880\",\"#FF97FF\",\"#FECB52\"],\"font\":{\"color\":\"#2a3f5f\"},\"hovermode\":\"closest\",\"hoverlabel\":{\"align\":\"left\"},\"paper_bgcolor\":\"white\",\"plot_bgcolor\":\"#E5ECF6\",\"polar\":{\"bgcolor\":\"#E5ECF6\",\"angularaxis\":{\"gridcolor\":\"white\",\"linecolor\":\"white\",\"ticks\":\"\"},\"radialaxis\":{\"gridcolor\":\"white\",\"linecolor\":\"white\",\"ticks\":\"\"}},\"ternary\":{\"bgcolor\":\"#E5ECF6\",\"aaxis\":{\"gridcolor\":\"white\",\"linecolor\":\"white\",\"ticks\":\"\"},\"baxis\":{\"gridcolor\":\"white\",\"linecolor\":\"white\",\"ticks\":\"\"},\"caxis\":{\"gridcolor\":\"white\",\"linecolor\":\"white\",\"ticks\":\"\"}},\"coloraxis\":{\"colorbar\":{\"outlinewidth\":0,\"ticks\":\"\"}},\"colorscale\":{\"sequential\":[[0.0,\"#0d0887\"],[0.1111111111111111,\"#46039f\"],[0.2222222222222222,\"#7201a8\"],[0.3333333333333333,\"#9c179e\"],[0.4444444444444444,\"#bd3786\"],[0.5555555555555556,\"#d8576b\"],[0.6666666666666666,\"#ed7953\"],[0.7777777777777778,\"#fb9f3a\"],[0.8888888888888888,\"#fdca26\"],[1.0,\"#f0f921\"]],\"sequentialminus\":[[0.0,\"#0d0887\"],[0.1111111111111111,\"#46039f\"],[0.2222222222222222,\"#7201a8\"],[0.3333333333333333,\"#9c179e\"],[0.4444444444444444,\"#bd3786\"],[0.5555555555555556,\"#d8576b\"],[0.6666666666666666,\"#ed7953\"],[0.7777777777777778,\"#fb9f3a\"],[0.8888888888888888,\"#fdca26\"],[1.0,\"#f0f921\"]],\"diverging\":[[0,\"#8e0152\"],[0.1,\"#c51b7d\"],[0.2,\"#de77ae\"],[0.3,\"#f1b6da\"],[0.4,\"#fde0ef\"],[0.5,\"#f7f7f7\"],[0.6,\"#e6f5d0\"],[0.7,\"#b8e186\"],[0.8,\"#7fbc41\"],[0.9,\"#4d9221\"],[1,\"#276419\"]]},\"xaxis\":{\"gridcolor\":\"white\",\"linecolor\":\"white\",\"ticks\":\"\",\"title\":{\"standoff\":15},\"zerolinecolor\":\"white\",\"automargin\":true,\"zerolinewidth\":2},\"yaxis\":{\"gridcolor\":\"white\",\"linecolor\":\"white\",\"ticks\":\"\",\"title\":{\"standoff\":15},\"zerolinecolor\":\"white\",\"automargin\":true,\"zerolinewidth\":2},\"scene\":{\"xaxis\":{\"backgroundcolor\":\"#E5ECF6\",\"gridcolor\":\"white\",\"linecolor\":\"white\",\"showbackground\":true,\"ticks\":\"\",\"zerolinecolor\":\"white\",\"gridwidth\":2},\"yaxis\":{\"backgroundcolor\":\"#E5ECF6\",\"gridcolor\":\"white\",\"linecolor\":\"white\",\"showbackground\":true,\"ticks\":\"\",\"zerolinecolor\":\"white\",\"gridwidth\":2},\"zaxis\":{\"backgroundcolor\":\"#E5ECF6\",\"gridcolor\":\"white\",\"linecolor\":\"white\",\"showbackground\":true,\"ticks\":\"\",\"zerolinecolor\":\"white\",\"gridwidth\":2}},\"shapedefaults\":{\"line\":{\"color\":\"#2a3f5f\"}},\"annotationdefaults\":{\"arrowcolor\":\"#2a3f5f\",\"arrowhead\":0,\"arrowwidth\":1},\"geo\":{\"bgcolor\":\"white\",\"landcolor\":\"#E5ECF6\",\"subunitcolor\":\"white\",\"showland\":true,\"showlakes\":true,\"lakecolor\":\"white\"},\"title\":{\"x\":0.05},\"mapbox\":{\"style\":\"light\"}}},\"xaxis\":{\"anchor\":\"y\",\"domain\":[0.0,1.0],\"scaleanchor\":\"y\",\"constrain\":\"domain\"},\"yaxis\":{\"anchor\":\"x\",\"domain\":[0.0,1.0],\"autorange\":\"reversed\",\"constrain\":\"domain\"},\"coloraxis\":{\"colorscale\":[[0.0,\"#0d0887\"],[0.1111111111111111,\"#46039f\"],[0.2222222222222222,\"#7201a8\"],[0.3333333333333333,\"#9c179e\"],[0.4444444444444444,\"#bd3786\"],[0.5555555555555556,\"#d8576b\"],[0.6666666666666666,\"#ed7953\"],[0.7777777777777778,\"#fb9f3a\"],[0.8888888888888888,\"#fdca26\"],[1.0,\"#f0f921\"]]},\"margin\":{\"t\":60}},                        {\"responsive\": true}                    ).then(function(){\n",
       "                            \n",
       "var gd = document.getElementById('1c102a41-c3be-4942-b501-ecd7131851e2');\n",
       "var x = new MutationObserver(function (mutations, observer) {{\n",
       "        var display = window.getComputedStyle(gd).display;\n",
       "        if (!display || display === 'none') {{\n",
       "            console.log([gd, 'removed!']);\n",
       "            Plotly.purge(gd);\n",
       "            observer.disconnect();\n",
       "        }}\n",
       "}});\n",
       "\n",
       "// Listen for the removal of the full notebook cells\n",
       "var notebookContainer = gd.closest('#notebook-container');\n",
       "if (notebookContainer) {{\n",
       "    x.observe(notebookContainer, {childList: true});\n",
       "}}\n",
       "\n",
       "// Listen for the clearing of the current output cell\n",
       "var outputEl = gd.closest('.output');\n",
       "if (outputEl) {{\n",
       "    x.observe(outputEl, {childList: true});\n",
       "}}\n",
       "\n",
       "                        })                };                });            </script>        </div>"
      ]
     },
     "metadata": {},
     "output_type": "display_data"
    }
   ],
   "source": [
    "cutout_plot = px.imshow(star_cutout, aspect='equal')\n",
    "cutout_plot.show()"
   ]
  },
  {
   "cell_type": "code",
   "execution_count": 38,
   "id": "3cc43e8d-b8ac-4496-bc03-1a6b5364f9a2",
   "metadata": {},
   "outputs": [
    {
     "data": {
      "text/plain": [
       "33.68637"
      ]
     },
     "execution_count": 38,
     "metadata": {},
     "output_type": "execute_result"
    }
   ],
   "source": [
    "hdu['SCI'].data[y_center, x_center]"
   ]
  },
  {
   "cell_type": "code",
   "execution_count": 39,
   "id": "aeaeaf94-96f2-4813-ae4e-ccec15671448",
   "metadata": {},
   "outputs": [
    {
     "data": {
      "text/plain": [
       "33.68637"
      ]
     },
     "execution_count": 39,
     "metadata": {},
     "output_type": "execute_result"
    }
   ],
   "source": [
    "star_cutout[half_width, half_width]"
   ]
  },
  {
   "cell_type": "code",
   "execution_count": 40,
   "id": "ab165259-3ef2-43fe-9658-b10ed3950aa8",
   "metadata": {},
   "outputs": [
    {
     "data": {
      "application/vnd.plotly.v1+json": {
       "config": {
        "plotlyServerURL": "https://plot.ly"
       },
       "data": [
        {
         "coloraxis": "coloraxis",
         "hovertemplate": "x: %{x}<br>y: %{y}<br>color: %{z}<extra></extra>",
         "name": "0",
         "type": "heatmap",
         "xaxis": "x",
         "yaxis": "y",
         "z": [
          [
           4.0017582281897226e-05,
           4.172467227615106e-05,
           5.760008050382333e-05,
           0.00012124241096449551,
           0.00010502868384949962,
           0.0001329520386071431,
           0.000128125273929018,
           0.00013772100231633963,
           0.00022780339162801629,
           0.00022232257831009892,
           0.0001737462662568245,
           0.00015585391657331723,
           0.0001682012997970566,
           0.00016425060528711452,
           0.00012273786582769506,
           0.00014457854258495187,
           0.00011777674738985734,
           0.00014386751444400204,
           8.373339684850566e-05,
           0.00011088423693094438
          ],
          [
           7.272835645101137e-05,
           7.631149641992952e-05,
           5.309145380080597e-05,
           0.00017612477099503656,
           0.0001506332254367095,
           0.00017231733108515488,
           0.00020798036944493512,
           0.00025990463640005715,
           0.00026952309817293227,
           0.0003381188487182521,
           0.0003128455156246306,
           0.00031038241740726245,
           0.00023424437038660403,
           0.0002871870136319206,
           0.00017627144642769495,
           0.00019534934101832,
           0.0002492909507034684,
           0.00012735399414474902,
           7.943584217691845e-05,
           4.348641571035963e-05
          ],
          [
           7.94376704798974e-05,
           4.550723374373898e-05,
           8.074320660687886e-05,
           0.0001252450364926112,
           0.00019428553706120146,
           0.0003215245752010112,
           0.0003082565156677818,
           0.0004362024866944878,
           0.0004511896142310474,
           0.00047011741383886296,
           0.0004327909663465666,
           0.00044774886402307876,
           0.00040186826880909114,
           0.00035777310831681784,
           0.00024191697727425653,
           0.00029226172227455515,
           0.0002130795218394031,
           0.00014684021083350104,
           0.00013334005082358413,
           5.801651484947057e-05
          ],
          [
           9.935190581184e-05,
           0.00015091800575393332,
           0.00017222928376230148,
           0.00021881752129579568,
           0.00029584736258165444,
           0.0003932895249483092,
           0.00046677867357058705,
           0.000579482693552858,
           0.0007101247950501843,
           0.0007157582178823422,
           0.0007918900736208641,
           0.0007068411589956035,
           0.000693161702804319,
           0.0006435169446716406,
           0.0005398646794164022,
           0.0004934410190092624,
           0.0004106895266993399,
           0.00019067461465661402,
           0.00022405349667805298,
           0.0001700770711485367
          ],
          [
           0.00015316837528924954,
           0.00018007531018256247,
           0.0001959561529333764,
           0.0002670802060741668,
           0.0004397628576371501,
           0.0006437885401566898,
           0.0007986372280195876,
           0.0010615950992590951,
           0.0012645626867643308,
           0.0013326054164624547,
           0.0013220630060881867,
           0.0013381210927166044,
           0.0012323601785638903,
           0.0010998463054597944,
           0.0008757565743073936,
           0.0007387555630063,
           0.0005794669571527361,
           0.00039910232887981165,
           0.0003408675802773745,
           0.00025413925530115756
          ],
          [
           0.00012565240967006566,
           0.0002367259299045903,
           0.00030011839314114766,
           0.00041435228091836647,
           0.0005622896798782058,
           0.0009034183752645353,
           0.001230932949067823,
           0.0018678234898599803,
           0.002351826310780794,
           0.002663173340058144,
           0.0026744586592521006,
           0.002547423333434331,
           0.0023396574629905675,
           0.0020314826833398004,
           0.0016225883614560262,
           0.0011683331512913138,
           0.0008979918959597865,
           0.0005737361063204864,
           0.0003988061570776487,
           0.0002730730052981141
          ],
          [
           0.0001551963288880726,
           0.0002474393165791297,
           0.00035531960624966797,
           0.0005209308558993599,
           0.0008242398490316605,
           0.0012752796962804329,
           0.002100577883596342,
           0.0031103840209927756,
           0.004229420224520368,
           0.005238781485989573,
           0.0056405197949310724,
           0.005447702726707373,
           0.004689553163568087,
           0.0037453490849556443,
           0.0026690063611120077,
           0.0017612253180322637,
           0.0012757528935214088,
           0.0008283865359165562,
           0.0004479520594281998,
           0.0002843244809774093
          ],
          [
           0.00017224998331133936,
           0.0003179871541084967,
           0.0004502734399189363,
           0.0006544715189234758,
           0.001038228908778852,
           0.0017670913572983983,
           0.0029467094433354873,
           0.004876253211107699,
           0.007100228299056242,
           0.009183377172744244,
           0.010416444227673405,
           0.010347163614028916,
           0.008756943792748044,
           0.00640153178569024,
           0.004229801858271562,
           0.0026187427194186404,
           0.001645256706605886,
           0.0010054104490047502,
           0.0005618297639440939,
           0.00040260392469547787
          ],
          [
           0.0002594048636952783,
           0.0003454291177203125,
           0.0005627051108859706,
           0.0008043737001358987,
           0.0013101354613633488,
           0.0024065366084098324,
           0.004288222090931968,
           0.007188302324925329,
           0.010825102892860646,
           0.013803814165380821,
           0.016296658639282962,
           0.016801908439376324,
           0.014069557890476059,
           0.009232791778391583,
           0.005532187867847956,
           0.0032353933140879384,
           0.001925053808626038,
           0.0012318923002079378,
           0.0006508646516575852,
           0.0003711823341672144
          ],
          [
           0.00030552098886618,
           0.00038399381599581655,
           0.0005447859310004715,
           0.0008155715177043784,
           0.0015449613964372512,
           0.003066295805091392,
           0.0057981651606335005,
           0.010081824715644519,
           0.014769063628850202,
           0.018651667808057035,
           0.02179066767445003,
           0.021848324584338465,
           0.01762836964166874,
           0.010925325801297963,
           0.0058917475631319015,
           0.0032972865110459503,
           0.0018873507179124188,
           0.0011797700017430622,
           0.0006655683786274277,
           0.0004206590602081136
          ],
          [
           0.0003007573396682646,
           0.00043541789505878263,
           0.0006329801947278516,
           0.0009331874845364353,
           0.001772125804262994,
           0.003550390425261694,
           0.006944838582606048,
           0.012538201206508596,
           0.018176136470487356,
           0.022484030537636163,
           0.02481909334665287,
           0.023528567758505994,
           0.017439459331058057,
           0.010319525666181287,
           0.005459877836585295,
           0.0029059625171769243,
           0.0016666179460249823,
           0.001001570234652876,
           0.0006219017069015143,
           0.00047694396897504556
          ],
          [
           0.0003003566953748805,
           0.00045590888383850226,
           0.0006430873873075703,
           0.0010449709445708869,
           0.0018060052302417764,
           0.0035712755041981737,
           0.007084307103196823,
           0.012718747671505116,
           0.018071218881036882,
           0.021862634265428692,
           0.022525417376049798,
           0.020158473045935748,
           0.014504429010245066,
           0.008557148975030649,
           0.00467771509719577,
           0.0025530689882842625,
           0.0015154018005369958,
           0.0009265525912566626,
           0.0005779447741565124,
           0.0003817437366714179
          ],
          [
           0.0003021534342167089,
           0.00040320945610386623,
           0.0005513835736871021,
           0.0009832015397195988,
           0.0016255413546960792,
           0.0030238004997699902,
           0.00564336569388567,
           0.009537392522137575,
           0.013733474376055394,
           0.016123326758716534,
           0.016175543987125823,
           0.01372836737283231,
           0.009908730688517825,
           0.006162570137470309,
           0.003550490943772048,
           0.002018152916683523,
           0.0012933005330389253,
           0.0008152444596632114,
           0.0005242709815951209,
           0.0003491481960809043
          ],
          [
           0.0002285034383056539,
           0.0003586979205132461,
           0.0005362668818775099,
           0.0008366968839215724,
           0.001343924937041475,
           0.002303880948387385,
           0.003710147992062468,
           0.005743321369487668,
           0.007968945510295847,
           0.009281774387340144,
           0.009236889125193413,
           0.0077119487038634065,
           0.0060066268230050505,
           0.003976203632065203,
           0.0025251941103801813,
           0.0015967525300032794,
           0.0010274256786152259,
           0.0007010049548242454,
           0.0004230506830453033,
           0.00031619759657900803
          ],
          [
           0.00021270250943892344,
           0.0003525796832916355,
           0.00044228376514118605,
           0.0006555240415184382,
           0.001037274563031056,
           0.0015700828502226497,
           0.0023989130352545154,
           0.003353974713729403,
           0.0040415096719461745,
           0.004490149486926332,
           0.004679872855002033,
           0.004138338748112164,
           0.0033039749397828127,
           0.0023994413216691067,
           0.0017390765408203729,
           0.0012338626083042712,
           0.0007826256824459578,
           0.0005562228231762222,
           0.00036308213945095613,
           0.0002405462161301115
          ],
          [
           0.00016946034107516845,
           0.0002311202443115851,
           0.0003485899148236626,
           0.0004902967154302983,
           0.0007576192982296509,
           0.0010451283298051656,
           0.0014917647021637467,
           0.0018933950724746035,
           0.0022492361010732066,
           0.0024179676339601604,
           0.0024122975952527107,
           0.0023150556324497413,
           0.001920854304322395,
           0.0014847758361012351,
           0.0011853790586845326,
           0.0008933533167288375,
           0.0006010199672999257,
           0.000484742540884261,
           0.0003197793277494911,
           0.0002658144575802506
          ],
          [
           0.00018641526817326007,
           0.00018359110285879625,
           0.00030062021812265593,
           0.0003793702378210032,
           0.0005339706076901145,
           0.0006818581366075092,
           0.0009607404087864993,
           0.001157982320463171,
           0.0013111355064807184,
           0.0013156686633112487,
           0.0014648765123859368,
           0.0013717348716802873,
           0.0012065298880865958,
           0.0009457334735360739,
           0.0008111807317209905,
           0.0006507324771397646,
           0.00043961776570255887,
           0.00035766290219053324,
           0.0002648640864231602,
           0.0002234691134935103
          ],
          [
           0.00012285717546519403,
           0.0001758607656475929,
           0.00022296174653482932,
           0.0002570242110858433,
           0.0003321142678987446,
           0.0004545023238326318,
           0.0005986361816503943,
           0.0007469088895185998,
           0.0007301220496771918,
           0.0008354700136356882,
           0.00089566568331686,
           0.0007814563830374602,
           0.0007365141697791012,
           0.0006300323171654769,
           0.0005770711431967278,
           0.0004814641700836971,
           0.00028272772450181236,
           0.00024301758172551134,
           0.0001508393817842653,
           0.00015929800812652863
          ],
          [
           8.81188403292053e-05,
           8.585765179643127e-05,
           0.00015466017016516377,
           0.00019819011644898164,
           0.0002443105923956038,
           0.0002988835670464461,
           0.0003050293645902334,
           0.00048310359722706156,
           0.0004605991537943436,
           0.0005116517940984925,
           0.0005992429139834709,
           0.0005627808030485218,
           0.00044452428710319247,
           0.0004492177218284417,
           0.0002899497531195748,
           0.0003133553820992997,
           0.00024456255960716603,
           0.00014660094059290235,
           0.00014684829283496316,
           0.0001342827203195438
          ],
          [
           0.00010313034830630555,
           8.236411500685086e-05,
           0.00011232230744163393,
           8.785167043438734e-05,
           0.00011292062496569153,
           0.00014518489890041675,
           0.00019136036820421488,
           0.0002947096262718582,
           0.0003156444215792441,
           0.0003847160805285499,
           0.00036339414061409444,
           0.0003246157492724805,
           0.00024628581380909607,
           0.00028632620713293135,
           0.00023552018580137125,
           0.00025470734563327543,
           0.000201561583390751,
           0.0001567434160447309,
           0.00010397697892749569,
           9.513254251017345e-05
          ]
         ]
        }
       ],
       "layout": {
        "autosize": true,
        "coloraxis": {
         "colorscale": [
          [
           0,
           "#0d0887"
          ],
          [
           0.1111111111111111,
           "#46039f"
          ],
          [
           0.2222222222222222,
           "#7201a8"
          ],
          [
           0.3333333333333333,
           "#9c179e"
          ],
          [
           0.4444444444444444,
           "#bd3786"
          ],
          [
           0.5555555555555556,
           "#d8576b"
          ],
          [
           0.6666666666666666,
           "#ed7953"
          ],
          [
           0.7777777777777778,
           "#fb9f3a"
          ],
          [
           0.8888888888888888,
           "#fdca26"
          ],
          [
           1,
           "#f0f921"
          ]
         ]
        },
        "margin": {
         "t": 60
        },
        "template": {
         "data": {
          "bar": [
           {
            "error_x": {
             "color": "#2a3f5f"
            },
            "error_y": {
             "color": "#2a3f5f"
            },
            "marker": {
             "line": {
              "color": "#E5ECF6",
              "width": 0.5
             },
             "pattern": {
              "fillmode": "overlay",
              "size": 10,
              "solidity": 0.2
             }
            },
            "type": "bar"
           }
          ],
          "barpolar": [
           {
            "marker": {
             "line": {
              "color": "#E5ECF6",
              "width": 0.5
             },
             "pattern": {
              "fillmode": "overlay",
              "size": 10,
              "solidity": 0.2
             }
            },
            "type": "barpolar"
           }
          ],
          "carpet": [
           {
            "aaxis": {
             "endlinecolor": "#2a3f5f",
             "gridcolor": "white",
             "linecolor": "white",
             "minorgridcolor": "white",
             "startlinecolor": "#2a3f5f"
            },
            "baxis": {
             "endlinecolor": "#2a3f5f",
             "gridcolor": "white",
             "linecolor": "white",
             "minorgridcolor": "white",
             "startlinecolor": "#2a3f5f"
            },
            "type": "carpet"
           }
          ],
          "choropleth": [
           {
            "colorbar": {
             "outlinewidth": 0,
             "ticks": ""
            },
            "type": "choropleth"
           }
          ],
          "contour": [
           {
            "colorbar": {
             "outlinewidth": 0,
             "ticks": ""
            },
            "colorscale": [
             [
              0,
              "#0d0887"
             ],
             [
              0.1111111111111111,
              "#46039f"
             ],
             [
              0.2222222222222222,
              "#7201a8"
             ],
             [
              0.3333333333333333,
              "#9c179e"
             ],
             [
              0.4444444444444444,
              "#bd3786"
             ],
             [
              0.5555555555555556,
              "#d8576b"
             ],
             [
              0.6666666666666666,
              "#ed7953"
             ],
             [
              0.7777777777777778,
              "#fb9f3a"
             ],
             [
              0.8888888888888888,
              "#fdca26"
             ],
             [
              1,
              "#f0f921"
             ]
            ],
            "type": "contour"
           }
          ],
          "contourcarpet": [
           {
            "colorbar": {
             "outlinewidth": 0,
             "ticks": ""
            },
            "type": "contourcarpet"
           }
          ],
          "heatmap": [
           {
            "colorbar": {
             "outlinewidth": 0,
             "ticks": ""
            },
            "colorscale": [
             [
              0,
              "#0d0887"
             ],
             [
              0.1111111111111111,
              "#46039f"
             ],
             [
              0.2222222222222222,
              "#7201a8"
             ],
             [
              0.3333333333333333,
              "#9c179e"
             ],
             [
              0.4444444444444444,
              "#bd3786"
             ],
             [
              0.5555555555555556,
              "#d8576b"
             ],
             [
              0.6666666666666666,
              "#ed7953"
             ],
             [
              0.7777777777777778,
              "#fb9f3a"
             ],
             [
              0.8888888888888888,
              "#fdca26"
             ],
             [
              1,
              "#f0f921"
             ]
            ],
            "type": "heatmap"
           }
          ],
          "heatmapgl": [
           {
            "colorbar": {
             "outlinewidth": 0,
             "ticks": ""
            },
            "colorscale": [
             [
              0,
              "#0d0887"
             ],
             [
              0.1111111111111111,
              "#46039f"
             ],
             [
              0.2222222222222222,
              "#7201a8"
             ],
             [
              0.3333333333333333,
              "#9c179e"
             ],
             [
              0.4444444444444444,
              "#bd3786"
             ],
             [
              0.5555555555555556,
              "#d8576b"
             ],
             [
              0.6666666666666666,
              "#ed7953"
             ],
             [
              0.7777777777777778,
              "#fb9f3a"
             ],
             [
              0.8888888888888888,
              "#fdca26"
             ],
             [
              1,
              "#f0f921"
             ]
            ],
            "type": "heatmapgl"
           }
          ],
          "histogram": [
           {
            "marker": {
             "pattern": {
              "fillmode": "overlay",
              "size": 10,
              "solidity": 0.2
             }
            },
            "type": "histogram"
           }
          ],
          "histogram2d": [
           {
            "colorbar": {
             "outlinewidth": 0,
             "ticks": ""
            },
            "colorscale": [
             [
              0,
              "#0d0887"
             ],
             [
              0.1111111111111111,
              "#46039f"
             ],
             [
              0.2222222222222222,
              "#7201a8"
             ],
             [
              0.3333333333333333,
              "#9c179e"
             ],
             [
              0.4444444444444444,
              "#bd3786"
             ],
             [
              0.5555555555555556,
              "#d8576b"
             ],
             [
              0.6666666666666666,
              "#ed7953"
             ],
             [
              0.7777777777777778,
              "#fb9f3a"
             ],
             [
              0.8888888888888888,
              "#fdca26"
             ],
             [
              1,
              "#f0f921"
             ]
            ],
            "type": "histogram2d"
           }
          ],
          "histogram2dcontour": [
           {
            "colorbar": {
             "outlinewidth": 0,
             "ticks": ""
            },
            "colorscale": [
             [
              0,
              "#0d0887"
             ],
             [
              0.1111111111111111,
              "#46039f"
             ],
             [
              0.2222222222222222,
              "#7201a8"
             ],
             [
              0.3333333333333333,
              "#9c179e"
             ],
             [
              0.4444444444444444,
              "#bd3786"
             ],
             [
              0.5555555555555556,
              "#d8576b"
             ],
             [
              0.6666666666666666,
              "#ed7953"
             ],
             [
              0.7777777777777778,
              "#fb9f3a"
             ],
             [
              0.8888888888888888,
              "#fdca26"
             ],
             [
              1,
              "#f0f921"
             ]
            ],
            "type": "histogram2dcontour"
           }
          ],
          "mesh3d": [
           {
            "colorbar": {
             "outlinewidth": 0,
             "ticks": ""
            },
            "type": "mesh3d"
           }
          ],
          "parcoords": [
           {
            "line": {
             "colorbar": {
              "outlinewidth": 0,
              "ticks": ""
             }
            },
            "type": "parcoords"
           }
          ],
          "pie": [
           {
            "automargin": true,
            "type": "pie"
           }
          ],
          "scatter": [
           {
            "fillpattern": {
             "fillmode": "overlay",
             "size": 10,
             "solidity": 0.2
            },
            "type": "scatter"
           }
          ],
          "scatter3d": [
           {
            "line": {
             "colorbar": {
              "outlinewidth": 0,
              "ticks": ""
             }
            },
            "marker": {
             "colorbar": {
              "outlinewidth": 0,
              "ticks": ""
             }
            },
            "type": "scatter3d"
           }
          ],
          "scattercarpet": [
           {
            "marker": {
             "colorbar": {
              "outlinewidth": 0,
              "ticks": ""
             }
            },
            "type": "scattercarpet"
           }
          ],
          "scattergeo": [
           {
            "marker": {
             "colorbar": {
              "outlinewidth": 0,
              "ticks": ""
             }
            },
            "type": "scattergeo"
           }
          ],
          "scattergl": [
           {
            "marker": {
             "colorbar": {
              "outlinewidth": 0,
              "ticks": ""
             }
            },
            "type": "scattergl"
           }
          ],
          "scattermapbox": [
           {
            "marker": {
             "colorbar": {
              "outlinewidth": 0,
              "ticks": ""
             }
            },
            "type": "scattermapbox"
           }
          ],
          "scatterpolar": [
           {
            "marker": {
             "colorbar": {
              "outlinewidth": 0,
              "ticks": ""
             }
            },
            "type": "scatterpolar"
           }
          ],
          "scatterpolargl": [
           {
            "marker": {
             "colorbar": {
              "outlinewidth": 0,
              "ticks": ""
             }
            },
            "type": "scatterpolargl"
           }
          ],
          "scatterternary": [
           {
            "marker": {
             "colorbar": {
              "outlinewidth": 0,
              "ticks": ""
             }
            },
            "type": "scatterternary"
           }
          ],
          "surface": [
           {
            "colorbar": {
             "outlinewidth": 0,
             "ticks": ""
            },
            "colorscale": [
             [
              0,
              "#0d0887"
             ],
             [
              0.1111111111111111,
              "#46039f"
             ],
             [
              0.2222222222222222,
              "#7201a8"
             ],
             [
              0.3333333333333333,
              "#9c179e"
             ],
             [
              0.4444444444444444,
              "#bd3786"
             ],
             [
              0.5555555555555556,
              "#d8576b"
             ],
             [
              0.6666666666666666,
              "#ed7953"
             ],
             [
              0.7777777777777778,
              "#fb9f3a"
             ],
             [
              0.8888888888888888,
              "#fdca26"
             ],
             [
              1,
              "#f0f921"
             ]
            ],
            "type": "surface"
           }
          ],
          "table": [
           {
            "cells": {
             "fill": {
              "color": "#EBF0F8"
             },
             "line": {
              "color": "white"
             }
            },
            "header": {
             "fill": {
              "color": "#C8D4E3"
             },
             "line": {
              "color": "white"
             }
            },
            "type": "table"
           }
          ]
         },
         "layout": {
          "annotationdefaults": {
           "arrowcolor": "#2a3f5f",
           "arrowhead": 0,
           "arrowwidth": 1
          },
          "autotypenumbers": "strict",
          "coloraxis": {
           "colorbar": {
            "outlinewidth": 0,
            "ticks": ""
           }
          },
          "colorscale": {
           "diverging": [
            [
             0,
             "#8e0152"
            ],
            [
             0.1,
             "#c51b7d"
            ],
            [
             0.2,
             "#de77ae"
            ],
            [
             0.3,
             "#f1b6da"
            ],
            [
             0.4,
             "#fde0ef"
            ],
            [
             0.5,
             "#f7f7f7"
            ],
            [
             0.6,
             "#e6f5d0"
            ],
            [
             0.7,
             "#b8e186"
            ],
            [
             0.8,
             "#7fbc41"
            ],
            [
             0.9,
             "#4d9221"
            ],
            [
             1,
             "#276419"
            ]
           ],
           "sequential": [
            [
             0,
             "#0d0887"
            ],
            [
             0.1111111111111111,
             "#46039f"
            ],
            [
             0.2222222222222222,
             "#7201a8"
            ],
            [
             0.3333333333333333,
             "#9c179e"
            ],
            [
             0.4444444444444444,
             "#bd3786"
            ],
            [
             0.5555555555555556,
             "#d8576b"
            ],
            [
             0.6666666666666666,
             "#ed7953"
            ],
            [
             0.7777777777777778,
             "#fb9f3a"
            ],
            [
             0.8888888888888888,
             "#fdca26"
            ],
            [
             1,
             "#f0f921"
            ]
           ],
           "sequentialminus": [
            [
             0,
             "#0d0887"
            ],
            [
             0.1111111111111111,
             "#46039f"
            ],
            [
             0.2222222222222222,
             "#7201a8"
            ],
            [
             0.3333333333333333,
             "#9c179e"
            ],
            [
             0.4444444444444444,
             "#bd3786"
            ],
            [
             0.5555555555555556,
             "#d8576b"
            ],
            [
             0.6666666666666666,
             "#ed7953"
            ],
            [
             0.7777777777777778,
             "#fb9f3a"
            ],
            [
             0.8888888888888888,
             "#fdca26"
            ],
            [
             1,
             "#f0f921"
            ]
           ]
          },
          "colorway": [
           "#636efa",
           "#EF553B",
           "#00cc96",
           "#ab63fa",
           "#FFA15A",
           "#19d3f3",
           "#FF6692",
           "#B6E880",
           "#FF97FF",
           "#FECB52"
          ],
          "font": {
           "color": "#2a3f5f"
          },
          "geo": {
           "bgcolor": "white",
           "lakecolor": "white",
           "landcolor": "#E5ECF6",
           "showlakes": true,
           "showland": true,
           "subunitcolor": "white"
          },
          "hoverlabel": {
           "align": "left"
          },
          "hovermode": "closest",
          "mapbox": {
           "style": "light"
          },
          "paper_bgcolor": "white",
          "plot_bgcolor": "#E5ECF6",
          "polar": {
           "angularaxis": {
            "gridcolor": "white",
            "linecolor": "white",
            "ticks": ""
           },
           "bgcolor": "#E5ECF6",
           "radialaxis": {
            "gridcolor": "white",
            "linecolor": "white",
            "ticks": ""
           }
          },
          "scene": {
           "xaxis": {
            "backgroundcolor": "#E5ECF6",
            "gridcolor": "white",
            "gridwidth": 2,
            "linecolor": "white",
            "showbackground": true,
            "ticks": "",
            "zerolinecolor": "white"
           },
           "yaxis": {
            "backgroundcolor": "#E5ECF6",
            "gridcolor": "white",
            "gridwidth": 2,
            "linecolor": "white",
            "showbackground": true,
            "ticks": "",
            "zerolinecolor": "white"
           },
           "zaxis": {
            "backgroundcolor": "#E5ECF6",
            "gridcolor": "white",
            "gridwidth": 2,
            "linecolor": "white",
            "showbackground": true,
            "ticks": "",
            "zerolinecolor": "white"
           }
          },
          "shapedefaults": {
           "line": {
            "color": "#2a3f5f"
           }
          },
          "ternary": {
           "aaxis": {
            "gridcolor": "white",
            "linecolor": "white",
            "ticks": ""
           },
           "baxis": {
            "gridcolor": "white",
            "linecolor": "white",
            "ticks": ""
           },
           "bgcolor": "#E5ECF6",
           "caxis": {
            "gridcolor": "white",
            "linecolor": "white",
            "ticks": ""
           }
          },
          "title": {
           "x": 0.05
          },
          "xaxis": {
           "automargin": true,
           "gridcolor": "white",
           "linecolor": "white",
           "ticks": "",
           "title": {
            "standoff": 15
           },
           "zerolinecolor": "white",
           "zerolinewidth": 2
          },
          "yaxis": {
           "automargin": true,
           "gridcolor": "white",
           "linecolor": "white",
           "ticks": "",
           "title": {
            "standoff": 15
           },
           "zerolinecolor": "white",
           "zerolinewidth": 2
          }
         }
        },
        "xaxis": {
         "anchor": "y",
         "autorange": true,
         "constrain": "domain",
         "domain": [
          0.3484848484848485,
          0.6515151515151515
         ],
         "range": [
          -0.5,
          19.5
         ],
         "scaleanchor": "y"
        },
        "yaxis": {
         "anchor": "x",
         "autorange": true,
         "constrain": "domain",
         "domain": [
          0,
          1
         ],
         "range": [
          19.5,
          -0.5
         ]
        }
       }
      },
      "image/png": "[encoded data removed]",
      "text/html": [
       "<div>                            <div id=\"5931bbc5-0162-4226-9a97-62be6d34e201\" class=\"plotly-graph-div\" style=\"height:525px; width:100%;\"></div>            <script type=\"text/javascript\">                require([\"plotly\"], function(Plotly) {                    window.PLOTLYENV=window.PLOTLYENV || {};                                    if (document.getElementById(\"5931bbc5-0162-4226-9a97-62be6d34e201\")) {                    Plotly.newPlot(                        \"5931bbc5-0162-4226-9a97-62be6d34e201\",                        [{\"coloraxis\":\"coloraxis\",\"name\":\"0\",\"z\":[[4.0017582281897226e-05,4.172467227615106e-05,5.760008050382333e-05,0.00012124241096449551,0.00010502868384949962,0.0001329520386071431,0.000128125273929018,0.00013772100231633963,0.00022780339162801629,0.00022232257831009892,0.0001737462662568245,0.00015585391657331723,0.0001682012997970566,0.00016425060528711452,0.00012273786582769506,0.00014457854258495187,0.00011777674738985734,0.00014386751444400204,8.373339684850566e-05,0.00011088423693094438],[7.272835645101137e-05,7.631149641992952e-05,5.309145380080597e-05,0.00017612477099503656,0.0001506332254367095,0.00017231733108515488,0.00020798036944493512,0.00025990463640005715,0.00026952309817293227,0.0003381188487182521,0.0003128455156246306,0.00031038241740726245,0.00023424437038660403,0.0002871870136319206,0.00017627144642769495,0.00019534934101832,0.0002492909507034684,0.00012735399414474902,7.943584217691845e-05,4.348641571035963e-05],[7.94376704798974e-05,4.550723374373898e-05,8.074320660687886e-05,0.0001252450364926112,0.00019428553706120146,0.0003215245752010112,0.0003082565156677818,0.0004362024866944878,0.0004511896142310474,0.00047011741383886296,0.0004327909663465666,0.00044774886402307876,0.00040186826880909114,0.00035777310831681784,0.00024191697727425653,0.00029226172227455515,0.0002130795218394031,0.00014684021083350104,0.00013334005082358413,5.801651484947057e-05],[9.935190581184e-05,0.00015091800575393332,0.00017222928376230148,0.00021881752129579568,0.00029584736258165444,0.0003932895249483092,0.00046677867357058705,0.000579482693552858,0.0007101247950501843,0.0007157582178823422,0.0007918900736208641,0.0007068411589956035,0.000693161702804319,0.0006435169446716406,0.0005398646794164022,0.0004934410190092624,0.0004106895266993399,0.00019067461465661402,0.00022405349667805298,0.0001700770711485367],[0.00015316837528924954,0.00018007531018256247,0.0001959561529333764,0.0002670802060741668,0.0004397628576371501,0.0006437885401566898,0.0007986372280195876,0.0010615950992590951,0.0012645626867643308,0.0013326054164624547,0.0013220630060881867,0.0013381210927166044,0.0012323601785638903,0.0010998463054597944,0.0008757565743073936,0.0007387555630063,0.0005794669571527361,0.00039910232887981165,0.0003408675802773745,0.00025413925530115756],[0.00012565240967006566,0.0002367259299045903,0.00030011839314114766,0.00041435228091836647,0.0005622896798782058,0.0009034183752645353,0.001230932949067823,0.0018678234898599803,0.002351826310780794,0.002663173340058144,0.0026744586592521006,0.002547423333434331,0.0023396574629905675,0.0020314826833398004,0.0016225883614560262,0.0011683331512913138,0.0008979918959597865,0.0005737361063204864,0.0003988061570776487,0.0002730730052981141],[0.0001551963288880726,0.0002474393165791297,0.00035531960624966797,0.0005209308558993599,0.0008242398490316605,0.0012752796962804329,0.002100577883596342,0.0031103840209927756,0.004229420224520368,0.005238781485989573,0.0056405197949310724,0.005447702726707373,0.004689553163568087,0.0037453490849556443,0.0026690063611120077,0.0017612253180322637,0.0012757528935214088,0.0008283865359165562,0.0004479520594281998,0.0002843244809774093],[0.00017224998331133936,0.0003179871541084967,0.0004502734399189363,0.0006544715189234758,0.001038228908778852,0.0017670913572983983,0.0029467094433354873,0.004876253211107699,0.007100228299056242,0.009183377172744244,0.010416444227673405,0.010347163614028916,0.008756943792748044,0.00640153178569024,0.004229801858271562,0.0026187427194186404,0.001645256706605886,0.0010054104490047502,0.0005618297639440939,0.00040260392469547787],[0.0002594048636952783,0.0003454291177203125,0.0005627051108859706,0.0008043737001358987,0.0013101354613633488,0.0024065366084098324,0.004288222090931968,0.007188302324925329,0.010825102892860646,0.013803814165380821,0.016296658639282962,0.016801908439376324,0.014069557890476059,0.009232791778391583,0.005532187867847956,0.0032353933140879384,0.001925053808626038,0.0012318923002079378,0.0006508646516575852,0.0003711823341672144],[0.00030552098886618,0.00038399381599581655,0.0005447859310004715,0.0008155715177043784,0.0015449613964372512,0.003066295805091392,0.0057981651606335005,0.010081824715644519,0.014769063628850202,0.018651667808057035,0.02179066767445003,0.021848324584338465,0.01762836964166874,0.010925325801297963,0.0058917475631319015,0.0032972865110459503,0.0018873507179124188,0.0011797700017430622,0.0006655683786274277,0.0004206590602081136],[0.0003007573396682646,0.00043541789505878263,0.0006329801947278516,0.0009331874845364353,0.001772125804262994,0.003550390425261694,0.006944838582606048,0.012538201206508596,0.018176136470487356,0.022484030537636163,0.02481909334665287,0.023528567758505994,0.017439459331058057,0.010319525666181287,0.005459877836585295,0.0029059625171769243,0.0016666179460249823,0.001001570234652876,0.0006219017069015143,0.00047694396897504556],[0.0003003566953748805,0.00045590888383850226,0.0006430873873075703,0.0010449709445708869,0.0018060052302417764,0.0035712755041981737,0.007084307103196823,0.012718747671505116,0.018071218881036882,0.021862634265428692,0.022525417376049798,0.020158473045935748,0.014504429010245066,0.008557148975030649,0.00467771509719577,0.0025530689882842625,0.0015154018005369958,0.0009265525912566626,0.0005779447741565124,0.0003817437366714179],[0.0003021534342167089,0.00040320945610386623,0.0005513835736871021,0.0009832015397195988,0.0016255413546960792,0.0030238004997699902,0.00564336569388567,0.009537392522137575,0.013733474376055394,0.016123326758716534,0.016175543987125823,0.01372836737283231,0.009908730688517825,0.006162570137470309,0.003550490943772048,0.002018152916683523,0.0012933005330389253,0.0008152444596632114,0.0005242709815951209,0.0003491481960809043],[0.0002285034383056539,0.0003586979205132461,0.0005362668818775099,0.0008366968839215724,0.001343924937041475,0.002303880948387385,0.003710147992062468,0.005743321369487668,0.007968945510295847,0.009281774387340144,0.009236889125193413,0.0077119487038634065,0.0060066268230050505,0.003976203632065203,0.0025251941103801813,0.0015967525300032794,0.0010274256786152259,0.0007010049548242454,0.0004230506830453033,0.00031619759657900803],[0.00021270250943892344,0.0003525796832916355,0.00044228376514118605,0.0006555240415184382,0.001037274563031056,0.0015700828502226497,0.0023989130352545154,0.003353974713729403,0.0040415096719461745,0.004490149486926332,0.004679872855002033,0.004138338748112164,0.0033039749397828127,0.0023994413216691067,0.0017390765408203729,0.0012338626083042712,0.0007826256824459578,0.0005562228231762222,0.00036308213945095613,0.0002405462161301115],[0.00016946034107516845,0.0002311202443115851,0.0003485899148236626,0.0004902967154302983,0.0007576192982296509,0.0010451283298051656,0.0014917647021637467,0.0018933950724746035,0.0022492361010732066,0.0024179676339601604,0.0024122975952527107,0.0023150556324497413,0.001920854304322395,0.0014847758361012351,0.0011853790586845326,0.0008933533167288375,0.0006010199672999257,0.000484742540884261,0.0003197793277494911,0.0002658144575802506],[0.00018641526817326007,0.00018359110285879625,0.00030062021812265593,0.0003793702378210032,0.0005339706076901145,0.0006818581366075092,0.0009607404087864993,0.001157982320463171,0.0013111355064807184,0.0013156686633112487,0.0014648765123859368,0.0013717348716802873,0.0012065298880865958,0.0009457334735360739,0.0008111807317209905,0.0006507324771397646,0.00043961776570255887,0.00035766290219053324,0.0002648640864231602,0.0002234691134935103],[0.00012285717546519403,0.0001758607656475929,0.00022296174653482932,0.0002570242110858433,0.0003321142678987446,0.0004545023238326318,0.0005986361816503943,0.0007469088895185998,0.0007301220496771918,0.0008354700136356882,0.00089566568331686,0.0007814563830374602,0.0007365141697791012,0.0006300323171654769,0.0005770711431967278,0.0004814641700836971,0.00028272772450181236,0.00024301758172551134,0.0001508393817842653,0.00015929800812652863],[8.81188403292053e-05,8.585765179643127e-05,0.00015466017016516377,0.00019819011644898164,0.0002443105923956038,0.0002988835670464461,0.0003050293645902334,0.00048310359722706156,0.0004605991537943436,0.0005116517940984925,0.0005992429139834709,0.0005627808030485218,0.00044452428710319247,0.0004492177218284417,0.0002899497531195748,0.0003133553820992997,0.00024456255960716603,0.00014660094059290235,0.00014684829283496316,0.0001342827203195438],[0.00010313034830630555,8.236411500685086e-05,0.00011232230744163393,8.785167043438734e-05,0.00011292062496569153,0.00014518489890041675,0.00019136036820421488,0.0002947096262718582,0.0003156444215792441,0.0003847160805285499,0.00036339414061409444,0.0003246157492724805,0.00024628581380909607,0.00028632620713293135,0.00023552018580137125,0.00025470734563327543,0.000201561583390751,0.0001567434160447309,0.00010397697892749569,9.513254251017345e-05]],\"type\":\"heatmap\",\"xaxis\":\"x\",\"yaxis\":\"y\",\"hovertemplate\":\"x: %{x}\\u003cbr\\u003ey: %{y}\\u003cbr\\u003ecolor: %{z}\\u003cextra\\u003e\\u003c\\u002fextra\\u003e\"}],                        {\"template\":{\"data\":{\"histogram2dcontour\":[{\"type\":\"histogram2dcontour\",\"colorbar\":{\"outlinewidth\":0,\"ticks\":\"\"},\"colorscale\":[[0.0,\"#0d0887\"],[0.1111111111111111,\"#46039f\"],[0.2222222222222222,\"#7201a8\"],[0.3333333333333333,\"#9c179e\"],[0.4444444444444444,\"#bd3786\"],[0.5555555555555556,\"#d8576b\"],[0.6666666666666666,\"#ed7953\"],[0.7777777777777778,\"#fb9f3a\"],[0.8888888888888888,\"#fdca26\"],[1.0,\"#f0f921\"]]}],\"choropleth\":[{\"type\":\"choropleth\",\"colorbar\":{\"outlinewidth\":0,\"ticks\":\"\"}}],\"histogram2d\":[{\"type\":\"histogram2d\",\"colorbar\":{\"outlinewidth\":0,\"ticks\":\"\"},\"colorscale\":[[0.0,\"#0d0887\"],[0.1111111111111111,\"#46039f\"],[0.2222222222222222,\"#7201a8\"],[0.3333333333333333,\"#9c179e\"],[0.4444444444444444,\"#bd3786\"],[0.5555555555555556,\"#d8576b\"],[0.6666666666666666,\"#ed7953\"],[0.7777777777777778,\"#fb9f3a\"],[0.8888888888888888,\"#fdca26\"],[1.0,\"#f0f921\"]]}],\"heatmap\":[{\"type\":\"heatmap\",\"colorbar\":{\"outlinewidth\":0,\"ticks\":\"\"},\"colorscale\":[[0.0,\"#0d0887\"],[0.1111111111111111,\"#46039f\"],[0.2222222222222222,\"#7201a8\"],[0.3333333333333333,\"#9c179e\"],[0.4444444444444444,\"#bd3786\"],[0.5555555555555556,\"#d8576b\"],[0.6666666666666666,\"#ed7953\"],[0.7777777777777778,\"#fb9f3a\"],[0.8888888888888888,\"#fdca26\"],[1.0,\"#f0f921\"]]}],\"heatmapgl\":[{\"type\":\"heatmapgl\",\"colorbar\":{\"outlinewidth\":0,\"ticks\":\"\"},\"colorscale\":[[0.0,\"#0d0887\"],[0.1111111111111111,\"#46039f\"],[0.2222222222222222,\"#7201a8\"],[0.3333333333333333,\"#9c179e\"],[0.4444444444444444,\"#bd3786\"],[0.5555555555555556,\"#d8576b\"],[0.6666666666666666,\"#ed7953\"],[0.7777777777777778,\"#fb9f3a\"],[0.8888888888888888,\"#fdca26\"],[1.0,\"#f0f921\"]]}],\"contourcarpet\":[{\"type\":\"contourcarpet\",\"colorbar\":{\"outlinewidth\":0,\"ticks\":\"\"}}],\"contour\":[{\"type\":\"contour\",\"colorbar\":{\"outlinewidth\":0,\"ticks\":\"\"},\"colorscale\":[[0.0,\"#0d0887\"],[0.1111111111111111,\"#46039f\"],[0.2222222222222222,\"#7201a8\"],[0.3333333333333333,\"#9c179e\"],[0.4444444444444444,\"#bd3786\"],[0.5555555555555556,\"#d8576b\"],[0.6666666666666666,\"#ed7953\"],[0.7777777777777778,\"#fb9f3a\"],[0.8888888888888888,\"#fdca26\"],[1.0,\"#f0f921\"]]}],\"surface\":[{\"type\":\"surface\",\"colorbar\":{\"outlinewidth\":0,\"ticks\":\"\"},\"colorscale\":[[0.0,\"#0d0887\"],[0.1111111111111111,\"#46039f\"],[0.2222222222222222,\"#7201a8\"],[0.3333333333333333,\"#9c179e\"],[0.4444444444444444,\"#bd3786\"],[0.5555555555555556,\"#d8576b\"],[0.6666666666666666,\"#ed7953\"],[0.7777777777777778,\"#fb9f3a\"],[0.8888888888888888,\"#fdca26\"],[1.0,\"#f0f921\"]]}],\"mesh3d\":[{\"type\":\"mesh3d\",\"colorbar\":{\"outlinewidth\":0,\"ticks\":\"\"}}],\"scatter\":[{\"fillpattern\":{\"fillmode\":\"overlay\",\"size\":10,\"solidity\":0.2},\"type\":\"scatter\"}],\"parcoords\":[{\"type\":\"parcoords\",\"line\":{\"colorbar\":{\"outlinewidth\":0,\"ticks\":\"\"}}}],\"scatterpolargl\":[{\"type\":\"scatterpolargl\",\"marker\":{\"colorbar\":{\"outlinewidth\":0,\"ticks\":\"\"}}}],\"bar\":[{\"error_x\":{\"color\":\"#2a3f5f\"},\"error_y\":{\"color\":\"#2a3f5f\"},\"marker\":{\"line\":{\"color\":\"#E5ECF6\",\"width\":0.5},\"pattern\":{\"fillmode\":\"overlay\",\"size\":10,\"solidity\":0.2}},\"type\":\"bar\"}],\"scattergeo\":[{\"type\":\"scattergeo\",\"marker\":{\"colorbar\":{\"outlinewidth\":0,\"ticks\":\"\"}}}],\"scatterpolar\":[{\"type\":\"scatterpolar\",\"marker\":{\"colorbar\":{\"outlinewidth\":0,\"ticks\":\"\"}}}],\"histogram\":[{\"marker\":{\"pattern\":{\"fillmode\":\"overlay\",\"size\":10,\"solidity\":0.2}},\"type\":\"histogram\"}],\"scattergl\":[{\"type\":\"scattergl\",\"marker\":{\"colorbar\":{\"outlinewidth\":0,\"ticks\":\"\"}}}],\"scatter3d\":[{\"type\":\"scatter3d\",\"line\":{\"colorbar\":{\"outlinewidth\":0,\"ticks\":\"\"}},\"marker\":{\"colorbar\":{\"outlinewidth\":0,\"ticks\":\"\"}}}],\"scattermapbox\":[{\"type\":\"scattermapbox\",\"marker\":{\"colorbar\":{\"outlinewidth\":0,\"ticks\":\"\"}}}],\"scatterternary\":[{\"type\":\"scatterternary\",\"marker\":{\"colorbar\":{\"outlinewidth\":0,\"ticks\":\"\"}}}],\"scattercarpet\":[{\"type\":\"scattercarpet\",\"marker\":{\"colorbar\":{\"outlinewidth\":0,\"ticks\":\"\"}}}],\"carpet\":[{\"aaxis\":{\"endlinecolor\":\"#2a3f5f\",\"gridcolor\":\"white\",\"linecolor\":\"white\",\"minorgridcolor\":\"white\",\"startlinecolor\":\"#2a3f5f\"},\"baxis\":{\"endlinecolor\":\"#2a3f5f\",\"gridcolor\":\"white\",\"linecolor\":\"white\",\"minorgridcolor\":\"white\",\"startlinecolor\":\"#2a3f5f\"},\"type\":\"carpet\"}],\"table\":[{\"cells\":{\"fill\":{\"color\":\"#EBF0F8\"},\"line\":{\"color\":\"white\"}},\"header\":{\"fill\":{\"color\":\"#C8D4E3\"},\"line\":{\"color\":\"white\"}},\"type\":\"table\"}],\"barpolar\":[{\"marker\":{\"line\":{\"color\":\"#E5ECF6\",\"width\":0.5},\"pattern\":{\"fillmode\":\"overlay\",\"size\":10,\"solidity\":0.2}},\"type\":\"barpolar\"}],\"pie\":[{\"automargin\":true,\"type\":\"pie\"}]},\"layout\":{\"autotypenumbers\":\"strict\",\"colorway\":[\"#636efa\",\"#EF553B\",\"#00cc96\",\"#ab63fa\",\"#FFA15A\",\"#19d3f3\",\"#FF6692\",\"#B6E880\",\"#FF97FF\",\"#FECB52\"],\"font\":{\"color\":\"#2a3f5f\"},\"hovermode\":\"closest\",\"hoverlabel\":{\"align\":\"left\"},\"paper_bgcolor\":\"white\",\"plot_bgcolor\":\"#E5ECF6\",\"polar\":{\"bgcolor\":\"#E5ECF6\",\"angularaxis\":{\"gridcolor\":\"white\",\"linecolor\":\"white\",\"ticks\":\"\"},\"radialaxis\":{\"gridcolor\":\"white\",\"linecolor\":\"white\",\"ticks\":\"\"}},\"ternary\":{\"bgcolor\":\"#E5ECF6\",\"aaxis\":{\"gridcolor\":\"white\",\"linecolor\":\"white\",\"ticks\":\"\"},\"baxis\":{\"gridcolor\":\"white\",\"linecolor\":\"white\",\"ticks\":\"\"},\"caxis\":{\"gridcolor\":\"white\",\"linecolor\":\"white\",\"ticks\":\"\"}},\"coloraxis\":{\"colorbar\":{\"outlinewidth\":0,\"ticks\":\"\"}},\"colorscale\":{\"sequential\":[[0.0,\"#0d0887\"],[0.1111111111111111,\"#46039f\"],[0.2222222222222222,\"#7201a8\"],[0.3333333333333333,\"#9c179e\"],[0.4444444444444444,\"#bd3786\"],[0.5555555555555556,\"#d8576b\"],[0.6666666666666666,\"#ed7953\"],[0.7777777777777778,\"#fb9f3a\"],[0.8888888888888888,\"#fdca26\"],[1.0,\"#f0f921\"]],\"sequentialminus\":[[0.0,\"#0d0887\"],[0.1111111111111111,\"#46039f\"],[0.2222222222222222,\"#7201a8\"],[0.3333333333333333,\"#9c179e\"],[0.4444444444444444,\"#bd3786\"],[0.5555555555555556,\"#d8576b\"],[0.6666666666666666,\"#ed7953\"],[0.7777777777777778,\"#fb9f3a\"],[0.8888888888888888,\"#fdca26\"],[1.0,\"#f0f921\"]],\"diverging\":[[0,\"#8e0152\"],[0.1,\"#c51b7d\"],[0.2,\"#de77ae\"],[0.3,\"#f1b6da\"],[0.4,\"#fde0ef\"],[0.5,\"#f7f7f7\"],[0.6,\"#e6f5d0\"],[0.7,\"#b8e186\"],[0.8,\"#7fbc41\"],[0.9,\"#4d9221\"],[1,\"#276419\"]]},\"xaxis\":{\"gridcolor\":\"white\",\"linecolor\":\"white\",\"ticks\":\"\",\"title\":{\"standoff\":15},\"zerolinecolor\":\"white\",\"automargin\":true,\"zerolinewidth\":2},\"yaxis\":{\"gridcolor\":\"white\",\"linecolor\":\"white\",\"ticks\":\"\",\"title\":{\"standoff\":15},\"zerolinecolor\":\"white\",\"automargin\":true,\"zerolinewidth\":2},\"scene\":{\"xaxis\":{\"backgroundcolor\":\"#E5ECF6\",\"gridcolor\":\"white\",\"linecolor\":\"white\",\"showbackground\":true,\"ticks\":\"\",\"zerolinecolor\":\"white\",\"gridwidth\":2},\"yaxis\":{\"backgroundcolor\":\"#E5ECF6\",\"gridcolor\":\"white\",\"linecolor\":\"white\",\"showbackground\":true,\"ticks\":\"\",\"zerolinecolor\":\"white\",\"gridwidth\":2},\"zaxis\":{\"backgroundcolor\":\"#E5ECF6\",\"gridcolor\":\"white\",\"linecolor\":\"white\",\"showbackground\":true,\"ticks\":\"\",\"zerolinecolor\":\"white\",\"gridwidth\":2}},\"shapedefaults\":{\"line\":{\"color\":\"#2a3f5f\"}},\"annotationdefaults\":{\"arrowcolor\":\"#2a3f5f\",\"arrowhead\":0,\"arrowwidth\":1},\"geo\":{\"bgcolor\":\"white\",\"landcolor\":\"#E5ECF6\",\"subunitcolor\":\"white\",\"showland\":true,\"showlakes\":true,\"lakecolor\":\"white\"},\"title\":{\"x\":0.05},\"mapbox\":{\"style\":\"light\"}}},\"xaxis\":{\"anchor\":\"y\",\"domain\":[0.0,1.0],\"scaleanchor\":\"y\",\"constrain\":\"domain\"},\"yaxis\":{\"anchor\":\"x\",\"domain\":[0.0,1.0],\"autorange\":\"reversed\",\"constrain\":\"domain\"},\"coloraxis\":{\"colorscale\":[[0.0,\"#0d0887\"],[0.1111111111111111,\"#46039f\"],[0.2222222222222222,\"#7201a8\"],[0.3333333333333333,\"#9c179e\"],[0.4444444444444444,\"#bd3786\"],[0.5555555555555556,\"#d8576b\"],[0.6666666666666666,\"#ed7953\"],[0.7777777777777778,\"#fb9f3a\"],[0.8888888888888888,\"#fdca26\"],[1.0,\"#f0f921\"]]},\"margin\":{\"t\":60}},                        {\"responsive\": true}                    ).then(function(){\n",
       "                            \n",
       "var gd = document.getElementById('5931bbc5-0162-4226-9a97-62be6d34e201');\n",
       "var x = new MutationObserver(function (mutations, observer) {{\n",
       "        var display = window.getComputedStyle(gd).display;\n",
       "        if (!display || display === 'none') {{\n",
       "            console.log([gd, 'removed!']);\n",
       "            Plotly.purge(gd);\n",
       "            observer.disconnect();\n",
       "        }}\n",
       "}});\n",
       "\n",
       "// Listen for the removal of the full notebook cells\n",
       "var notebookContainer = gd.closest('#notebook-container');\n",
       "if (notebookContainer) {{\n",
       "    x.observe(notebookContainer, {childList: true});\n",
       "}}\n",
       "\n",
       "// Listen for the clearing of the current output cell\n",
       "var outputEl = gd.closest('.output');\n",
       "if (outputEl) {{\n",
       "    x.observe(outputEl, {childList: true});\n",
       "}}\n",
       "\n",
       "                        })                };                });            </script>        </div>"
      ]
     },
     "metadata": {},
     "output_type": "display_data"
    }
   ],
   "source": [
    "px.imshow(m.evaluate(x_center, y_center, oversampled=False), aspect='equal').show()"
   ]
  },
  {
   "cell_type": "code",
   "execution_count": 125,
   "id": "a9b4e413-040b-4ed7-bced-a2b085ebdf57",
   "metadata": {},
   "outputs": [],
   "source": [
    "from scipy.ndimage import zoom\n",
    "def model(params, oversampled_psf_model, oversampling_factor, output_shape):\n",
    "    x0, y0, flux = params\n",
    "    psf = np.zeros(output_shape)\n",
    "    # This only works for even square, cutout sizes \n",
    "    cutout_half_width = psf.shape[0] // 2\n",
    "    \n",
    "    oversampled_psf = np.zeros(oversampled_psf_model.shape)\n",
    "    x0 = int(np.round(x0 * oversampling_factor))\n",
    "    if x0 < 0:\n",
    "        x_model_slice = slice(x0, None, None)\n",
    "        x_slice = slice(0, -x0, None)\n",
    "    elif x0 == 0:\n",
    "        x_model_slice = slice(None, None, None)\n",
    "        x_slice = slice(None, None, None)\n",
    "    else:\n",
    "        x_model_slice = slice(0, -x0, None)\n",
    "        x_slice = slice(x0, None, None)\n",
    "    y0 = int(np.round(y0 * oversampling_factor))\n",
    "    if y0 < 0:\n",
    "        y_model_slice = slice(y0, None, None)\n",
    "        y_slice = slice(0, -y0, None)\n",
    "    elif y0 == 0:\n",
    "        y_model_slice = slice(None, None, None)\n",
    "        y_slice = slice(None, None, None)\n",
    "    else:\n",
    "        y_model_slice = slice(0, -y0, None)\n",
    "        y_slice = slice(y0, None, None)\n",
    "    oversampled_psf[y_slice, x_slice] = oversampled_psf_model[y_model_slice, x_model_slice]\n",
    "    evaluated_psf = zoom(oversampled_psf, 1.0 / oversampling_factor)\n",
    "    psf_half_width = evaluated_psf.shape[0] // 2\n",
    "    half_width_diff = cutout_half_width - psf_half_width\n",
    "    psf[half_width_diff:-half_width_diff, half_width_diff:-half_width_diff] = evaluated_psf\n",
    "    psf /= psf.sum()\n",
    "    psf *= flux\n",
    "    return psf"
   ]
  },
  {
   "cell_type": "code",
   "execution_count": 126,
   "id": "b3f243e9-a98f-42f8-841c-351410e0ffe9",
   "metadata": {},
   "outputs": [],
   "source": [
    "from scipy.optimize import minimize"
   ]
  },
  {
   "cell_type": "code",
   "execution_count": 154,
   "id": "f26155d5-ea6c-445d-9c96-7d249d0220e8",
   "metadata": {},
   "outputs": [
    {
     "name": "stdout",
     "output_type": "stream",
     "text": [
      " message: Optimization terminated successfully\n",
      " success: True\n",
      "  status: 0\n",
      "     fun: 0.644286937950358\n",
      "       x: [ 1.000e-01  1.000e-01  1.185e+03]\n",
      "     nit: 9\n",
      "     jac: [ 0.000e+00  0.000e+00  1.490e-08]\n",
      "    nfev: 36\n",
      "    njev: 9\n"
     ]
    }
   ],
   "source": [
    "def neg_log_likelihood(params, data, error, psf_model, oversampling_factor):\n",
    "    template = model(params, psf_model, oversampling_factor, data.shape)\n",
    "    return ((data - template) ** 2.0 / error ** 2.0).sum()\n",
    "oversampled_psf = m(x_center, y_center, oversampled=True)\n",
    "best_fit = minimize(neg_log_likelihood, [0.1, 0.1, np.sum(star_cutout)], method='SLSQP',\n",
    "                    args=(star_cutout, cutout_error, oversampled_psf, 10))\n",
    "print(best_fit)"
   ]
  },
  {
   "cell_type": "code",
   "execution_count": 155,
   "id": "e021afcb-0b02-4f91-be83-a4579a01a8a7",
   "metadata": {},
   "outputs": [
    {
     "data": {
      "application/vnd.plotly.v1+json": {
       "config": {
        "plotlyServerURL": "https://plot.ly"
       },
       "data": [
        {
         "coloraxis": "coloraxis",
         "hovertemplate": "x: %{x}<br>y: %{y}<br>color: %{z}<extra></extra>",
         "name": "0",
         "type": "heatmap",
         "xaxis": "x",
         "yaxis": "y",
         "z": [
          [
           -0.30022507905960083,
           -0.24191313982009888,
           -0.1705566644668579,
           -0.2921755909919739,
           -0.23238730430603027,
           -0.34581100940704346,
           -0.08393079042434692,
           -0.03304475545883179,
           0.08668339252471924,
           -0.2554738521575928,
           -0.07973432540893555,
           -0.38960009813308716,
           -0.049046456813812256,
           -0.41774308681488037,
           0.06417882442474365,
           -0.2696787118911743,
           -0.16668790578842163,
           -0.29173558950424194,
           -0.10261720418930054,
           -0.3559895157814026,
           0.13240420818328857,
           -0.22238516807556152,
           -0.23154479265213013,
           -0.2194799780845642,
           -0.3177322745323181,
           -0.4199824333190918,
           -0.11947846412658691,
           -0.32707417011260986,
           -0.08585673570632935,
           -0.049223899841308594
          ],
          [
           0.06693553924560547,
           0.15951824188232422,
           0.06183469295501709,
           -0.30122435092926025,
           -0.11096948385238647,
           0.10682094097137451,
           -0.13533514738082886,
           -0.23596137762069702,
           0.06341004371643066,
           -0.05410259962081909,
           -0.1506447196006775,
           -0.2152099609375,
           -0.297238826751709,
           -0.12861472368240356,
           -0.30913805961608887,
           -0.064480721950531,
           0.15714192390441895,
           -0.34258949756622314,
           -0.22191846370697021,
           -0.07307428121566772,
           -0.2072533369064331,
           0.32860755920410156,
           -0.12034523487091064,
           -0.09725797176361084,
           -0.06705909967422485,
           0.028491854667663574,
           -0.15998363494873047,
           -0.13490909337997437,
           -0.1807968020439148,
           -0.2865784168243408
          ],
          [
           -0.13326364755630493,
           0.05951488018035889,
           -0.4771711230278015,
           0.013296961784362793,
           0.05738186836242676,
           -0.033293068408966064,
           0.01883077621459961,
           -0.5786503553390503,
           -0.09986847639083862,
           0.06225001811981201,
           -0.31497722864151,
           -0.17906099557876587,
           -0.40787047147750854,
           -0.35039663314819336,
           -0.07396453619003296,
           -0.3663381338119507,
           -0.15056729316711426,
           -0.5016615390777588,
           -0.23731935024261475,
           -0.3890213966369629,
           -0.6851660013198853,
           0.08184576034545898,
           -0.13760048151016235,
           -0.10675352811813354,
           -0.41562390327453613,
           -0.049581825733184814,
           -0.3933464288711548,
           -0.24724245071411133,
           0.054981231689453125,
           -0.6149212121963501
          ],
          [
           -0.03855240345001221,
           -0.22448068857192993,
           0.12908470630645752,
           -0.2119377851486206,
           -0.42501306533813477,
           -0.2443751096725464,
           -0.28324079513549805,
           0.11250972747802734,
           0.03539848327636719,
           -0.3930552005767822,
           -0.24154579639434814,
           -0.3006748557090759,
           0.035647034645080566,
           -0.3407869338989258,
           -0.2148405909538269,
           -0.12992489337921143,
           -0.19876325130462646,
           -0.3085672855377197,
           -0.4421488046646118,
           -0.1650417447090149,
           -0.04139983654022217,
           -0.2358623743057251,
           -0.33227819204330444,
           -0.057572364807128906,
           -0.008832097053527832,
           -0.20301836729049683,
           -0.5607993602752686,
           -0.12997621297836304,
           -0.37464457750320435,
           -0.2499384880065918
          ],
          [
           -0.19243556261062622,
           -0.2805873155593872,
           0.08878874778747559,
           -0.1433851718902588,
           -0.0902090072631836,
           -0.034134864807128906,
           -0.29202961921691895,
           -0.16910040378570557,
           -0.2139127254486084,
           -0.09060662984848022,
           -0.3312828540802002,
           -0.00140458345413208,
           0.14715898036956787,
           -0.12442553043365479,
           -0.14872604608535767,
           -0.1654045581817627,
           -0.27419447898864746,
           0.02983248233795166,
           0.0743865966796875,
           -0.45011377334594727,
           -0.07164984941482544,
           -0.4379531145095825,
           -0.22437340021133423,
           -0.0771864652633667,
           -0.2481985092163086,
           -0.26650720834732056,
           -0.02196723222732544,
           0.007892251014709473,
           0.11571168899536133,
           -0.12611812353134155
          ],
          [
           0.00820302963256836,
           -0.07692587375640869,
           0.24607324600219727,
           -0.3259585499763489,
           0.030541419982910156,
           -0.2592323422431946,
           -0.11220318078994751,
           -0.16486978530883792,
           -0.2593056559562683,
           -0.3746994733810425,
           -0.19025969505310059,
           -0.16825562715530398,
           -0.2925225496292114,
           -0.1776170730590821,
           0.10717093944549559,
           -0.4648179411888123,
           -0.21969783306121826,
           0.06633460521697994,
           -0.18029910326004028,
           -0.14509105682373047,
           0.11501407623291013,
           -0.2558751106262207,
           0.178855299949646,
           -0.18426549434661865,
           0.034060716629028286,
           -0.15212178230285645,
           -0.47395098209381104,
           0.0023958683013916016,
           -0.044170379638671875,
           -0.5974682569503784
          ],
          [
           -0.11721998453140259,
           -0.2621736526489258,
           -0.2343418002128601,
           -0.25001758337020874,
           -0.17871558666229248,
           -0.22483962774276733,
           -0.15433042522517187,
           -0.3914562465174414,
           -0.17067794374300127,
           -0.12277862345874882,
           -0.3123278838990241,
           -0.0716871766305415,
           -0.573064571453924,
           -0.19780407675008188,
           -0.17809650919859632,
           0.02236477890895122,
           0.05773268653879343,
           -0.24638722756413756,
           0.2066044193594203,
           -0.2328319592659075,
           -0.4915641958646621,
           0.15795635290624993,
           -0.07060133424016796,
           -0.2943669186319048,
           -0.3303968433338159,
           -0.4783989191055298,
           -0.3373720645904541,
           -0.43445712327957153,
           -0.004824697971343994,
           -0.2593570351600647
          ],
          [
           -0.10680282115936279,
           -0.35349828004837036,
           0.02731037139892578,
           -0.17295396327972412,
           -0.14685708284378052,
           -0.05201768875122071,
           -0.5786854471464654,
           -0.20425632337473634,
           -0.16133772877765817,
           -0.4692054504283045,
           -0.07585342287664076,
           -0.13869331378885635,
           -0.2298317562786637,
           -0.32420340174026496,
           -0.5548783295325175,
           -0.02611417595287069,
           -0.13967843039551386,
           -0.20807770847812512,
           -0.18175690683104367,
           -0.24098175716278347,
           -0.22963635490751833,
           -0.16862255144156563,
           -0.438380166796255,
           -0.4381275305913016,
           -0.48461176375851117,
           -0.15751081705093384,
           -0.13684439659118652,
           0.03984498977661133,
           -0.14140963554382324,
           -0.2580532431602478
          ],
          [
           0.09147536754608154,
           -0.28258877992630005,
           -0.3090721368789673,
           0.043796420097351074,
           -0.2778891921043396,
           -0.060782372951507575,
           -0.15900648518080815,
           -0.3333742800203443,
           0.144360870930436,
           0.030666394531575658,
           -0.18637391462200764,
           -0.4335620361209017,
           -0.36968062600107654,
           0.058451308961312454,
           -0.48815366309881525,
           -0.38821252124569694,
           -0.5257662056648695,
           -0.5760641863551952,
           -0.3025984279911482,
           -0.3607830588080314,
           -0.09260412087784442,
           0.23850833000642052,
           -0.26923451926553743,
           -0.08111173157988655,
           -0.17162312963108128,
           -0.2335948944091797,
           -0.06220507621765137,
           -0.3282296657562256,
           0.04184567928314209,
           0.11859738826751709
          ],
          [
           -0.3099653720855713,
           0.18373966217041016,
           0.18116331100463867,
           0.2166001796722412,
           0.1280992031097412,
           -0.26070350408554077,
           -0.45639972918052596,
           -0.24250046056714966,
           -0.4080165235085945,
           -0.29805673362574514,
           0.09522472064502852,
           -0.4764074395945005,
           -0.4815574250652912,
           -0.33967543713993,
           -0.3394517556012777,
           -0.24956132485297244,
           -0.12854963100810002,
           -0.058869653283044165,
           -0.416138757504795,
           -0.05303357821709054,
           -0.04827157373723845,
           -0.3117216760661473,
           -0.16257078100781547,
           -0.26188371237507024,
           -0.3701419958406661,
           -0.219943106174469,
           -0.06411540508270264,
           0.364345908164978,
           -0.2427842617034912,
           -0.273453950881958
          ],
          [
           -0.3034150004386902,
           0.020504117012023926,
           -0.33415043354034424,
           0.26706111431121826,
           0.05717349052429199,
           -0.032090306282043464,
           -0.6078750631611121,
           -0.25824573376038606,
           -0.14407800678902155,
           -0.2623808994288872,
           -0.3772738954293722,
           -0.20233396941847825,
           -0.390506812580917,
           -0.38498867654114033,
           -0.523421058396718,
           -0.5480645548852725,
           -0.2545794180796572,
           -0.8087593659838146,
           -0.27392807460621693,
           -0.49825982717230644,
           -0.3714913409568432,
           -0.06952295455177437,
           -0.35066198988468034,
           -0.33226572477499744,
           -0.27351151527973966,
           0.11910152435302734,
           -0.3931465148925781,
           0.09737980365753174,
           -0.49656927585601807,
           0.0826801061630249
          ],
          [
           -0.16141754388809204,
           -0.15823030471801758,
           0.019468307495117188,
           -0.14637380838394165,
           -0.2972968816757202,
           0.11247503757476805,
           0.1206196415249558,
           0.029268445669658916,
           -0.22920536040477169,
           0.413217792851746,
           -0.8770443758070448,
           -0.09362658609189145,
           -0.5094594447195617,
           -0.19195935385628893,
           -0.3326314685269267,
           -1.6468799783615822,
           -1.2984772689697275,
           -0.17872416805735902,
           0.15251462761648238,
           -0.3093169094316153,
           -0.08458708366857515,
           -0.04410050214154104,
           -0.4120429380303656,
           -0.24601202915892106,
           -0.37010487771065653,
           0.2011793851852417,
           0.0021948814392089844,
           -0.23419839143753052,
           0.023290157318115234,
           0.04708850383758545
          ],
          [
           -0.43575483560562134,
           -0.3829474449157715,
           -0.0807146430015564,
           -0.18563807010650635,
           0.03455674648284912,
           -0.05622768402099611,
           0.045433788563185806,
           -0.329333376444232,
           -0.18740702431326417,
           -0.5759636992620014,
           -0.3756049088784521,
           -0.19969104742493027,
           -0.24218251759220255,
           -0.23923392348442363,
           -1.2273053347743428,
           -0.805038620198042,
           -0.42254993767492977,
           0.5589965252045239,
           0.6170362613469589,
           0.5141487767243111,
           0.16175401166171577,
           0.06118917019436276,
           -0.4331731942815744,
           -0.33671447283983713,
           -0.2436572281892152,
           0.016759872436523438,
           -0.06385505199432373,
           0.046704769134521484,
           -0.3581400513648987,
           -0.5101306438446045
          ],
          [
           -0.4119985103607178,
           0.0019582509994506836,
           0.05675399303436279,
           -0.2914844751358032,
           -0.14053595066070557,
           0.20836460590362543,
           -0.45376548210972734,
           0.02582291470101561,
           -0.6084508733800347,
           -0.3899975499833648,
           -0.38336536558399104,
           -0.2626064129465515,
           -0.5865927439529202,
           0.29597786864301767,
           0.2629980369118581,
           1.281824244010636,
           1.8953454542173631,
           2.0160589511547435,
           0.5129604228715952,
           0.6225815110176374,
           0.28384768996488585,
           -0.08283984016137591,
           0.16051279589528655,
           -0.0960374002939357,
           -0.16608253146444618,
           0.258617639541626,
           -0.13648730516433716,
           -0.33407533168792725,
           -0.4283956289291382,
           -0.42997175455093384
          ],
          [
           -0.08340334892272949,
           -0.01947683095932007,
           -0.2546842098236084,
           -0.3933714032173157,
           -0.1618025302886963,
           0.4292714595794677,
           -0.02561443497101762,
           -0.4859831663495239,
           -0.2367301264493975,
           -0.19906276365961229,
           -0.7888405817668489,
           -0.8428152454767757,
           -0.3755750684921235,
           -0.1932713505441228,
           2.2472921321297896,
           3.8866044978834466,
           3.100269024945863,
           1.9353202304913921,
           0.5881374732783371,
           -0.6052963354892453,
           -0.4062591630632024,
           -0.3372853507632385,
           -0.19780738294794964,
           -0.5426263530754113,
           -0.4378203365449196,
           0.39501965045928955,
           0.10550713539123535,
           0.11945998668670654,
           -0.030572831630706787,
           -0.10632967948913574
          ],
          [
           -0.10489857196807861,
           0.09324216842651367,
           -0.14883053302764893,
           -0.17531728744506836,
           0.06058359146118164,
           -0.061472892761230497,
           0.071481086479109,
           -0.19131637004022772,
           -0.21863174384042217,
           -0.24750524217317205,
           -0.3799260533784965,
           -0.47709600426161725,
           -0.2883919530476753,
           1.4863223966095873,
           2.8344302167534323,
           4.587950169924159,
           5.163359369814252,
           1.521897634092749,
           -0.5495235928160689,
           -0.6969267662569321,
           -0.5546692887764064,
           -0.2378003119146106,
           -0.29992026630522384,
           -0.5022722650624855,
           -0.7008745811736895,
           0.3395266532897949,
           0.13129830360412598,
           -0.13216906785964966,
           -0.15149235725402832,
           -0.13742685317993164
          ],
          [
           -0.5842946767807007,
           -0.34089064598083496,
           0.06885862350463867,
           0.2651458978652954,
           0.41161787509918213,
           0.08958888053894037,
           -0.10159862664511543,
           -0.23789790424887125,
           -0.010244332015193036,
           0.20895307407155483,
           -0.5355912408787766,
           -0.3523691185837503,
           1.7318516316539618,
           2.0985062833751726,
           3.305918307900569,
           1.657244218964884,
           2.690082698145414,
           0.05849027505040283,
           -0.8124904117833669,
           -0.98896206658402,
           -0.7857321775849448,
           -0.3254373312080405,
           -0.46166004722394716,
           -0.29276661678551597,
           -0.48508978266872105,
           0.0028737783432006836,
           -0.18127375841140747,
           0.08371198177337646,
           -0.046114981174468994,
           -0.2835182547569275
          ],
          [
           -0.25161492824554443,
           -0.04289776086807251,
           -0.20064425468444824,
           -0.2771686315536499,
           0.019948124885559082,
           0.13449585437774655,
           -0.06424755210813926,
           -0.16588291357825313,
           0.2769243040823304,
           0.08870626969227824,
           0.1554161850735074,
           0.4606755429891338,
           0.5755251827422931,
           1.0340553077248913,
           0.8907629867659104,
           0.5743092514072252,
           0.30975778665975184,
           -0.5495666312174734,
           0.47142512824857885,
           -0.41617191951327825,
           -0.7754899603926573,
           -0.17419896972232318,
           -0.33164097013337823,
           -0.19138930689013667,
           -0.13569441001612037,
           -0.2697058916091919,
           0.0944373607635498,
           0.06002604961395264,
           -0.15482431650161743,
           -0.23725569248199463
          ],
          [
           -0.0809280276298523,
           -0.3017579913139343,
           -0.08116328716278076,
           -0.3783319592475891,
           0.04740297794342041,
           0.11750316619873044,
           -0.26767408484805677,
           -0.1881097112350818,
           -0.017325519639026177,
           -0.6013234201995104,
           0.1326403628817978,
           0.05861023899566753,
           -0.6985862527794522,
           -0.4474522392109126,
           -0.46076102059228674,
           -0.9080885050554919,
           -1.3337402266487892,
           -0.11455351851355822,
           -0.3851629514550572,
           -0.012762618338216125,
           -0.4466650577206628,
           -0.3946105208963673,
           -0.1127871814750595,
           -0.1631005134499922,
           -0.21491346370402198,
           -0.08426600694656372,
           -0.16683584451675415,
           -0.256273090839386,
           -0.27947908639907837,
           -0.05042850971221924
          ],
          [
           -0.22975754737854004,
           -0.11687570810317993,
           0.02446281909942627,
           0.09077417850494385,
           0.1654043197631836,
           -0.15304046869277957,
           -0.053176632139121716,
           -0.23610205120119654,
           -0.39440021853496743,
           -0.06839532304836204,
           -0.5670391732581552,
           -0.6862688143248188,
           -0.10721711077923501,
           0.12608667677099028,
           -0.828865212257555,
           -0.42174392319356446,
           -0.5289542577911899,
           0.00045076484498984826,
           0.10742681562558998,
           -0.09958642936743312,
           -0.15646831135220074,
           -0.6525862716740374,
           -0.1487381516786822,
           -0.3149057440678622,
           -0.3170923126983166,
           -0.010456681251525879,
           -0.06069660186767578,
           -0.24782150983810425,
           -0.15783929824829102,
           -0.23221135139465332
          ],
          [
           -0.14498978853225708,
           -0.3677360415458679,
           -0.03997170925140381,
           -0.420021116733551,
           -0.0007364153861999512,
           -0.17882281541824344,
           -0.3725426902542985,
           -0.09462440883698375,
           -0.19014818412427004,
           -0.21770969624051695,
           -0.0753791989148338,
           -0.03245899033259381,
           -0.5349124007283708,
           -0.23732155820141276,
           -0.45642602322320647,
           -0.25681513416960344,
           -0.4051232604844248,
           -0.2064423017856698,
           -0.417734889348073,
           0.10914964590146137,
           0.08382542668565374,
           -0.31141315854639506,
           -0.12532790273515038,
           -0.21020925214663527,
           -0.4163122705801784,
           -0.10061180591583252,
           -0.07230645418167114,
           -0.022293150424957275,
           -0.45135486125946045,
           -0.39436644315719604
          ],
          [
           -0.20212525129318237,
           -0.35201144218444824,
           -0.35448431968688965,
           -0.15327507257461548,
           0.014227747917175293,
           -0.11682695150375368,
           -0.5345126862860743,
           -0.22925218535184744,
           -0.3428018664305602,
           -0.2505357756882032,
           -0.10491725097921789,
           0.034457916587309345,
           -0.44409190952286903,
           -0.08941054260866932,
           -0.3751325575586244,
           -0.03585208467867407,
           0.2091152406353034,
           -0.5048982975922212,
           -0.42742820294537953,
           -0.5071221481361725,
           -0.19184829064244646,
           -0.7313112819428178,
           -0.49267741270859744,
           -0.021247877128329984,
           -0.09488552138719225,
           -0.15937012434005737,
           -0.04476708173751831,
           -0.3817483186721802,
           -0.22383683919906616,
           -0.12721234560012817
          ],
          [
           0.27197349071502686,
           0.22493219375610352,
           -0.361569344997406,
           -0.3734220266342163,
           -0.10676217079162598,
           -0.38728225231170654,
           -0.1681776732240107,
           -0.5550951578870911,
           -0.11523167301091042,
           -0.020569945163808,
           -0.5262966001043955,
           -0.22317640924936344,
           0.13392994139243608,
           -0.3854869911672171,
           -0.12382395822976977,
           0.135937802481765,
           -0.35704720146508273,
           -0.20185803504146704,
           -0.708732034523762,
           -0.02022458508687386,
           -0.46472981396663426,
           -0.5493186696549309,
           -0.6332580973953459,
           -0.308054129905565,
           -0.35059870616165967,
           -0.06986755132675171,
           0.047840237617492676,
           -0.2573689818382263,
           -0.3062496781349182,
           -0.3664180636405945
          ],
          [
           0.01853930950164795,
           -0.11592036485671997,
           0.14441514015197754,
           -0.0685306191444397,
           -0.4469403028488159,
           -0.06301122903823853,
           -0.27763174857588613,
           -0.21936086673639252,
           -0.2838624864071646,
           -0.04862939453984433,
           0.046406567014644406,
           -0.4242141288977044,
           0.13071432404156658,
           -0.038373009916768286,
           -0.12095410161113185,
           -0.1756356522636282,
           -0.025973647843049785,
           -0.011132395808981177,
           -0.25379533516000796,
           -0.22097203130659254,
           -0.39626049117669904,
           0.173467721831275,
           -0.7059483506735524,
           -0.3247148041265699,
           -0.11117872618193875,
           -0.5912017226219177,
           -0.33937788009643555,
           -0.2944020628929138,
           -0.24249619245529175,
           -0.3816378116607666
          ],
          [
           -0.14856266975402832,
           -0.17532473802566528,
           -0.32672637701034546,
           -0.24375975131988525,
           -0.2283596396446228,
           0.12189245223999022,
           -0.2876879294914363,
           -0.04159232152775774,
           -0.22122955219265922,
           -0.13291399768739828,
           -0.061272296779690816,
           -0.42262893947007324,
           -0.37679615509916625,
           -0.08926910144922906,
           0.013420715391596394,
           -0.15558229549963537,
           -0.23870361911724458,
           -0.09866124280529864,
           -0.4264558884480776,
           -0.3024521695819525,
           -0.45475710124108043,
           -0.02081887932770235,
           -0.06652700622950874,
           -0.34568589172802106,
           -0.22789511137923218,
           0.2547844648361206,
           -0.11437493562698364,
           0.052672624588012695,
           -0.08534163236618042,
           -0.21899819374084473
          ],
          [
           -0.30901622772216797,
           -0.31100302934646606,
           -0.14578896760940552,
           -0.16467541456222534,
           0.1396108865737915,
           -0.027087748050689697,
           -0.22992181777954102,
           -0.3117581605911255,
           0.0250626802444458,
           -0.02816307544708252,
           0.20810627937316895,
           -0.02974700927734375,
           -0.06980180740356445,
           -0.22416502237319946,
           0.2798808813095093,
           0.16576671600341797,
           0.29074418544769287,
           0.006651401519775391,
           -0.18676716089248657,
           0.20599126815795898,
           0.1172935962677002,
           -0.04811418056488037,
           0.03664875030517578,
           -0.28550732135772705,
           -0.10214561223983765,
           -0.16692346334457397,
           -0.3837658166885376,
           -0.2882489562034607,
           -0.3294166326522827,
           -0.24947738647460938
          ],
          [
           -0.24983084201812744,
           -0.02069193124771118,
           -0.2382412552833557,
           -0.051348984241485596,
           -0.24774682521820068,
           -0.31403452157974243,
           0.07619869709014893,
           -0.09521102905273438,
           -0.19381433725357056,
           -0.13484638929367065,
           0.07308840751647949,
           -0.17483621835708618,
           0.06864452362060547,
           0.12428128719329834,
           -0.04027754068374634,
           -0.24908053874969482,
           -0.2618560791015625,
           -0.007159292697906494,
           -0.29646652936935425,
           -0.16709178686141968,
           -0.14171671867370605,
           -0.3743884563446045,
           -0.31056225299835205,
           -0.6479743123054504,
           -0.11447906494140625,
           -0.09245473146438599,
           -0.3761862516403198,
           -0.5696758031845093,
           -0.3440747857093811,
           -0.1089354157447815
          ],
          [
           -0.3042823076248169,
           -0.13214653730392456,
           0.10351777076721191,
           -0.4070214033126831,
           0.15682661533355713,
           -0.16981571912765503,
           -0.09916740655899048,
           0.0007364749908447266,
           -0.2754061222076416,
           0.024040937423706055,
           -0.2759400010108948,
           -0.013914525508880615,
           -0.13246989250183105,
           -0.08199012279510498,
           -0.3280242681503296,
           0.022245407104492188,
           -0.10471165180206299,
           -0.24665212631225586,
           0.06042671203613281,
           0.04909849166870117,
           -0.05635881423950195,
           0.1397033929824829,
           -0.17672377824783325,
           -0.5194178819656372,
           0.5146138668060303,
           -0.6403790712356567,
           -0.26285576820373535,
           -0.3320534825325012,
           0.18504393100738525,
           0.055445075035095215
          ],
          [
           -0.21884918212890625,
           0.041475772857666016,
           -0.5375974178314209,
           0.19949400424957275,
           -0.025823116302490234,
           -0.19080603122711182,
           -0.30460792779922485,
           -0.2700023055076599,
           0.3169116973876953,
           -0.21954387426376343,
           -0.4567364454269409,
           -0.34045249223709106,
           -0.1418284773826599,
           0.06742095947265625,
           -0.06771957874298096,
           -0.09251528978347778,
           -0.2795373797416687,
           0.03923225402832031,
           0.10448074340820312,
           -0.4904480576515198,
           -0.030934512615203857,
           0.0021480321884155273,
           0.07097268104553223,
           -0.3931676745414734,
           -0.3592389225959778,
           -0.15364545583724976,
           -0.12290692329406738,
           -0.012052416801452637,
           -0.2412852644920349,
           -0.5169645547866821
          ],
          [
           0.18615198135375977,
           -0.3423328995704651,
           -0.23651152849197388,
           -0.4577218294143677,
           0.1538606882095337,
           -0.1528381109237671,
           0.024437665939331055,
           0.03080117702484131,
           -0.07133620977401733,
           0.1265120506286621,
           -0.3453441858291626,
           -0.3576785922050476,
           -0.14164161682128906,
           -0.12312805652618408,
           0.03199291229248047,
           0.11599552631378174,
           0.1502056121826172,
           -0.33764129877090454,
           -0.10842698812484741,
           -0.04740250110626221,
           0.13488709926605225,
           -0.2977697253227234,
           -0.21088272333145142,
           -0.47301822900772095,
           -0.4986935257911682,
           -0.1525149941444397,
           -0.4333101511001587,
           0.2222745418548584,
           -0.44677335023880005,
           -0.1275651454925537
          ]
         ]
        }
       ],
       "layout": {
        "autosize": true,
        "coloraxis": {
         "colorscale": [
          [
           0,
           "#0d0887"
          ],
          [
           0.1111111111111111,
           "#46039f"
          ],
          [
           0.2222222222222222,
           "#7201a8"
          ],
          [
           0.3333333333333333,
           "#9c179e"
          ],
          [
           0.4444444444444444,
           "#bd3786"
          ],
          [
           0.5555555555555556,
           "#d8576b"
          ],
          [
           0.6666666666666666,
           "#ed7953"
          ],
          [
           0.7777777777777778,
           "#fb9f3a"
          ],
          [
           0.8888888888888888,
           "#fdca26"
          ],
          [
           1,
           "#f0f921"
          ]
         ]
        },
        "margin": {
         "t": 60
        },
        "template": {
         "data": {
          "bar": [
           {
            "error_x": {
             "color": "#2a3f5f"
            },
            "error_y": {
             "color": "#2a3f5f"
            },
            "marker": {
             "line": {
              "color": "#E5ECF6",
              "width": 0.5
             },
             "pattern": {
              "fillmode": "overlay",
              "size": 10,
              "solidity": 0.2
             }
            },
            "type": "bar"
           }
          ],
          "barpolar": [
           {
            "marker": {
             "line": {
              "color": "#E5ECF6",
              "width": 0.5
             },
             "pattern": {
              "fillmode": "overlay",
              "size": 10,
              "solidity": 0.2
             }
            },
            "type": "barpolar"
           }
          ],
          "carpet": [
           {
            "aaxis": {
             "endlinecolor": "#2a3f5f",
             "gridcolor": "white",
             "linecolor": "white",
             "minorgridcolor": "white",
             "startlinecolor": "#2a3f5f"
            },
            "baxis": {
             "endlinecolor": "#2a3f5f",
             "gridcolor": "white",
             "linecolor": "white",
             "minorgridcolor": "white",
             "startlinecolor": "#2a3f5f"
            },
            "type": "carpet"
           }
          ],
          "choropleth": [
           {
            "colorbar": {
             "outlinewidth": 0,
             "ticks": ""
            },
            "type": "choropleth"
           }
          ],
          "contour": [
           {
            "colorbar": {
             "outlinewidth": 0,
             "ticks": ""
            },
            "colorscale": [
             [
              0,
              "#0d0887"
             ],
             [
              0.1111111111111111,
              "#46039f"
             ],
             [
              0.2222222222222222,
              "#7201a8"
             ],
             [
              0.3333333333333333,
              "#9c179e"
             ],
             [
              0.4444444444444444,
              "#bd3786"
             ],
             [
              0.5555555555555556,
              "#d8576b"
             ],
             [
              0.6666666666666666,
              "#ed7953"
             ],
             [
              0.7777777777777778,
              "#fb9f3a"
             ],
             [
              0.8888888888888888,
              "#fdca26"
             ],
             [
              1,
              "#f0f921"
             ]
            ],
            "type": "contour"
           }
          ],
          "contourcarpet": [
           {
            "colorbar": {
             "outlinewidth": 0,
             "ticks": ""
            },
            "type": "contourcarpet"
           }
          ],
          "heatmap": [
           {
            "colorbar": {
             "outlinewidth": 0,
             "ticks": ""
            },
            "colorscale": [
             [
              0,
              "#0d0887"
             ],
             [
              0.1111111111111111,
              "#46039f"
             ],
             [
              0.2222222222222222,
              "#7201a8"
             ],
             [
              0.3333333333333333,
              "#9c179e"
             ],
             [
              0.4444444444444444,
              "#bd3786"
             ],
             [
              0.5555555555555556,
              "#d8576b"
             ],
             [
              0.6666666666666666,
              "#ed7953"
             ],
             [
              0.7777777777777778,
              "#fb9f3a"
             ],
             [
              0.8888888888888888,
              "#fdca26"
             ],
             [
              1,
              "#f0f921"
             ]
            ],
            "type": "heatmap"
           }
          ],
          "heatmapgl": [
           {
            "colorbar": {
             "outlinewidth": 0,
             "ticks": ""
            },
            "colorscale": [
             [
              0,
              "#0d0887"
             ],
             [
              0.1111111111111111,
              "#46039f"
             ],
             [
              0.2222222222222222,
              "#7201a8"
             ],
             [
              0.3333333333333333,
              "#9c179e"
             ],
             [
              0.4444444444444444,
              "#bd3786"
             ],
             [
              0.5555555555555556,
              "#d8576b"
             ],
             [
              0.6666666666666666,
              "#ed7953"
             ],
             [
              0.7777777777777778,
              "#fb9f3a"
             ],
             [
              0.8888888888888888,
              "#fdca26"
             ],
             [
              1,
              "#f0f921"
             ]
            ],
            "type": "heatmapgl"
           }
          ],
          "histogram": [
           {
            "marker": {
             "pattern": {
              "fillmode": "overlay",
              "size": 10,
              "solidity": 0.2
             }
            },
            "type": "histogram"
           }
          ],
          "histogram2d": [
           {
            "colorbar": {
             "outlinewidth": 0,
             "ticks": ""
            },
            "colorscale": [
             [
              0,
              "#0d0887"
             ],
             [
              0.1111111111111111,
              "#46039f"
             ],
             [
              0.2222222222222222,
              "#7201a8"
             ],
             [
              0.3333333333333333,
              "#9c179e"
             ],
             [
              0.4444444444444444,
              "#bd3786"
             ],
             [
              0.5555555555555556,
              "#d8576b"
             ],
             [
              0.6666666666666666,
              "#ed7953"
             ],
             [
              0.7777777777777778,
              "#fb9f3a"
             ],
             [
              0.8888888888888888,
              "#fdca26"
             ],
             [
              1,
              "#f0f921"
             ]
            ],
            "type": "histogram2d"
           }
          ],
          "histogram2dcontour": [
           {
            "colorbar": {
             "outlinewidth": 0,
             "ticks": ""
            },
            "colorscale": [
             [
              0,
              "#0d0887"
             ],
             [
              0.1111111111111111,
              "#46039f"
             ],
             [
              0.2222222222222222,
              "#7201a8"
             ],
             [
              0.3333333333333333,
              "#9c179e"
             ],
             [
              0.4444444444444444,
              "#bd3786"
             ],
             [
              0.5555555555555556,
              "#d8576b"
             ],
             [
              0.6666666666666666,
              "#ed7953"
             ],
             [
              0.7777777777777778,
              "#fb9f3a"
             ],
             [
              0.8888888888888888,
              "#fdca26"
             ],
             [
              1,
              "#f0f921"
             ]
            ],
            "type": "histogram2dcontour"
           }
          ],
          "mesh3d": [
           {
            "colorbar": {
             "outlinewidth": 0,
             "ticks": ""
            },
            "type": "mesh3d"
           }
          ],
          "parcoords": [
           {
            "line": {
             "colorbar": {
              "outlinewidth": 0,
              "ticks": ""
             }
            },
            "type": "parcoords"
           }
          ],
          "pie": [
           {
            "automargin": true,
            "type": "pie"
           }
          ],
          "scatter": [
           {
            "fillpattern": {
             "fillmode": "overlay",
             "size": 10,
             "solidity": 0.2
            },
            "type": "scatter"
           }
          ],
          "scatter3d": [
           {
            "line": {
             "colorbar": {
              "outlinewidth": 0,
              "ticks": ""
             }
            },
            "marker": {
             "colorbar": {
              "outlinewidth": 0,
              "ticks": ""
             }
            },
            "type": "scatter3d"
           }
          ],
          "scattercarpet": [
           {
            "marker": {
             "colorbar": {
              "outlinewidth": 0,
              "ticks": ""
             }
            },
            "type": "scattercarpet"
           }
          ],
          "scattergeo": [
           {
            "marker": {
             "colorbar": {
              "outlinewidth": 0,
              "ticks": ""
             }
            },
            "type": "scattergeo"
           }
          ],
          "scattergl": [
           {
            "marker": {
             "colorbar": {
              "outlinewidth": 0,
              "ticks": ""
             }
            },
            "type": "scattergl"
           }
          ],
          "scattermapbox": [
           {
            "marker": {
             "colorbar": {
              "outlinewidth": 0,
              "ticks": ""
             }
            },
            "type": "scattermapbox"
           }
          ],
          "scatterpolar": [
           {
            "marker": {
             "colorbar": {
              "outlinewidth": 0,
              "ticks": ""
             }
            },
            "type": "scatterpolar"
           }
          ],
          "scatterpolargl": [
           {
            "marker": {
             "colorbar": {
              "outlinewidth": 0,
              "ticks": ""
             }
            },
            "type": "scatterpolargl"
           }
          ],
          "scatterternary": [
           {
            "marker": {
             "colorbar": {
              "outlinewidth": 0,
              "ticks": ""
             }
            },
            "type": "scatterternary"
           }
          ],
          "surface": [
           {
            "colorbar": {
             "outlinewidth": 0,
             "ticks": ""
            },
            "colorscale": [
             [
              0,
              "#0d0887"
             ],
             [
              0.1111111111111111,
              "#46039f"
             ],
             [
              0.2222222222222222,
              "#7201a8"
             ],
             [
              0.3333333333333333,
              "#9c179e"
             ],
             [
              0.4444444444444444,
              "#bd3786"
             ],
             [
              0.5555555555555556,
              "#d8576b"
             ],
             [
              0.6666666666666666,
              "#ed7953"
             ],
             [
              0.7777777777777778,
              "#fb9f3a"
             ],
             [
              0.8888888888888888,
              "#fdca26"
             ],
             [
              1,
              "#f0f921"
             ]
            ],
            "type": "surface"
           }
          ],
          "table": [
           {
            "cells": {
             "fill": {
              "color": "#EBF0F8"
             },
             "line": {
              "color": "white"
             }
            },
            "header": {
             "fill": {
              "color": "#C8D4E3"
             },
             "line": {
              "color": "white"
             }
            },
            "type": "table"
           }
          ]
         },
         "layout": {
          "annotationdefaults": {
           "arrowcolor": "#2a3f5f",
           "arrowhead": 0,
           "arrowwidth": 1
          },
          "autotypenumbers": "strict",
          "coloraxis": {
           "colorbar": {
            "outlinewidth": 0,
            "ticks": ""
           }
          },
          "colorscale": {
           "diverging": [
            [
             0,
             "#8e0152"
            ],
            [
             0.1,
             "#c51b7d"
            ],
            [
             0.2,
             "#de77ae"
            ],
            [
             0.3,
             "#f1b6da"
            ],
            [
             0.4,
             "#fde0ef"
            ],
            [
             0.5,
             "#f7f7f7"
            ],
            [
             0.6,
             "#e6f5d0"
            ],
            [
             0.7,
             "#b8e186"
            ],
            [
             0.8,
             "#7fbc41"
            ],
            [
             0.9,
             "#4d9221"
            ],
            [
             1,
             "#276419"
            ]
           ],
           "sequential": [
            [
             0,
             "#0d0887"
            ],
            [
             0.1111111111111111,
             "#46039f"
            ],
            [
             0.2222222222222222,
             "#7201a8"
            ],
            [
             0.3333333333333333,
             "#9c179e"
            ],
            [
             0.4444444444444444,
             "#bd3786"
            ],
            [
             0.5555555555555556,
             "#d8576b"
            ],
            [
             0.6666666666666666,
             "#ed7953"
            ],
            [
             0.7777777777777778,
             "#fb9f3a"
            ],
            [
             0.8888888888888888,
             "#fdca26"
            ],
            [
             1,
             "#f0f921"
            ]
           ],
           "sequentialminus": [
            [
             0,
             "#0d0887"
            ],
            [
             0.1111111111111111,
             "#46039f"
            ],
            [
             0.2222222222222222,
             "#7201a8"
            ],
            [
             0.3333333333333333,
             "#9c179e"
            ],
            [
             0.4444444444444444,
             "#bd3786"
            ],
            [
             0.5555555555555556,
             "#d8576b"
            ],
            [
             0.6666666666666666,
             "#ed7953"
            ],
            [
             0.7777777777777778,
             "#fb9f3a"
            ],
            [
             0.8888888888888888,
             "#fdca26"
            ],
            [
             1,
             "#f0f921"
            ]
           ]
          },
          "colorway": [
           "#636efa",
           "#EF553B",
           "#00cc96",
           "#ab63fa",
           "#FFA15A",
           "#19d3f3",
           "#FF6692",
           "#B6E880",
           "#FF97FF",
           "#FECB52"
          ],
          "font": {
           "color": "#2a3f5f"
          },
          "geo": {
           "bgcolor": "white",
           "lakecolor": "white",
           "landcolor": "#E5ECF6",
           "showlakes": true,
           "showland": true,
           "subunitcolor": "white"
          },
          "hoverlabel": {
           "align": "left"
          },
          "hovermode": "closest",
          "mapbox": {
           "style": "light"
          },
          "paper_bgcolor": "white",
          "plot_bgcolor": "#E5ECF6",
          "polar": {
           "angularaxis": {
            "gridcolor": "white",
            "linecolor": "white",
            "ticks": ""
           },
           "bgcolor": "#E5ECF6",
           "radialaxis": {
            "gridcolor": "white",
            "linecolor": "white",
            "ticks": ""
           }
          },
          "scene": {
           "xaxis": {
            "backgroundcolor": "#E5ECF6",
            "gridcolor": "white",
            "gridwidth": 2,
            "linecolor": "white",
            "showbackground": true,
            "ticks": "",
            "zerolinecolor": "white"
           },
           "yaxis": {
            "backgroundcolor": "#E5ECF6",
            "gridcolor": "white",
            "gridwidth": 2,
            "linecolor": "white",
            "showbackground": true,
            "ticks": "",
            "zerolinecolor": "white"
           },
           "zaxis": {
            "backgroundcolor": "#E5ECF6",
            "gridcolor": "white",
            "gridwidth": 2,
            "linecolor": "white",
            "showbackground": true,
            "ticks": "",
            "zerolinecolor": "white"
           }
          },
          "shapedefaults": {
           "line": {
            "color": "#2a3f5f"
           }
          },
          "ternary": {
           "aaxis": {
            "gridcolor": "white",
            "linecolor": "white",
            "ticks": ""
           },
           "baxis": {
            "gridcolor": "white",
            "linecolor": "white",
            "ticks": ""
           },
           "bgcolor": "#E5ECF6",
           "caxis": {
            "gridcolor": "white",
            "linecolor": "white",
            "ticks": ""
           }
          },
          "title": {
           "x": 0.05
          },
          "xaxis": {
           "automargin": true,
           "gridcolor": "white",
           "linecolor": "white",
           "ticks": "",
           "title": {
            "standoff": 15
           },
           "zerolinecolor": "white",
           "zerolinewidth": 2
          },
          "yaxis": {
           "automargin": true,
           "gridcolor": "white",
           "linecolor": "white",
           "ticks": "",
           "title": {
            "standoff": 15
           },
           "zerolinecolor": "white",
           "zerolinewidth": 2
          }
         }
        },
        "xaxis": {
         "anchor": "y",
         "autorange": true,
         "constrain": "domain",
         "domain": [
          0.3537234042553191,
          0.6462765957446809
         ],
         "range": [
          -0.5,
          29.5
         ],
         "scaleanchor": "y"
        },
        "yaxis": {
         "anchor": "x",
         "autorange": true,
         "constrain": "domain",
         "domain": [
          0,
          1
         ],
         "range": [
          29.5,
          -0.5
         ]
        }
       }
      },
      "image/png": "[encoded data removed]",
      "text/html": [
       "<div>                            <div id=\"d4af3007-c6e1-47bf-a449-8e12b6cb5765\" class=\"plotly-graph-div\" style=\"height:525px; width:100%;\"></div>            <script type=\"text/javascript\">                require([\"plotly\"], function(Plotly) {                    window.PLOTLYENV=window.PLOTLYENV || {};                                    if (document.getElementById(\"d4af3007-c6e1-47bf-a449-8e12b6cb5765\")) {                    Plotly.newPlot(                        \"d4af3007-c6e1-47bf-a449-8e12b6cb5765\",                        [{\"coloraxis\":\"coloraxis\",\"name\":\"0\",\"z\":[[-0.30022507905960083,-0.24191313982009888,-0.1705566644668579,-0.2921755909919739,-0.23238730430603027,-0.34581100940704346,-0.08393079042434692,-0.03304475545883179,0.08668339252471924,-0.2554738521575928,-0.07973432540893555,-0.38960009813308716,-0.049046456813812256,-0.41774308681488037,0.06417882442474365,-0.2696787118911743,-0.16668790578842163,-0.29173558950424194,-0.10261720418930054,-0.3559895157814026,0.13240420818328857,-0.22238516807556152,-0.23154479265213013,-0.2194799780845642,-0.3177322745323181,-0.4199824333190918,-0.11947846412658691,-0.32707417011260986,-0.08585673570632935,-0.049223899841308594],[0.06693553924560547,0.15951824188232422,0.06183469295501709,-0.30122435092926025,-0.11096948385238647,0.10682094097137451,-0.13533514738082886,-0.23596137762069702,0.06341004371643066,-0.05410259962081909,-0.1506447196006775,-0.2152099609375,-0.297238826751709,-0.12861472368240356,-0.30913805961608887,-0.064480721950531,0.15714192390441895,-0.34258949756622314,-0.22191846370697021,-0.07307428121566772,-0.2072533369064331,0.32860755920410156,-0.12034523487091064,-0.09725797176361084,-0.06705909967422485,0.028491854667663574,-0.15998363494873047,-0.13490909337997437,-0.1807968020439148,-0.2865784168243408],[-0.13326364755630493,0.05951488018035889,-0.4771711230278015,0.013296961784362793,0.05738186836242676,-0.033293068408966064,0.01883077621459961,-0.5786503553390503,-0.09986847639083862,0.06225001811981201,-0.31497722864151,-0.17906099557876587,-0.40787047147750854,-0.35039663314819336,-0.07396453619003296,-0.3663381338119507,-0.15056729316711426,-0.5016615390777588,-0.23731935024261475,-0.3890213966369629,-0.6851660013198853,0.08184576034545898,-0.13760048151016235,-0.10675352811813354,-0.41562390327453613,-0.049581825733184814,-0.3933464288711548,-0.24724245071411133,0.054981231689453125,-0.6149212121963501],[-0.03855240345001221,-0.22448068857192993,0.12908470630645752,-0.2119377851486206,-0.42501306533813477,-0.2443751096725464,-0.28324079513549805,0.11250972747802734,0.03539848327636719,-0.3930552005767822,-0.24154579639434814,-0.3006748557090759,0.035647034645080566,-0.3407869338989258,-0.2148405909538269,-0.12992489337921143,-0.19876325130462646,-0.3085672855377197,-0.4421488046646118,-0.1650417447090149,-0.04139983654022217,-0.2358623743057251,-0.33227819204330444,-0.057572364807128906,-0.008832097053527832,-0.20301836729049683,-0.5607993602752686,-0.12997621297836304,-0.37464457750320435,-0.2499384880065918],[-0.19243556261062622,-0.2805873155593872,0.08878874778747559,-0.1433851718902588,-0.0902090072631836,-0.034134864807128906,-0.29202961921691895,-0.16910040378570557,-0.2139127254486084,-0.09060662984848022,-0.3312828540802002,-0.00140458345413208,0.14715898036956787,-0.12442553043365479,-0.14872604608535767,-0.1654045581817627,-0.27419447898864746,0.02983248233795166,0.0743865966796875,-0.45011377334594727,-0.07164984941482544,-0.4379531145095825,-0.22437340021133423,-0.0771864652633667,-0.2481985092163086,-0.26650720834732056,-0.02196723222732544,0.007892251014709473,0.11571168899536133,-0.12611812353134155],[0.00820302963256836,-0.07692587375640869,0.24607324600219727,-0.3259585499763489,0.030541419982910156,-0.2592323422431946,-0.11220318078994751,-0.16486978530883792,-0.2593056559562683,-0.3746994733810425,-0.19025969505310059,-0.16825562715530398,-0.2925225496292114,-0.1776170730590821,0.10717093944549559,-0.4648179411888123,-0.21969783306121826,0.06633460521697994,-0.18029910326004028,-0.14509105682373047,0.11501407623291013,-0.2558751106262207,0.178855299949646,-0.18426549434661865,0.034060716629028286,-0.15212178230285645,-0.47395098209381104,0.0023958683013916016,-0.044170379638671875,-0.5974682569503784],[-0.11721998453140259,-0.2621736526489258,-0.2343418002128601,-0.25001758337020874,-0.17871558666229248,-0.22483962774276733,-0.15433042522517187,-0.3914562465174414,-0.17067794374300127,-0.12277862345874882,-0.3123278838990241,-0.0716871766305415,-0.573064571453924,-0.19780407675008188,-0.17809650919859632,0.02236477890895122,0.05773268653879343,-0.24638722756413756,0.2066044193594203,-0.2328319592659075,-0.4915641958646621,0.15795635290624993,-0.07060133424016796,-0.2943669186319048,-0.3303968433338159,-0.4783989191055298,-0.3373720645904541,-0.43445712327957153,-0.004824697971343994,-0.2593570351600647],[-0.10680282115936279,-0.35349828004837036,0.02731037139892578,-0.17295396327972412,-0.14685708284378052,-0.05201768875122071,-0.5786854471464654,-0.20425632337473634,-0.16133772877765817,-0.4692054504283045,-0.07585342287664076,-0.13869331378885635,-0.2298317562786637,-0.32420340174026496,-0.5548783295325175,-0.02611417595287069,-0.13967843039551386,-0.20807770847812512,-0.18175690683104367,-0.24098175716278347,-0.22963635490751833,-0.16862255144156563,-0.438380166796255,-0.4381275305913016,-0.48461176375851117,-0.15751081705093384,-0.13684439659118652,0.03984498977661133,-0.14140963554382324,-0.2580532431602478],[0.09147536754608154,-0.28258877992630005,-0.3090721368789673,0.043796420097351074,-0.2778891921043396,-0.060782372951507575,-0.15900648518080815,-0.3333742800203443,0.144360870930436,0.030666394531575658,-0.18637391462200764,-0.4335620361209017,-0.36968062600107654,0.058451308961312454,-0.48815366309881525,-0.38821252124569694,-0.5257662056648695,-0.5760641863551952,-0.3025984279911482,-0.3607830588080314,-0.09260412087784442,0.23850833000642052,-0.26923451926553743,-0.08111173157988655,-0.17162312963108128,-0.2335948944091797,-0.06220507621765137,-0.3282296657562256,0.04184567928314209,0.11859738826751709],[-0.3099653720855713,0.18373966217041016,0.18116331100463867,0.2166001796722412,0.1280992031097412,-0.26070350408554077,-0.45639972918052596,-0.24250046056714966,-0.4080165235085945,-0.29805673362574514,0.09522472064502852,-0.4764074395945005,-0.4815574250652912,-0.33967543713993,-0.3394517556012777,-0.24956132485297244,-0.12854963100810002,-0.058869653283044165,-0.416138757504795,-0.05303357821709054,-0.04827157373723845,-0.3117216760661473,-0.16257078100781547,-0.26188371237507024,-0.3701419958406661,-0.219943106174469,-0.06411540508270264,0.364345908164978,-0.2427842617034912,-0.273453950881958],[-0.3034150004386902,0.020504117012023926,-0.33415043354034424,0.26706111431121826,0.05717349052429199,-0.032090306282043464,-0.6078750631611121,-0.25824573376038606,-0.14407800678902155,-0.2623808994288872,-0.3772738954293722,-0.20233396941847825,-0.390506812580917,-0.38498867654114033,-0.523421058396718,-0.5480645548852725,-0.2545794180796572,-0.8087593659838146,-0.27392807460621693,-0.49825982717230644,-0.3714913409568432,-0.06952295455177437,-0.35066198988468034,-0.33226572477499744,-0.27351151527973966,0.11910152435302734,-0.3931465148925781,0.09737980365753174,-0.49656927585601807,0.0826801061630249],[-0.16141754388809204,-0.15823030471801758,0.019468307495117188,-0.14637380838394165,-0.2972968816757202,0.11247503757476805,0.1206196415249558,0.029268445669658916,-0.22920536040477169,0.413217792851746,-0.8770443758070448,-0.09362658609189145,-0.5094594447195617,-0.19195935385628893,-0.3326314685269267,-1.6468799783615822,-1.2984772689697275,-0.17872416805735902,0.15251462761648238,-0.3093169094316153,-0.08458708366857515,-0.04410050214154104,-0.4120429380303656,-0.24601202915892106,-0.37010487771065653,0.2011793851852417,0.0021948814392089844,-0.23419839143753052,0.023290157318115234,0.04708850383758545],[-0.43575483560562134,-0.3829474449157715,-0.0807146430015564,-0.18563807010650635,0.03455674648284912,-0.05622768402099611,0.045433788563185806,-0.329333376444232,-0.18740702431326417,-0.5759636992620014,-0.3756049088784521,-0.19969104742493027,-0.24218251759220255,-0.23923392348442363,-1.2273053347743428,-0.805038620198042,-0.42254993767492977,0.5589965252045239,0.6170362613469589,0.5141487767243111,0.16175401166171577,0.06118917019436276,-0.4331731942815744,-0.33671447283983713,-0.2436572281892152,0.016759872436523438,-0.06385505199432373,0.046704769134521484,-0.3581400513648987,-0.5101306438446045],[-0.4119985103607178,0.0019582509994506836,0.05675399303436279,-0.2914844751358032,-0.14053595066070557,0.20836460590362543,-0.45376548210972734,0.02582291470101561,-0.6084508733800347,-0.3899975499833648,-0.38336536558399104,-0.2626064129465515,-0.5865927439529202,0.29597786864301767,0.2629980369118581,1.281824244010636,1.8953454542173631,2.0160589511547435,0.5129604228715952,0.6225815110176374,0.28384768996488585,-0.08283984016137591,0.16051279589528655,-0.0960374002939357,-0.16608253146444618,0.258617639541626,-0.13648730516433716,-0.33407533168792725,-0.4283956289291382,-0.42997175455093384],[-0.08340334892272949,-0.01947683095932007,-0.2546842098236084,-0.3933714032173157,-0.1618025302886963,0.4292714595794677,-0.02561443497101762,-0.4859831663495239,-0.2367301264493975,-0.19906276365961229,-0.7888405817668489,-0.8428152454767757,-0.3755750684921235,-0.1932713505441228,2.2472921321297896,3.8866044978834466,3.100269024945863,1.9353202304913921,0.5881374732783371,-0.6052963354892453,-0.4062591630632024,-0.3372853507632385,-0.19780738294794964,-0.5426263530754113,-0.4378203365449196,0.39501965045928955,0.10550713539123535,0.11945998668670654,-0.030572831630706787,-0.10632967948913574],[-0.10489857196807861,0.09324216842651367,-0.14883053302764893,-0.17531728744506836,0.06058359146118164,-0.061472892761230497,0.071481086479109,-0.19131637004022772,-0.21863174384042217,-0.24750524217317205,-0.3799260533784965,-0.47709600426161725,-0.2883919530476753,1.4863223966095873,2.8344302167534323,4.587950169924159,5.163359369814252,1.521897634092749,-0.5495235928160689,-0.6969267662569321,-0.5546692887764064,-0.2378003119146106,-0.29992026630522384,-0.5022722650624855,-0.7008745811736895,0.3395266532897949,0.13129830360412598,-0.13216906785964966,-0.15149235725402832,-0.13742685317993164],[-0.5842946767807007,-0.34089064598083496,0.06885862350463867,0.2651458978652954,0.41161787509918213,0.08958888053894037,-0.10159862664511543,-0.23789790424887125,-0.010244332015193036,0.20895307407155483,-0.5355912408787766,-0.3523691185837503,1.7318516316539618,2.0985062833751726,3.305918307900569,1.657244218964884,2.690082698145414,0.05849027505040283,-0.8124904117833669,-0.98896206658402,-0.7857321775849448,-0.3254373312080405,-0.46166004722394716,-0.29276661678551597,-0.48508978266872105,0.0028737783432006836,-0.18127375841140747,0.08371198177337646,-0.046114981174468994,-0.2835182547569275],[-0.25161492824554443,-0.04289776086807251,-0.20064425468444824,-0.2771686315536499,0.019948124885559082,0.13449585437774655,-0.06424755210813926,-0.16588291357825313,0.2769243040823304,0.08870626969227824,0.1554161850735074,0.4606755429891338,0.5755251827422931,1.0340553077248913,0.8907629867659104,0.5743092514072252,0.30975778665975184,-0.5495666312174734,0.47142512824857885,-0.41617191951327825,-0.7754899603926573,-0.17419896972232318,-0.33164097013337823,-0.19138930689013667,-0.13569441001612037,-0.2697058916091919,0.0944373607635498,0.06002604961395264,-0.15482431650161743,-0.23725569248199463],[-0.0809280276298523,-0.3017579913139343,-0.08116328716278076,-0.3783319592475891,0.04740297794342041,0.11750316619873044,-0.26767408484805677,-0.1881097112350818,-0.017325519639026177,-0.6013234201995104,0.1326403628817978,0.05861023899566753,-0.6985862527794522,-0.4474522392109126,-0.46076102059228674,-0.9080885050554919,-1.3337402266487892,-0.11455351851355822,-0.3851629514550572,-0.012762618338216125,-0.4466650577206628,-0.3946105208963673,-0.1127871814750595,-0.1631005134499922,-0.21491346370402198,-0.08426600694656372,-0.16683584451675415,-0.256273090839386,-0.27947908639907837,-0.05042850971221924],[-0.22975754737854004,-0.11687570810317993,0.02446281909942627,0.09077417850494385,0.1654043197631836,-0.15304046869277957,-0.053176632139121716,-0.23610205120119654,-0.39440021853496743,-0.06839532304836204,-0.5670391732581552,-0.6862688143248188,-0.10721711077923501,0.12608667677099028,-0.828865212257555,-0.42174392319356446,-0.5289542577911899,0.00045076484498984826,0.10742681562558998,-0.09958642936743312,-0.15646831135220074,-0.6525862716740374,-0.1487381516786822,-0.3149057440678622,-0.3170923126983166,-0.010456681251525879,-0.06069660186767578,-0.24782150983810425,-0.15783929824829102,-0.23221135139465332],[-0.14498978853225708,-0.3677360415458679,-0.03997170925140381,-0.420021116733551,-0.0007364153861999512,-0.17882281541824344,-0.3725426902542985,-0.09462440883698375,-0.19014818412427004,-0.21770969624051695,-0.0753791989148338,-0.03245899033259381,-0.5349124007283708,-0.23732155820141276,-0.45642602322320647,-0.25681513416960344,-0.4051232604844248,-0.2064423017856698,-0.417734889348073,0.10914964590146137,0.08382542668565374,-0.31141315854639506,-0.12532790273515038,-0.21020925214663527,-0.4163122705801784,-0.10061180591583252,-0.07230645418167114,-0.022293150424957275,-0.45135486125946045,-0.39436644315719604],[-0.20212525129318237,-0.35201144218444824,-0.35448431968688965,-0.15327507257461548,0.014227747917175293,-0.11682695150375368,-0.5345126862860743,-0.22925218535184744,-0.3428018664305602,-0.2505357756882032,-0.10491725097921789,0.034457916587309345,-0.44409190952286903,-0.08941054260866932,-0.3751325575586244,-0.03585208467867407,0.2091152406353034,-0.5048982975922212,-0.42742820294537953,-0.5071221481361725,-0.19184829064244646,-0.7313112819428178,-0.49267741270859744,-0.021247877128329984,-0.09488552138719225,-0.15937012434005737,-0.04476708173751831,-0.3817483186721802,-0.22383683919906616,-0.12721234560012817],[0.27197349071502686,0.22493219375610352,-0.361569344997406,-0.3734220266342163,-0.10676217079162598,-0.38728225231170654,-0.1681776732240107,-0.5550951578870911,-0.11523167301091042,-0.020569945163808,-0.5262966001043955,-0.22317640924936344,0.13392994139243608,-0.3854869911672171,-0.12382395822976977,0.135937802481765,-0.35704720146508273,-0.20185803504146704,-0.708732034523762,-0.02022458508687386,-0.46472981396663426,-0.5493186696549309,-0.6332580973953459,-0.308054129905565,-0.35059870616165967,-0.06986755132675171,0.047840237617492676,-0.2573689818382263,-0.3062496781349182,-0.3664180636405945],[0.01853930950164795,-0.11592036485671997,0.14441514015197754,-0.0685306191444397,-0.4469403028488159,-0.06301122903823853,-0.27763174857588613,-0.21936086673639252,-0.2838624864071646,-0.04862939453984433,0.046406567014644406,-0.4242141288977044,0.13071432404156658,-0.038373009916768286,-0.12095410161113185,-0.1756356522636282,-0.025973647843049785,-0.011132395808981177,-0.25379533516000796,-0.22097203130659254,-0.39626049117669904,0.173467721831275,-0.7059483506735524,-0.3247148041265699,-0.11117872618193875,-0.5912017226219177,-0.33937788009643555,-0.2944020628929138,-0.24249619245529175,-0.3816378116607666],[-0.14856266975402832,-0.17532473802566528,-0.32672637701034546,-0.24375975131988525,-0.2283596396446228,0.12189245223999022,-0.2876879294914363,-0.04159232152775774,-0.22122955219265922,-0.13291399768739828,-0.061272296779690816,-0.42262893947007324,-0.37679615509916625,-0.08926910144922906,0.013420715391596394,-0.15558229549963537,-0.23870361911724458,-0.09866124280529864,-0.4264558884480776,-0.3024521695819525,-0.45475710124108043,-0.02081887932770235,-0.06652700622950874,-0.34568589172802106,-0.22789511137923218,0.2547844648361206,-0.11437493562698364,0.052672624588012695,-0.08534163236618042,-0.21899819374084473],[-0.30901622772216797,-0.31100302934646606,-0.14578896760940552,-0.16467541456222534,0.1396108865737915,-0.027087748050689697,-0.22992181777954102,-0.3117581605911255,0.0250626802444458,-0.02816307544708252,0.20810627937316895,-0.02974700927734375,-0.06980180740356445,-0.22416502237319946,0.2798808813095093,0.16576671600341797,0.29074418544769287,0.006651401519775391,-0.18676716089248657,0.20599126815795898,0.1172935962677002,-0.04811418056488037,0.03664875030517578,-0.28550732135772705,-0.10214561223983765,-0.16692346334457397,-0.3837658166885376,-0.2882489562034607,-0.3294166326522827,-0.24947738647460938],[-0.24983084201812744,-0.02069193124771118,-0.2382412552833557,-0.051348984241485596,-0.24774682521820068,-0.31403452157974243,0.07619869709014893,-0.09521102905273438,-0.19381433725357056,-0.13484638929367065,0.07308840751647949,-0.17483621835708618,0.06864452362060547,0.12428128719329834,-0.04027754068374634,-0.24908053874969482,-0.2618560791015625,-0.007159292697906494,-0.29646652936935425,-0.16709178686141968,-0.14171671867370605,-0.3743884563446045,-0.31056225299835205,-0.6479743123054504,-0.11447906494140625,-0.09245473146438599,-0.3761862516403198,-0.5696758031845093,-0.3440747857093811,-0.1089354157447815],[-0.3042823076248169,-0.13214653730392456,0.10351777076721191,-0.4070214033126831,0.15682661533355713,-0.16981571912765503,-0.09916740655899048,0.0007364749908447266,-0.2754061222076416,0.024040937423706055,-0.2759400010108948,-0.013914525508880615,-0.13246989250183105,-0.08199012279510498,-0.3280242681503296,0.022245407104492188,-0.10471165180206299,-0.24665212631225586,0.06042671203613281,0.04909849166870117,-0.05635881423950195,0.1397033929824829,-0.17672377824783325,-0.5194178819656372,0.5146138668060303,-0.6403790712356567,-0.26285576820373535,-0.3320534825325012,0.18504393100738525,0.055445075035095215],[-0.21884918212890625,0.041475772857666016,-0.5375974178314209,0.19949400424957275,-0.025823116302490234,-0.19080603122711182,-0.30460792779922485,-0.2700023055076599,0.3169116973876953,-0.21954387426376343,-0.4567364454269409,-0.34045249223709106,-0.1418284773826599,0.06742095947265625,-0.06771957874298096,-0.09251528978347778,-0.2795373797416687,0.03923225402832031,0.10448074340820312,-0.4904480576515198,-0.030934512615203857,0.0021480321884155273,0.07097268104553223,-0.3931676745414734,-0.3592389225959778,-0.15364545583724976,-0.12290692329406738,-0.012052416801452637,-0.2412852644920349,-0.5169645547866821],[0.18615198135375977,-0.3423328995704651,-0.23651152849197388,-0.4577218294143677,0.1538606882095337,-0.1528381109237671,0.024437665939331055,0.03080117702484131,-0.07133620977401733,0.1265120506286621,-0.3453441858291626,-0.3576785922050476,-0.14164161682128906,-0.12312805652618408,0.03199291229248047,0.11599552631378174,0.1502056121826172,-0.33764129877090454,-0.10842698812484741,-0.04740250110626221,0.13488709926605225,-0.2977697253227234,-0.21088272333145142,-0.47301822900772095,-0.4986935257911682,-0.1525149941444397,-0.4333101511001587,0.2222745418548584,-0.44677335023880005,-0.1275651454925537]],\"type\":\"heatmap\",\"xaxis\":\"x\",\"yaxis\":\"y\",\"hovertemplate\":\"x: %{x}\\u003cbr\\u003ey: %{y}\\u003cbr\\u003ecolor: %{z}\\u003cextra\\u003e\\u003c\\u002fextra\\u003e\"}],                        {\"template\":{\"data\":{\"histogram2dcontour\":[{\"type\":\"histogram2dcontour\",\"colorbar\":{\"outlinewidth\":0,\"ticks\":\"\"},\"colorscale\":[[0.0,\"#0d0887\"],[0.1111111111111111,\"#46039f\"],[0.2222222222222222,\"#7201a8\"],[0.3333333333333333,\"#9c179e\"],[0.4444444444444444,\"#bd3786\"],[0.5555555555555556,\"#d8576b\"],[0.6666666666666666,\"#ed7953\"],[0.7777777777777778,\"#fb9f3a\"],[0.8888888888888888,\"#fdca26\"],[1.0,\"#f0f921\"]]}],\"choropleth\":[{\"type\":\"choropleth\",\"colorbar\":{\"outlinewidth\":0,\"ticks\":\"\"}}],\"histogram2d\":[{\"type\":\"histogram2d\",\"colorbar\":{\"outlinewidth\":0,\"ticks\":\"\"},\"colorscale\":[[0.0,\"#0d0887\"],[0.1111111111111111,\"#46039f\"],[0.2222222222222222,\"#7201a8\"],[0.3333333333333333,\"#9c179e\"],[0.4444444444444444,\"#bd3786\"],[0.5555555555555556,\"#d8576b\"],[0.6666666666666666,\"#ed7953\"],[0.7777777777777778,\"#fb9f3a\"],[0.8888888888888888,\"#fdca26\"],[1.0,\"#f0f921\"]]}],\"heatmap\":[{\"type\":\"heatmap\",\"colorbar\":{\"outlinewidth\":0,\"ticks\":\"\"},\"colorscale\":[[0.0,\"#0d0887\"],[0.1111111111111111,\"#46039f\"],[0.2222222222222222,\"#7201a8\"],[0.3333333333333333,\"#9c179e\"],[0.4444444444444444,\"#bd3786\"],[0.5555555555555556,\"#d8576b\"],[0.6666666666666666,\"#ed7953\"],[0.7777777777777778,\"#fb9f3a\"],[0.8888888888888888,\"#fdca26\"],[1.0,\"#f0f921\"]]}],\"heatmapgl\":[{\"type\":\"heatmapgl\",\"colorbar\":{\"outlinewidth\":0,\"ticks\":\"\"},\"colorscale\":[[0.0,\"#0d0887\"],[0.1111111111111111,\"#46039f\"],[0.2222222222222222,\"#7201a8\"],[0.3333333333333333,\"#9c179e\"],[0.4444444444444444,\"#bd3786\"],[0.5555555555555556,\"#d8576b\"],[0.6666666666666666,\"#ed7953\"],[0.7777777777777778,\"#fb9f3a\"],[0.8888888888888888,\"#fdca26\"],[1.0,\"#f0f921\"]]}],\"contourcarpet\":[{\"type\":\"contourcarpet\",\"colorbar\":{\"outlinewidth\":0,\"ticks\":\"\"}}],\"contour\":[{\"type\":\"contour\",\"colorbar\":{\"outlinewidth\":0,\"ticks\":\"\"},\"colorscale\":[[0.0,\"#0d0887\"],[0.1111111111111111,\"#46039f\"],[0.2222222222222222,\"#7201a8\"],[0.3333333333333333,\"#9c179e\"],[0.4444444444444444,\"#bd3786\"],[0.5555555555555556,\"#d8576b\"],[0.6666666666666666,\"#ed7953\"],[0.7777777777777778,\"#fb9f3a\"],[0.8888888888888888,\"#fdca26\"],[1.0,\"#f0f921\"]]}],\"surface\":[{\"type\":\"surface\",\"colorbar\":{\"outlinewidth\":0,\"ticks\":\"\"},\"colorscale\":[[0.0,\"#0d0887\"],[0.1111111111111111,\"#46039f\"],[0.2222222222222222,\"#7201a8\"],[0.3333333333333333,\"#9c179e\"],[0.4444444444444444,\"#bd3786\"],[0.5555555555555556,\"#d8576b\"],[0.6666666666666666,\"#ed7953\"],[0.7777777777777778,\"#fb9f3a\"],[0.8888888888888888,\"#fdca26\"],[1.0,\"#f0f921\"]]}],\"mesh3d\":[{\"type\":\"mesh3d\",\"colorbar\":{\"outlinewidth\":0,\"ticks\":\"\"}}],\"scatter\":[{\"fillpattern\":{\"fillmode\":\"overlay\",\"size\":10,\"solidity\":0.2},\"type\":\"scatter\"}],\"parcoords\":[{\"type\":\"parcoords\",\"line\":{\"colorbar\":{\"outlinewidth\":0,\"ticks\":\"\"}}}],\"scatterpolargl\":[{\"type\":\"scatterpolargl\",\"marker\":{\"colorbar\":{\"outlinewidth\":0,\"ticks\":\"\"}}}],\"bar\":[{\"error_x\":{\"color\":\"#2a3f5f\"},\"error_y\":{\"color\":\"#2a3f5f\"},\"marker\":{\"line\":{\"color\":\"#E5ECF6\",\"width\":0.5},\"pattern\":{\"fillmode\":\"overlay\",\"size\":10,\"solidity\":0.2}},\"type\":\"bar\"}],\"scattergeo\":[{\"type\":\"scattergeo\",\"marker\":{\"colorbar\":{\"outlinewidth\":0,\"ticks\":\"\"}}}],\"scatterpolar\":[{\"type\":\"scatterpolar\",\"marker\":{\"colorbar\":{\"outlinewidth\":0,\"ticks\":\"\"}}}],\"histogram\":[{\"marker\":{\"pattern\":{\"fillmode\":\"overlay\",\"size\":10,\"solidity\":0.2}},\"type\":\"histogram\"}],\"scattergl\":[{\"type\":\"scattergl\",\"marker\":{\"colorbar\":{\"outlinewidth\":0,\"ticks\":\"\"}}}],\"scatter3d\":[{\"type\":\"scatter3d\",\"line\":{\"colorbar\":{\"outlinewidth\":0,\"ticks\":\"\"}},\"marker\":{\"colorbar\":{\"outlinewidth\":0,\"ticks\":\"\"}}}],\"scattermapbox\":[{\"type\":\"scattermapbox\",\"marker\":{\"colorbar\":{\"outlinewidth\":0,\"ticks\":\"\"}}}],\"scatterternary\":[{\"type\":\"scatterternary\",\"marker\":{\"colorbar\":{\"outlinewidth\":0,\"ticks\":\"\"}}}],\"scattercarpet\":[{\"type\":\"scattercarpet\",\"marker\":{\"colorbar\":{\"outlinewidth\":0,\"ticks\":\"\"}}}],\"carpet\":[{\"aaxis\":{\"endlinecolor\":\"#2a3f5f\",\"gridcolor\":\"white\",\"linecolor\":\"white\",\"minorgridcolor\":\"white\",\"startlinecolor\":\"#2a3f5f\"},\"baxis\":{\"endlinecolor\":\"#2a3f5f\",\"gridcolor\":\"white\",\"linecolor\":\"white\",\"minorgridcolor\":\"white\",\"startlinecolor\":\"#2a3f5f\"},\"type\":\"carpet\"}],\"table\":[{\"cells\":{\"fill\":{\"color\":\"#EBF0F8\"},\"line\":{\"color\":\"white\"}},\"header\":{\"fill\":{\"color\":\"#C8D4E3\"},\"line\":{\"color\":\"white\"}},\"type\":\"table\"}],\"barpolar\":[{\"marker\":{\"line\":{\"color\":\"#E5ECF6\",\"width\":0.5},\"pattern\":{\"fillmode\":\"overlay\",\"size\":10,\"solidity\":0.2}},\"type\":\"barpolar\"}],\"pie\":[{\"automargin\":true,\"type\":\"pie\"}]},\"layout\":{\"autotypenumbers\":\"strict\",\"colorway\":[\"#636efa\",\"#EF553B\",\"#00cc96\",\"#ab63fa\",\"#FFA15A\",\"#19d3f3\",\"#FF6692\",\"#B6E880\",\"#FF97FF\",\"#FECB52\"],\"font\":{\"color\":\"#2a3f5f\"},\"hovermode\":\"closest\",\"hoverlabel\":{\"align\":\"left\"},\"paper_bgcolor\":\"white\",\"plot_bgcolor\":\"#E5ECF6\",\"polar\":{\"bgcolor\":\"#E5ECF6\",\"angularaxis\":{\"gridcolor\":\"white\",\"linecolor\":\"white\",\"ticks\":\"\"},\"radialaxis\":{\"gridcolor\":\"white\",\"linecolor\":\"white\",\"ticks\":\"\"}},\"ternary\":{\"bgcolor\":\"#E5ECF6\",\"aaxis\":{\"gridcolor\":\"white\",\"linecolor\":\"white\",\"ticks\":\"\"},\"baxis\":{\"gridcolor\":\"white\",\"linecolor\":\"white\",\"ticks\":\"\"},\"caxis\":{\"gridcolor\":\"white\",\"linecolor\":\"white\",\"ticks\":\"\"}},\"coloraxis\":{\"colorbar\":{\"outlinewidth\":0,\"ticks\":\"\"}},\"colorscale\":{\"sequential\":[[0.0,\"#0d0887\"],[0.1111111111111111,\"#46039f\"],[0.2222222222222222,\"#7201a8\"],[0.3333333333333333,\"#9c179e\"],[0.4444444444444444,\"#bd3786\"],[0.5555555555555556,\"#d8576b\"],[0.6666666666666666,\"#ed7953\"],[0.7777777777777778,\"#fb9f3a\"],[0.8888888888888888,\"#fdca26\"],[1.0,\"#f0f921\"]],\"sequentialminus\":[[0.0,\"#0d0887\"],[0.1111111111111111,\"#46039f\"],[0.2222222222222222,\"#7201a8\"],[0.3333333333333333,\"#9c179e\"],[0.4444444444444444,\"#bd3786\"],[0.5555555555555556,\"#d8576b\"],[0.6666666666666666,\"#ed7953\"],[0.7777777777777778,\"#fb9f3a\"],[0.8888888888888888,\"#fdca26\"],[1.0,\"#f0f921\"]],\"diverging\":[[0,\"#8e0152\"],[0.1,\"#c51b7d\"],[0.2,\"#de77ae\"],[0.3,\"#f1b6da\"],[0.4,\"#fde0ef\"],[0.5,\"#f7f7f7\"],[0.6,\"#e6f5d0\"],[0.7,\"#b8e186\"],[0.8,\"#7fbc41\"],[0.9,\"#4d9221\"],[1,\"#276419\"]]},\"xaxis\":{\"gridcolor\":\"white\",\"linecolor\":\"white\",\"ticks\":\"\",\"title\":{\"standoff\":15},\"zerolinecolor\":\"white\",\"automargin\":true,\"zerolinewidth\":2},\"yaxis\":{\"gridcolor\":\"white\",\"linecolor\":\"white\",\"ticks\":\"\",\"title\":{\"standoff\":15},\"zerolinecolor\":\"white\",\"automargin\":true,\"zerolinewidth\":2},\"scene\":{\"xaxis\":{\"backgroundcolor\":\"#E5ECF6\",\"gridcolor\":\"white\",\"linecolor\":\"white\",\"showbackground\":true,\"ticks\":\"\",\"zerolinecolor\":\"white\",\"gridwidth\":2},\"yaxis\":{\"backgroundcolor\":\"#E5ECF6\",\"gridcolor\":\"white\",\"linecolor\":\"white\",\"showbackground\":true,\"ticks\":\"\",\"zerolinecolor\":\"white\",\"gridwidth\":2},\"zaxis\":{\"backgroundcolor\":\"#E5ECF6\",\"gridcolor\":\"white\",\"linecolor\":\"white\",\"showbackground\":true,\"ticks\":\"\",\"zerolinecolor\":\"white\",\"gridwidth\":2}},\"shapedefaults\":{\"line\":{\"color\":\"#2a3f5f\"}},\"annotationdefaults\":{\"arrowcolor\":\"#2a3f5f\",\"arrowhead\":0,\"arrowwidth\":1},\"geo\":{\"bgcolor\":\"white\",\"landcolor\":\"#E5ECF6\",\"subunitcolor\":\"white\",\"showland\":true,\"showlakes\":true,\"lakecolor\":\"white\"},\"title\":{\"x\":0.05},\"mapbox\":{\"style\":\"light\"}}},\"xaxis\":{\"anchor\":\"y\",\"domain\":[0.0,1.0],\"scaleanchor\":\"y\",\"constrain\":\"domain\"},\"yaxis\":{\"anchor\":\"x\",\"domain\":[0.0,1.0],\"autorange\":\"reversed\",\"constrain\":\"domain\"},\"coloraxis\":{\"colorscale\":[[0.0,\"#0d0887\"],[0.1111111111111111,\"#46039f\"],[0.2222222222222222,\"#7201a8\"],[0.3333333333333333,\"#9c179e\"],[0.4444444444444444,\"#bd3786\"],[0.5555555555555556,\"#d8576b\"],[0.6666666666666666,\"#ed7953\"],[0.7777777777777778,\"#fb9f3a\"],[0.8888888888888888,\"#fdca26\"],[1.0,\"#f0f921\"]]},\"margin\":{\"t\":60}},                        {\"responsive\": true}                    ).then(function(){\n",
       "                            \n",
       "var gd = document.getElementById('d4af3007-c6e1-47bf-a449-8e12b6cb5765');\n",
       "var x = new MutationObserver(function (mutations, observer) {{\n",
       "        var display = window.getComputedStyle(gd).display;\n",
       "        if (!display || display === 'none') {{\n",
       "            console.log([gd, 'removed!']);\n",
       "            Plotly.purge(gd);\n",
       "            observer.disconnect();\n",
       "        }}\n",
       "}});\n",
       "\n",
       "// Listen for the removal of the full notebook cells\n",
       "var notebookContainer = gd.closest('#notebook-container');\n",
       "if (notebookContainer) {{\n",
       "    x.observe(notebookContainer, {childList: true});\n",
       "}}\n",
       "\n",
       "// Listen for the clearing of the current output cell\n",
       "var outputEl = gd.closest('.output');\n",
       "if (outputEl) {{\n",
       "    x.observe(outputEl, {childList: true});\n",
       "}}\n",
       "\n",
       "                        })                };                });            </script>        </div>"
      ]
     },
     "metadata": {},
     "output_type": "display_data"
    },
    {
     "name": "stdout",
     "output_type": "stream",
     "text": [
      "5.163359369814252\n"
     ]
    }
   ],
   "source": [
    "residuals = star_cutout - model(best_fit.x, oversampled_psf, 10, star_cutout.shape)\n",
    "px.imshow(residuals, aspect='equal').show()\n",
    "print(np.max(residuals))"
   ]
  },
  {
   "cell_type": "code",
   "execution_count": 117,
   "id": "c1a885cf-2881-4851-adb0-5448675cb386",
   "metadata": {},
   "outputs": [
    {
     "data": {
      "application/vnd.plotly.v1+json": {
       "config": {
        "plotlyServerURL": "https://plot.ly"
       },
       "data": [
        {
         "coloraxis": "coloraxis",
         "hovertemplate": "x: %{x}<br>y: %{y}<br>color: %{z}<extra></extra>",
         "name": "0",
         "type": "heatmap",
         "xaxis": "x",
         "yaxis": "y",
         "z": [
          [
           3.354153507650848e-05,
           4.299253162149197e-05,
           5.875165027054175e-05,
           0.0001397907700192853,
           0.00012578776917441785,
           0.0001368031990142316,
           0.00010508324545986836,
           0.00016000115715110458,
           0.00023606485962506142,
           0.00021967602127741148,
           0.00020657212756455904,
           0.00017279029115441726,
           0.00015721716358905807,
           0.00017243928225163678,
           0.00012653804954998308,
           0.0001399373934323965,
           0.00015491514619143875,
           0.0001267537050611041,
           8.997648073394474e-05,
           8.675399604071524e-05
          ],
          [
           8.360180534572061e-05,
           5.304525118089505e-05,
           6.218826542496806e-05,
           0.00015533384902865222,
           0.00014427561382934756,
           0.00019428309106643015,
           0.00019568240711261085,
           0.00027177253178286014,
           0.0002528566846967369,
           0.0003407868860141778,
           0.0002807454966637135,
           0.000284077996805546,
           0.00026075410446268246,
           0.0002495114827388072,
           0.00016783820190278896,
           0.00020028156260099546,
           0.00020375436786032955,
           0.000111003914867105,
           6.662757399417344e-05,
           2.962301338679301e-05
          ],
          [
           6.392756870045808e-05,
           5.6195994755647984e-05,
           8.05212092650962e-05,
           0.0001022231105149503,
           0.00021082998327990687,
           0.0002927464222014424,
           0.00029651123648333254,
           0.0004435587338919594,
           0.0004594088081036273,
           0.0004879416354239192,
           0.0004317673089926723,
           0.00047463106557948785,
           0.000430796349851785,
           0.000353850771039932,
           0.0002600856916580155,
           0.00029122483253681675,
           0.0002183579348916688,
           0.00016585386169966975,
           0.00013915138222896407,
           8.292988375859338e-05
          ],
          [
           7.850435410014347e-05,
           0.00011886368837247328,
           0.00018483656807327537,
           0.00019957493119335872,
           0.00029842538378027503,
           0.0004035364184528089,
           0.0005072591532693913,
           0.0005930740945652211,
           0.000684253774166256,
           0.0007571444851174326,
           0.0008206679269409058,
           0.0007095923740804776,
           0.0007037516725412202,
           0.0006393345566404043,
           0.0005503436627824826,
           0.0004833419775550991,
           0.0004048270202752197,
           0.00017648738552989573,
           0.000204335317176674,
           0.000146803435158962
          ],
          [
           0.00014254850343580137,
           0.00019547632545087538,
           0.00019724747468797624,
           0.0002974404416947931,
           0.0004670333072104876,
           0.0006267982656338538,
           0.0008290140057180138,
           0.001102468941257697,
           0.001283592725576751,
           0.0013775933206604041,
           0.0013476146183990488,
           0.001333425526736447,
           0.001239381345303317,
           0.0011493083199998735,
           0.0008714552396507687,
           0.000719171287898929,
           0.0005892500753038427,
           0.00040436420588792655,
           0.00032698537746906947,
           0.00026298664642972685
          ],
          [
           0.00012028484719271561,
           0.0002424373413263594,
           0.0003053232252375881,
           0.0004158707014934393,
           0.0005926288741800658,
           0.0009421176618852052,
           0.001262964929333401,
           0.0019195078147950899,
           0.002423305015940972,
           0.002774796111590292,
           0.0027801768387545806,
           0.0025970517406661937,
           0.0024055185011735655,
           0.002061088546810364,
           0.0016324944550202263,
           0.001195034749404085,
           0.0008928318582193417,
           0.0005762752115867286,
           0.0003939668205211025,
           0.0002809862332064752
          ],
          [
           0.00015166915072834615,
           0.0002275362473997663,
           0.0003464034398997982,
           0.0005204550421279187,
           0.0007835938184342763,
           0.0013691181991152509,
           0.0021648826773727277,
           0.003219727957355883,
           0.004355364160300644,
           0.005381866405416132,
           0.005927021193402608,
           0.005654237712628898,
           0.004742923846206535,
           0.003724090803600484,
           0.0026647095828955356,
           0.0017715927405296096,
           0.001274725357607419,
           0.0008334814851057807,
           0.0004569765593946283,
           0.00031993140012030833
          ],
          [
           0.00018176480491664376,
           0.00029603650678466296,
           0.0004715965120275165,
           0.000677237175762539,
           0.0011034891613273326,
           0.0018355290006412525,
           0.003047143986751171,
           0.005028641774087872,
           0.007365010574952257,
           0.009505192415351055,
           0.010636507369406183,
           0.010431481536821203,
           0.008737028997948437,
           0.006349720237205833,
           0.00417369621925906,
           0.0026187344049056266,
           0.0016057137884535827,
           0.001009240776281169,
           0.0005551236139936616,
           0.0003935731152085137
          ],
          [
           0.00023674370261210785,
           0.0003535891869731072,
           0.0005561339389086317,
           0.0008473797929729826,
           0.0013399177861034188,
           0.002497797934323242,
           0.004451398386957316,
           0.007423465355485037,
           0.011059260315475116,
           0.014085119779866656,
           0.01640392434782099,
           0.01665346767751402,
           0.013841340538097241,
           0.00914588091014276,
           0.005459453781763074,
           0.0031896713046293945,
           0.0018983018503637209,
           0.0012053185311636577,
           0.0006279002112920898,
           0.0003863370373768408
          ],
          [
           0.00029461685060035105,
           0.00036597417492847907,
           0.0005535195169984239,
           0.0008358327370827889,
           0.0015833933459438105,
           0.0031797979344302062,
           0.0060310758511460325,
           0.010320255547808533,
           0.015024140764527091,
           0.01871840713989946,
           0.02166750792890334,
           0.02160977422206334,
           0.017318365318319744,
           0.010785001013618605,
           0.005897477647949669,
           0.0032857873071621174,
           0.001911164224489281,
           0.0011811239522918247,
           0.0006833901395660835,
           0.0004542835319929553
          ],
          [
           0.00033917093123101897,
           0.0004053044497294211,
           0.0006232814771357828,
           0.000945429207051738,
           0.0018297675906056156,
           0.00367804596531643,
           0.0071513779233801375,
           0.012704152791002184,
           0.01827177162723101,
           0.022416332330986315,
           0.02461591511533347,
           0.02308307297198944,
           0.01711087959333751,
           0.010255747747853714,
           0.005518495709403987,
           0.002924057175665056,
           0.0016734041406641681,
           0.0010254636771528263,
           0.0006308583836622111,
           0.00049544434455026
          ],
          [
           0.0003148472728642195,
           0.0004459832752606096,
           0.0006628053755348964,
           0.0010551502451044072,
           0.0018129681240430801,
           0.003652620160975032,
           0.007217349387202957,
           0.012715072313643463,
           0.017958382783008688,
           0.0216900521091252,
           0.022343366862582915,
           0.019827468408503773,
           0.014318901228100027,
           0.008595043104036814,
           0.004704190655986864,
           0.0026099340629728617,
           0.0015106310750233056,
           0.0009246772455669662,
           0.0005789434198894623,
           0.0003991964430524857
          ],
          [
           0.0002986721083979573,
           0.00040337866470289806,
           0.0005721336444846807,
           0.0009541344774348742,
           0.0016433678276329728,
           0.0030359591935317882,
           0.0056641691830580645,
           0.009513323113585648,
           0.013547916819975995,
           0.015959792050572803,
           0.01598321547852021,
           0.013523146034611622,
           0.00982566372738592,
           0.00608569581052925,
           0.003538188829108597,
           0.0020376975675943693,
           0.0012708173226427207,
           0.0007903873849424549,
           0.0005199476139073772,
           0.00034102068194909305
          ],
          [
           0.000234158575254112,
           0.0003694187148085347,
           0.0005247942121026797,
           0.0008339751544760421,
           0.0013852410407689999,
           0.0022946051369949977,
           0.003708444869597723,
           0.005780613901825507,
           0.007944524205770657,
           0.009124826809013508,
           0.009086941245639872,
           0.007639897185382103,
           0.005917568034411739,
           0.0039516400441672135,
           0.0024864916940079097,
           0.0016033261666216277,
           0.0010310056220683983,
           0.0006718956850957563,
           0.00040787077461557666,
           0.00030679091527928767
          ],
          [
           0.00021338621614544302,
           0.00032995882840659776,
           0.00045829235568150807,
           0.0006685890251817875,
           0.0010098304961794042,
           0.0016299507453204566,
           0.0024355112181295717,
           0.003328110396649318,
           0.003972519385636614,
           0.004408241736346068,
           0.004587547249642479,
           0.00407552828434274,
           0.0032275990820782043,
           0.0023413494183021264,
           0.0017033420709116928,
           0.0012003195079034964,
           0.0007754677462688617,
           0.0005697784051036937,
           0.0003866461043183522,
           0.0002447466079349721
          ],
          [
           0.00016958115735047055,
           0.00024905008649479235,
           0.0003476089645932883,
           0.0004873063471630614,
           0.0007476605269238164,
           0.0010472078949979669,
           0.0014531853973080633,
           0.0018680225327724828,
           0.002218551203442899,
           0.0023555750461450543,
           0.0023680039567709594,
           0.002271426475931722,
           0.0018977750416826332,
           0.0014918837252058327,
           0.0011444055848156083,
           0.0008619858180286416,
           0.0005989929599174186,
           0.0004642638755241691,
           0.0003261663645617268,
           0.0002930262813569266
          ],
          [
           0.0001869353525029045,
           0.0002299555482690442,
           0.0002964728061770089,
           0.0003595042615463088,
           0.0005201163796911048,
           0.0006569540421668888,
           0.0009211375672305206,
           0.001135711986009635,
           0.0012723679786320222,
           0.0012879063377267937,
           0.001410745235566302,
           0.0013326621864227096,
           0.0011922819065826964,
           0.0009607767009716688,
           0.0008191540054697152,
           0.0006319223761392621,
           0.0004809147914864119,
           0.0003769057542237779,
           0.0002351961109078701,
           0.00022286851607099657
          ],
          [
           0.00014105687949055807,
           0.0001600081707082439,
           0.00025498705251070713,
           0.0002578273495440773,
           0.00030759856711321383,
           0.0004688966207396364,
           0.0006001918648688805,
           0.0007212879768758299,
           0.000732530560517562,
           0.0008118994451424245,
           0.0008280690723027134,
           0.0007784920891459934,
           0.0007107311510410119,
           0.0006636407205449725,
           0.0005681459809908975,
           0.00048223187366387775,
           0.00030629846323033553,
           0.00026039475330645476,
           0.00016193198787282893,
           0.00017034755311244972
          ],
          [
           9.184231439327889e-05,
           8.755966366503865e-05,
           0.00014998385678654106,
           0.00017712185694402084,
           0.00021270649138025027,
           0.0002980354746915753,
           0.0003321248759360812,
           0.0004533307436796411,
           0.00045552526513678565,
           0.0005127665307795579,
           0.0006051298754287194,
           0.0005299861711876054,
           0.00040747899496869344,
           0.0004368548265460699,
           0.00028983624605940703,
           0.0003209345322858321,
           0.00021051415343572896,
           0.00016473929418829884,
           0.00014814565751321924,
           0.00011368539741646877
          ],
          [
           8.470891714749057e-05,
           7.64308373343418e-05,
           7.691562678441413e-05,
           7.617690808699453e-05,
           0.00010153065258797002,
           0.00012887459048920288,
           0.00021544147186714217,
           0.00031290605670062217,
           0.00027836928281396825,
           0.00036180047941720056,
           0.0003649870852085547,
           0.00033483117108971857,
           0.00020537643066713152,
           0.0002836183396815668,
           0.00024005842749415132,
           0.00025422963032242606,
           0.00017058896443693155,
           0.00012667741362674685,
           8.320869054246398e-05,
           6.95193313693843e-05
          ]
         ]
        }
       ],
       "layout": {
        "autosize": true,
        "coloraxis": {
         "colorscale": [
          [
           0,
           "#0d0887"
          ],
          [
           0.1111111111111111,
           "#46039f"
          ],
          [
           0.2222222222222222,
           "#7201a8"
          ],
          [
           0.3333333333333333,
           "#9c179e"
          ],
          [
           0.4444444444444444,
           "#bd3786"
          ],
          [
           0.5555555555555556,
           "#d8576b"
          ],
          [
           0.6666666666666666,
           "#ed7953"
          ],
          [
           0.7777777777777778,
           "#fb9f3a"
          ],
          [
           0.8888888888888888,
           "#fdca26"
          ],
          [
           1,
           "#f0f921"
          ]
         ]
        },
        "margin": {
         "t": 60
        },
        "template": {
         "data": {
          "bar": [
           {
            "error_x": {
             "color": "#2a3f5f"
            },
            "error_y": {
             "color": "#2a3f5f"
            },
            "marker": {
             "line": {
              "color": "#E5ECF6",
              "width": 0.5
             },
             "pattern": {
              "fillmode": "overlay",
              "size": 10,
              "solidity": 0.2
             }
            },
            "type": "bar"
           }
          ],
          "barpolar": [
           {
            "marker": {
             "line": {
              "color": "#E5ECF6",
              "width": 0.5
             },
             "pattern": {
              "fillmode": "overlay",
              "size": 10,
              "solidity": 0.2
             }
            },
            "type": "barpolar"
           }
          ],
          "carpet": [
           {
            "aaxis": {
             "endlinecolor": "#2a3f5f",
             "gridcolor": "white",
             "linecolor": "white",
             "minorgridcolor": "white",
             "startlinecolor": "#2a3f5f"
            },
            "baxis": {
             "endlinecolor": "#2a3f5f",
             "gridcolor": "white",
             "linecolor": "white",
             "minorgridcolor": "white",
             "startlinecolor": "#2a3f5f"
            },
            "type": "carpet"
           }
          ],
          "choropleth": [
           {
            "colorbar": {
             "outlinewidth": 0,
             "ticks": ""
            },
            "type": "choropleth"
           }
          ],
          "contour": [
           {
            "colorbar": {
             "outlinewidth": 0,
             "ticks": ""
            },
            "colorscale": [
             [
              0,
              "#0d0887"
             ],
             [
              0.1111111111111111,
              "#46039f"
             ],
             [
              0.2222222222222222,
              "#7201a8"
             ],
             [
              0.3333333333333333,
              "#9c179e"
             ],
             [
              0.4444444444444444,
              "#bd3786"
             ],
             [
              0.5555555555555556,
              "#d8576b"
             ],
             [
              0.6666666666666666,
              "#ed7953"
             ],
             [
              0.7777777777777778,
              "#fb9f3a"
             ],
             [
              0.8888888888888888,
              "#fdca26"
             ],
             [
              1,
              "#f0f921"
             ]
            ],
            "type": "contour"
           }
          ],
          "contourcarpet": [
           {
            "colorbar": {
             "outlinewidth": 0,
             "ticks": ""
            },
            "type": "contourcarpet"
           }
          ],
          "heatmap": [
           {
            "colorbar": {
             "outlinewidth": 0,
             "ticks": ""
            },
            "colorscale": [
             [
              0,
              "#0d0887"
             ],
             [
              0.1111111111111111,
              "#46039f"
             ],
             [
              0.2222222222222222,
              "#7201a8"
             ],
             [
              0.3333333333333333,
              "#9c179e"
             ],
             [
              0.4444444444444444,
              "#bd3786"
             ],
             [
              0.5555555555555556,
              "#d8576b"
             ],
             [
              0.6666666666666666,
              "#ed7953"
             ],
             [
              0.7777777777777778,
              "#fb9f3a"
             ],
             [
              0.8888888888888888,
              "#fdca26"
             ],
             [
              1,
              "#f0f921"
             ]
            ],
            "type": "heatmap"
           }
          ],
          "heatmapgl": [
           {
            "colorbar": {
             "outlinewidth": 0,
             "ticks": ""
            },
            "colorscale": [
             [
              0,
              "#0d0887"
             ],
             [
              0.1111111111111111,
              "#46039f"
             ],
             [
              0.2222222222222222,
              "#7201a8"
             ],
             [
              0.3333333333333333,
              "#9c179e"
             ],
             [
              0.4444444444444444,
              "#bd3786"
             ],
             [
              0.5555555555555556,
              "#d8576b"
             ],
             [
              0.6666666666666666,
              "#ed7953"
             ],
             [
              0.7777777777777778,
              "#fb9f3a"
             ],
             [
              0.8888888888888888,
              "#fdca26"
             ],
             [
              1,
              "#f0f921"
             ]
            ],
            "type": "heatmapgl"
           }
          ],
          "histogram": [
           {
            "marker": {
             "pattern": {
              "fillmode": "overlay",
              "size": 10,
              "solidity": 0.2
             }
            },
            "type": "histogram"
           }
          ],
          "histogram2d": [
           {
            "colorbar": {
             "outlinewidth": 0,
             "ticks": ""
            },
            "colorscale": [
             [
              0,
              "#0d0887"
             ],
             [
              0.1111111111111111,
              "#46039f"
             ],
             [
              0.2222222222222222,
              "#7201a8"
             ],
             [
              0.3333333333333333,
              "#9c179e"
             ],
             [
              0.4444444444444444,
              "#bd3786"
             ],
             [
              0.5555555555555556,
              "#d8576b"
             ],
             [
              0.6666666666666666,
              "#ed7953"
             ],
             [
              0.7777777777777778,
              "#fb9f3a"
             ],
             [
              0.8888888888888888,
              "#fdca26"
             ],
             [
              1,
              "#f0f921"
             ]
            ],
            "type": "histogram2d"
           }
          ],
          "histogram2dcontour": [
           {
            "colorbar": {
             "outlinewidth": 0,
             "ticks": ""
            },
            "colorscale": [
             [
              0,
              "#0d0887"
             ],
             [
              0.1111111111111111,
              "#46039f"
             ],
             [
              0.2222222222222222,
              "#7201a8"
             ],
             [
              0.3333333333333333,
              "#9c179e"
             ],
             [
              0.4444444444444444,
              "#bd3786"
             ],
             [
              0.5555555555555556,
              "#d8576b"
             ],
             [
              0.6666666666666666,
              "#ed7953"
             ],
             [
              0.7777777777777778,
              "#fb9f3a"
             ],
             [
              0.8888888888888888,
              "#fdca26"
             ],
             [
              1,
              "#f0f921"
             ]
            ],
            "type": "histogram2dcontour"
           }
          ],
          "mesh3d": [
           {
            "colorbar": {
             "outlinewidth": 0,
             "ticks": ""
            },
            "type": "mesh3d"
           }
          ],
          "parcoords": [
           {
            "line": {
             "colorbar": {
              "outlinewidth": 0,
              "ticks": ""
             }
            },
            "type": "parcoords"
           }
          ],
          "pie": [
           {
            "automargin": true,
            "type": "pie"
           }
          ],
          "scatter": [
           {
            "fillpattern": {
             "fillmode": "overlay",
             "size": 10,
             "solidity": 0.2
            },
            "type": "scatter"
           }
          ],
          "scatter3d": [
           {
            "line": {
             "colorbar": {
              "outlinewidth": 0,
              "ticks": ""
             }
            },
            "marker": {
             "colorbar": {
              "outlinewidth": 0,
              "ticks": ""
             }
            },
            "type": "scatter3d"
           }
          ],
          "scattercarpet": [
           {
            "marker": {
             "colorbar": {
              "outlinewidth": 0,
              "ticks": ""
             }
            },
            "type": "scattercarpet"
           }
          ],
          "scattergeo": [
           {
            "marker": {
             "colorbar": {
              "outlinewidth": 0,
              "ticks": ""
             }
            },
            "type": "scattergeo"
           }
          ],
          "scattergl": [
           {
            "marker": {
             "colorbar": {
              "outlinewidth": 0,
              "ticks": ""
             }
            },
            "type": "scattergl"
           }
          ],
          "scattermapbox": [
           {
            "marker": {
             "colorbar": {
              "outlinewidth": 0,
              "ticks": ""
             }
            },
            "type": "scattermapbox"
           }
          ],
          "scatterpolar": [
           {
            "marker": {
             "colorbar": {
              "outlinewidth": 0,
              "ticks": ""
             }
            },
            "type": "scatterpolar"
           }
          ],
          "scatterpolargl": [
           {
            "marker": {
             "colorbar": {
              "outlinewidth": 0,
              "ticks": ""
             }
            },
            "type": "scatterpolargl"
           }
          ],
          "scatterternary": [
           {
            "marker": {
             "colorbar": {
              "outlinewidth": 0,
              "ticks": ""
             }
            },
            "type": "scatterternary"
           }
          ],
          "surface": [
           {
            "colorbar": {
             "outlinewidth": 0,
             "ticks": ""
            },
            "colorscale": [
             [
              0,
              "#0d0887"
             ],
             [
              0.1111111111111111,
              "#46039f"
             ],
             [
              0.2222222222222222,
              "#7201a8"
             ],
             [
              0.3333333333333333,
              "#9c179e"
             ],
             [
              0.4444444444444444,
              "#bd3786"
             ],
             [
              0.5555555555555556,
              "#d8576b"
             ],
             [
              0.6666666666666666,
              "#ed7953"
             ],
             [
              0.7777777777777778,
              "#fb9f3a"
             ],
             [
              0.8888888888888888,
              "#fdca26"
             ],
             [
              1,
              "#f0f921"
             ]
            ],
            "type": "surface"
           }
          ],
          "table": [
           {
            "cells": {
             "fill": {
              "color": "#EBF0F8"
             },
             "line": {
              "color": "white"
             }
            },
            "header": {
             "fill": {
              "color": "#C8D4E3"
             },
             "line": {
              "color": "white"
             }
            },
            "type": "table"
           }
          ]
         },
         "layout": {
          "annotationdefaults": {
           "arrowcolor": "#2a3f5f",
           "arrowhead": 0,
           "arrowwidth": 1
          },
          "autotypenumbers": "strict",
          "coloraxis": {
           "colorbar": {
            "outlinewidth": 0,
            "ticks": ""
           }
          },
          "colorscale": {
           "diverging": [
            [
             0,
             "#8e0152"
            ],
            [
             0.1,
             "#c51b7d"
            ],
            [
             0.2,
             "#de77ae"
            ],
            [
             0.3,
             "#f1b6da"
            ],
            [
             0.4,
             "#fde0ef"
            ],
            [
             0.5,
             "#f7f7f7"
            ],
            [
             0.6,
             "#e6f5d0"
            ],
            [
             0.7,
             "#b8e186"
            ],
            [
             0.8,
             "#7fbc41"
            ],
            [
             0.9,
             "#4d9221"
            ],
            [
             1,
             "#276419"
            ]
           ],
           "sequential": [
            [
             0,
             "#0d0887"
            ],
            [
             0.1111111111111111,
             "#46039f"
            ],
            [
             0.2222222222222222,
             "#7201a8"
            ],
            [
             0.3333333333333333,
             "#9c179e"
            ],
            [
             0.4444444444444444,
             "#bd3786"
            ],
            [
             0.5555555555555556,
             "#d8576b"
            ],
            [
             0.6666666666666666,
             "#ed7953"
            ],
            [
             0.7777777777777778,
             "#fb9f3a"
            ],
            [
             0.8888888888888888,
             "#fdca26"
            ],
            [
             1,
             "#f0f921"
            ]
           ],
           "sequentialminus": [
            [
             0,
             "#0d0887"
            ],
            [
             0.1111111111111111,
             "#46039f"
            ],
            [
             0.2222222222222222,
             "#7201a8"
            ],
            [
             0.3333333333333333,
             "#9c179e"
            ],
            [
             0.4444444444444444,
             "#bd3786"
            ],
            [
             0.5555555555555556,
             "#d8576b"
            ],
            [
             0.6666666666666666,
             "#ed7953"
            ],
            [
             0.7777777777777778,
             "#fb9f3a"
            ],
            [
             0.8888888888888888,
             "#fdca26"
            ],
            [
             1,
             "#f0f921"
            ]
           ]
          },
          "colorway": [
           "#636efa",
           "#EF553B",
           "#00cc96",
           "#ab63fa",
           "#FFA15A",
           "#19d3f3",
           "#FF6692",
           "#B6E880",
           "#FF97FF",
           "#FECB52"
          ],
          "font": {
           "color": "#2a3f5f"
          },
          "geo": {
           "bgcolor": "white",
           "lakecolor": "white",
           "landcolor": "#E5ECF6",
           "showlakes": true,
           "showland": true,
           "subunitcolor": "white"
          },
          "hoverlabel": {
           "align": "left"
          },
          "hovermode": "closest",
          "mapbox": {
           "style": "light"
          },
          "paper_bgcolor": "white",
          "plot_bgcolor": "#E5ECF6",
          "polar": {
           "angularaxis": {
            "gridcolor": "white",
            "linecolor": "white",
            "ticks": ""
           },
           "bgcolor": "#E5ECF6",
           "radialaxis": {
            "gridcolor": "white",
            "linecolor": "white",
            "ticks": ""
           }
          },
          "scene": {
           "xaxis": {
            "backgroundcolor": "#E5ECF6",
            "gridcolor": "white",
            "gridwidth": 2,
            "linecolor": "white",
            "showbackground": true,
            "ticks": "",
            "zerolinecolor": "white"
           },
           "yaxis": {
            "backgroundcolor": "#E5ECF6",
            "gridcolor": "white",
            "gridwidth": 2,
            "linecolor": "white",
            "showbackground": true,
            "ticks": "",
            "zerolinecolor": "white"
           },
           "zaxis": {
            "backgroundcolor": "#E5ECF6",
            "gridcolor": "white",
            "gridwidth": 2,
            "linecolor": "white",
            "showbackground": true,
            "ticks": "",
            "zerolinecolor": "white"
           }
          },
          "shapedefaults": {
           "line": {
            "color": "#2a3f5f"
           }
          },
          "ternary": {
           "aaxis": {
            "gridcolor": "white",
            "linecolor": "white",
            "ticks": ""
           },
           "baxis": {
            "gridcolor": "white",
            "linecolor": "white",
            "ticks": ""
           },
           "bgcolor": "#E5ECF6",
           "caxis": {
            "gridcolor": "white",
            "linecolor": "white",
            "ticks": ""
           }
          },
          "title": {
           "x": 0.05
          },
          "xaxis": {
           "automargin": true,
           "gridcolor": "white",
           "linecolor": "white",
           "ticks": "",
           "title": {
            "standoff": 15
           },
           "zerolinecolor": "white",
           "zerolinewidth": 2
          },
          "yaxis": {
           "automargin": true,
           "gridcolor": "white",
           "linecolor": "white",
           "ticks": "",
           "title": {
            "standoff": 15
           },
           "zerolinecolor": "white",
           "zerolinewidth": 2
          }
         }
        },
        "xaxis": {
         "anchor": "y",
         "autorange": true,
         "constrain": "domain",
         "domain": [
          0.3484848484848485,
          0.6515151515151515
         ],
         "range": [
          -0.5,
          19.5
         ],
         "scaleanchor": "y"
        },
        "yaxis": {
         "anchor": "x",
         "autorange": true,
         "constrain": "domain",
         "domain": [
          0,
          1
         ],
         "range": [
          19.5,
          -0.5
         ]
        }
       }
      },
      "image/png": "[encoded data removed]",
      "text/html": [
       "<div>                            <div id=\"a3963d15-c20a-4e3f-bd58-0c9a4382953a\" class=\"plotly-graph-div\" style=\"height:525px; width:100%;\"></div>            <script type=\"text/javascript\">                require([\"plotly\"], function(Plotly) {                    window.PLOTLYENV=window.PLOTLYENV || {};                                    if (document.getElementById(\"a3963d15-c20a-4e3f-bd58-0c9a4382953a\")) {                    Plotly.newPlot(                        \"a3963d15-c20a-4e3f-bd58-0c9a4382953a\",                        [{\"coloraxis\":\"coloraxis\",\"name\":\"0\",\"z\":[[3.354153507650848e-05,4.299253162149197e-05,5.875165027054175e-05,0.0001397907700192853,0.00012578776917441785,0.0001368031990142316,0.00010508324545986836,0.00016000115715110458,0.00023606485962506142,0.00021967602127741148,0.00020657212756455904,0.00017279029115441726,0.00015721716358905807,0.00017243928225163678,0.00012653804954998308,0.0001399373934323965,0.00015491514619143875,0.0001267537050611041,8.997648073394474e-05,8.675399604071524e-05],[8.360180534572061e-05,5.304525118089505e-05,6.218826542496806e-05,0.00015533384902865222,0.00014427561382934756,0.00019428309106643015,0.00019568240711261085,0.00027177253178286014,0.0002528566846967369,0.0003407868860141778,0.0002807454966637135,0.000284077996805546,0.00026075410446268246,0.0002495114827388072,0.00016783820190278896,0.00020028156260099546,0.00020375436786032955,0.000111003914867105,6.662757399417344e-05,2.962301338679301e-05],[6.392756870045808e-05,5.6195994755647984e-05,8.05212092650962e-05,0.0001022231105149503,0.00021082998327990687,0.0002927464222014424,0.00029651123648333254,0.0004435587338919594,0.0004594088081036273,0.0004879416354239192,0.0004317673089926723,0.00047463106557948785,0.000430796349851785,0.000353850771039932,0.0002600856916580155,0.00029122483253681675,0.0002183579348916688,0.00016585386169966975,0.00013915138222896407,8.292988375859338e-05],[7.850435410014347e-05,0.00011886368837247328,0.00018483656807327537,0.00019957493119335872,0.00029842538378027503,0.0004035364184528089,0.0005072591532693913,0.0005930740945652211,0.000684253774166256,0.0007571444851174326,0.0008206679269409058,0.0007095923740804776,0.0007037516725412202,0.0006393345566404043,0.0005503436627824826,0.0004833419775550991,0.0004048270202752197,0.00017648738552989573,0.000204335317176674,0.000146803435158962],[0.00014254850343580137,0.00019547632545087538,0.00019724747468797624,0.0002974404416947931,0.0004670333072104876,0.0006267982656338538,0.0008290140057180138,0.001102468941257697,0.001283592725576751,0.0013775933206604041,0.0013476146183990488,0.001333425526736447,0.001239381345303317,0.0011493083199998735,0.0008714552396507687,0.000719171287898929,0.0005892500753038427,0.00040436420588792655,0.00032698537746906947,0.00026298664642972685],[0.00012028484719271561,0.0002424373413263594,0.0003053232252375881,0.0004158707014934393,0.0005926288741800658,0.0009421176618852052,0.001262964929333401,0.0019195078147950899,0.002423305015940972,0.002774796111590292,0.0027801768387545806,0.0025970517406661937,0.0024055185011735655,0.002061088546810364,0.0016324944550202263,0.001195034749404085,0.0008928318582193417,0.0005762752115867286,0.0003939668205211025,0.0002809862332064752],[0.00015166915072834615,0.0002275362473997663,0.0003464034398997982,0.0005204550421279187,0.0007835938184342763,0.0013691181991152509,0.0021648826773727277,0.003219727957355883,0.004355364160300644,0.005381866405416132,0.005927021193402608,0.005654237712628898,0.004742923846206535,0.003724090803600484,0.0026647095828955356,0.0017715927405296096,0.001274725357607419,0.0008334814851057807,0.0004569765593946283,0.00031993140012030833],[0.00018176480491664376,0.00029603650678466296,0.0004715965120275165,0.000677237175762539,0.0011034891613273326,0.0018355290006412525,0.003047143986751171,0.005028641774087872,0.007365010574952257,0.009505192415351055,0.010636507369406183,0.010431481536821203,0.008737028997948437,0.006349720237205833,0.00417369621925906,0.0026187344049056266,0.0016057137884535827,0.001009240776281169,0.0005551236139936616,0.0003935731152085137],[0.00023674370261210785,0.0003535891869731072,0.0005561339389086317,0.0008473797929729826,0.0013399177861034188,0.002497797934323242,0.004451398386957316,0.007423465355485037,0.011059260315475116,0.014085119779866656,0.01640392434782099,0.01665346767751402,0.013841340538097241,0.00914588091014276,0.005459453781763074,0.0031896713046293945,0.0018983018503637209,0.0012053185311636577,0.0006279002112920898,0.0003863370373768408],[0.00029461685060035105,0.00036597417492847907,0.0005535195169984239,0.0008358327370827889,0.0015833933459438105,0.0031797979344302062,0.0060310758511460325,0.010320255547808533,0.015024140764527091,0.01871840713989946,0.02166750792890334,0.02160977422206334,0.017318365318319744,0.010785001013618605,0.005897477647949669,0.0032857873071621174,0.001911164224489281,0.0011811239522918247,0.0006833901395660835,0.0004542835319929553],[0.00033917093123101897,0.0004053044497294211,0.0006232814771357828,0.000945429207051738,0.0018297675906056156,0.00367804596531643,0.0071513779233801375,0.012704152791002184,0.01827177162723101,0.022416332330986315,0.02461591511533347,0.02308307297198944,0.01711087959333751,0.010255747747853714,0.005518495709403987,0.002924057175665056,0.0016734041406641681,0.0010254636771528263,0.0006308583836622111,0.00049544434455026],[0.0003148472728642195,0.0004459832752606096,0.0006628053755348964,0.0010551502451044072,0.0018129681240430801,0.003652620160975032,0.007217349387202957,0.012715072313643463,0.017958382783008688,0.0216900521091252,0.022343366862582915,0.019827468408503773,0.014318901228100027,0.008595043104036814,0.004704190655986864,0.0026099340629728617,0.0015106310750233056,0.0009246772455669662,0.0005789434198894623,0.0003991964430524857],[0.0002986721083979573,0.00040337866470289806,0.0005721336444846807,0.0009541344774348742,0.0016433678276329728,0.0030359591935317882,0.0056641691830580645,0.009513323113585648,0.013547916819975995,0.015959792050572803,0.01598321547852021,0.013523146034611622,0.00982566372738592,0.00608569581052925,0.003538188829108597,0.0020376975675943693,0.0012708173226427207,0.0007903873849424549,0.0005199476139073772,0.00034102068194909305],[0.000234158575254112,0.0003694187148085347,0.0005247942121026797,0.0008339751544760421,0.0013852410407689999,0.0022946051369949977,0.003708444869597723,0.005780613901825507,0.007944524205770657,0.009124826809013508,0.009086941245639872,0.007639897185382103,0.005917568034411739,0.0039516400441672135,0.0024864916940079097,0.0016033261666216277,0.0010310056220683983,0.0006718956850957563,0.00040787077461557666,0.00030679091527928767],[0.00021338621614544302,0.00032995882840659776,0.00045829235568150807,0.0006685890251817875,0.0010098304961794042,0.0016299507453204566,0.0024355112181295717,0.003328110396649318,0.003972519385636614,0.004408241736346068,0.004587547249642479,0.00407552828434274,0.0032275990820782043,0.0023413494183021264,0.0017033420709116928,0.0012003195079034964,0.0007754677462688617,0.0005697784051036937,0.0003866461043183522,0.0002447466079349721],[0.00016958115735047055,0.00024905008649479235,0.0003476089645932883,0.0004873063471630614,0.0007476605269238164,0.0010472078949979669,0.0014531853973080633,0.0018680225327724828,0.002218551203442899,0.0023555750461450543,0.0023680039567709594,0.002271426475931722,0.0018977750416826332,0.0014918837252058327,0.0011444055848156083,0.0008619858180286416,0.0005989929599174186,0.0004642638755241691,0.0003261663645617268,0.0002930262813569266],[0.0001869353525029045,0.0002299555482690442,0.0002964728061770089,0.0003595042615463088,0.0005201163796911048,0.0006569540421668888,0.0009211375672305206,0.001135711986009635,0.0012723679786320222,0.0012879063377267937,0.001410745235566302,0.0013326621864227096,0.0011922819065826964,0.0009607767009716688,0.0008191540054697152,0.0006319223761392621,0.0004809147914864119,0.0003769057542237779,0.0002351961109078701,0.00022286851607099657],[0.00014105687949055807,0.0001600081707082439,0.00025498705251070713,0.0002578273495440773,0.00030759856711321383,0.0004688966207396364,0.0006001918648688805,0.0007212879768758299,0.000732530560517562,0.0008118994451424245,0.0008280690723027134,0.0007784920891459934,0.0007107311510410119,0.0006636407205449725,0.0005681459809908975,0.00048223187366387775,0.00030629846323033553,0.00026039475330645476,0.00016193198787282893,0.00017034755311244972],[9.184231439327889e-05,8.755966366503865e-05,0.00014998385678654106,0.00017712185694402084,0.00021270649138025027,0.0002980354746915753,0.0003321248759360812,0.0004533307436796411,0.00045552526513678565,0.0005127665307795579,0.0006051298754287194,0.0005299861711876054,0.00040747899496869344,0.0004368548265460699,0.00028983624605940703,0.0003209345322858321,0.00021051415343572896,0.00016473929418829884,0.00014814565751321924,0.00011368539741646877],[8.470891714749057e-05,7.64308373343418e-05,7.691562678441413e-05,7.617690808699453e-05,0.00010153065258797002,0.00012887459048920288,0.00021544147186714217,0.00031290605670062217,0.00027836928281396825,0.00036180047941720056,0.0003649870852085547,0.00033483117108971857,0.00020537643066713152,0.0002836183396815668,0.00024005842749415132,0.00025422963032242606,0.00017058896443693155,0.00012667741362674685,8.320869054246398e-05,6.95193313693843e-05]],\"type\":\"heatmap\",\"xaxis\":\"x\",\"yaxis\":\"y\",\"hovertemplate\":\"x: %{x}\\u003cbr\\u003ey: %{y}\\u003cbr\\u003ecolor: %{z}\\u003cextra\\u003e\\u003c\\u002fextra\\u003e\"}],                        {\"template\":{\"data\":{\"histogram2dcontour\":[{\"type\":\"histogram2dcontour\",\"colorbar\":{\"outlinewidth\":0,\"ticks\":\"\"},\"colorscale\":[[0.0,\"#0d0887\"],[0.1111111111111111,\"#46039f\"],[0.2222222222222222,\"#7201a8\"],[0.3333333333333333,\"#9c179e\"],[0.4444444444444444,\"#bd3786\"],[0.5555555555555556,\"#d8576b\"],[0.6666666666666666,\"#ed7953\"],[0.7777777777777778,\"#fb9f3a\"],[0.8888888888888888,\"#fdca26\"],[1.0,\"#f0f921\"]]}],\"choropleth\":[{\"type\":\"choropleth\",\"colorbar\":{\"outlinewidth\":0,\"ticks\":\"\"}}],\"histogram2d\":[{\"type\":\"histogram2d\",\"colorbar\":{\"outlinewidth\":0,\"ticks\":\"\"},\"colorscale\":[[0.0,\"#0d0887\"],[0.1111111111111111,\"#46039f\"],[0.2222222222222222,\"#7201a8\"],[0.3333333333333333,\"#9c179e\"],[0.4444444444444444,\"#bd3786\"],[0.5555555555555556,\"#d8576b\"],[0.6666666666666666,\"#ed7953\"],[0.7777777777777778,\"#fb9f3a\"],[0.8888888888888888,\"#fdca26\"],[1.0,\"#f0f921\"]]}],\"heatmap\":[{\"type\":\"heatmap\",\"colorbar\":{\"outlinewidth\":0,\"ticks\":\"\"},\"colorscale\":[[0.0,\"#0d0887\"],[0.1111111111111111,\"#46039f\"],[0.2222222222222222,\"#7201a8\"],[0.3333333333333333,\"#9c179e\"],[0.4444444444444444,\"#bd3786\"],[0.5555555555555556,\"#d8576b\"],[0.6666666666666666,\"#ed7953\"],[0.7777777777777778,\"#fb9f3a\"],[0.8888888888888888,\"#fdca26\"],[1.0,\"#f0f921\"]]}],\"heatmapgl\":[{\"type\":\"heatmapgl\",\"colorbar\":{\"outlinewidth\":0,\"ticks\":\"\"},\"colorscale\":[[0.0,\"#0d0887\"],[0.1111111111111111,\"#46039f\"],[0.2222222222222222,\"#7201a8\"],[0.3333333333333333,\"#9c179e\"],[0.4444444444444444,\"#bd3786\"],[0.5555555555555556,\"#d8576b\"],[0.6666666666666666,\"#ed7953\"],[0.7777777777777778,\"#fb9f3a\"],[0.8888888888888888,\"#fdca26\"],[1.0,\"#f0f921\"]]}],\"contourcarpet\":[{\"type\":\"contourcarpet\",\"colorbar\":{\"outlinewidth\":0,\"ticks\":\"\"}}],\"contour\":[{\"type\":\"contour\",\"colorbar\":{\"outlinewidth\":0,\"ticks\":\"\"},\"colorscale\":[[0.0,\"#0d0887\"],[0.1111111111111111,\"#46039f\"],[0.2222222222222222,\"#7201a8\"],[0.3333333333333333,\"#9c179e\"],[0.4444444444444444,\"#bd3786\"],[0.5555555555555556,\"#d8576b\"],[0.6666666666666666,\"#ed7953\"],[0.7777777777777778,\"#fb9f3a\"],[0.8888888888888888,\"#fdca26\"],[1.0,\"#f0f921\"]]}],\"surface\":[{\"type\":\"surface\",\"colorbar\":{\"outlinewidth\":0,\"ticks\":\"\"},\"colorscale\":[[0.0,\"#0d0887\"],[0.1111111111111111,\"#46039f\"],[0.2222222222222222,\"#7201a8\"],[0.3333333333333333,\"#9c179e\"],[0.4444444444444444,\"#bd3786\"],[0.5555555555555556,\"#d8576b\"],[0.6666666666666666,\"#ed7953\"],[0.7777777777777778,\"#fb9f3a\"],[0.8888888888888888,\"#fdca26\"],[1.0,\"#f0f921\"]]}],\"mesh3d\":[{\"type\":\"mesh3d\",\"colorbar\":{\"outlinewidth\":0,\"ticks\":\"\"}}],\"scatter\":[{\"fillpattern\":{\"fillmode\":\"overlay\",\"size\":10,\"solidity\":0.2},\"type\":\"scatter\"}],\"parcoords\":[{\"type\":\"parcoords\",\"line\":{\"colorbar\":{\"outlinewidth\":0,\"ticks\":\"\"}}}],\"scatterpolargl\":[{\"type\":\"scatterpolargl\",\"marker\":{\"colorbar\":{\"outlinewidth\":0,\"ticks\":\"\"}}}],\"bar\":[{\"error_x\":{\"color\":\"#2a3f5f\"},\"error_y\":{\"color\":\"#2a3f5f\"},\"marker\":{\"line\":{\"color\":\"#E5ECF6\",\"width\":0.5},\"pattern\":{\"fillmode\":\"overlay\",\"size\":10,\"solidity\":0.2}},\"type\":\"bar\"}],\"scattergeo\":[{\"type\":\"scattergeo\",\"marker\":{\"colorbar\":{\"outlinewidth\":0,\"ticks\":\"\"}}}],\"scatterpolar\":[{\"type\":\"scatterpolar\",\"marker\":{\"colorbar\":{\"outlinewidth\":0,\"ticks\":\"\"}}}],\"histogram\":[{\"marker\":{\"pattern\":{\"fillmode\":\"overlay\",\"size\":10,\"solidity\":0.2}},\"type\":\"histogram\"}],\"scattergl\":[{\"type\":\"scattergl\",\"marker\":{\"colorbar\":{\"outlinewidth\":0,\"ticks\":\"\"}}}],\"scatter3d\":[{\"type\":\"scatter3d\",\"line\":{\"colorbar\":{\"outlinewidth\":0,\"ticks\":\"\"}},\"marker\":{\"colorbar\":{\"outlinewidth\":0,\"ticks\":\"\"}}}],\"scattermapbox\":[{\"type\":\"scattermapbox\",\"marker\":{\"colorbar\":{\"outlinewidth\":0,\"ticks\":\"\"}}}],\"scatterternary\":[{\"type\":\"scatterternary\",\"marker\":{\"colorbar\":{\"outlinewidth\":0,\"ticks\":\"\"}}}],\"scattercarpet\":[{\"type\":\"scattercarpet\",\"marker\":{\"colorbar\":{\"outlinewidth\":0,\"ticks\":\"\"}}}],\"carpet\":[{\"aaxis\":{\"endlinecolor\":\"#2a3f5f\",\"gridcolor\":\"white\",\"linecolor\":\"white\",\"minorgridcolor\":\"white\",\"startlinecolor\":\"#2a3f5f\"},\"baxis\":{\"endlinecolor\":\"#2a3f5f\",\"gridcolor\":\"white\",\"linecolor\":\"white\",\"minorgridcolor\":\"white\",\"startlinecolor\":\"#2a3f5f\"},\"type\":\"carpet\"}],\"table\":[{\"cells\":{\"fill\":{\"color\":\"#EBF0F8\"},\"line\":{\"color\":\"white\"}},\"header\":{\"fill\":{\"color\":\"#C8D4E3\"},\"line\":{\"color\":\"white\"}},\"type\":\"table\"}],\"barpolar\":[{\"marker\":{\"line\":{\"color\":\"#E5ECF6\",\"width\":0.5},\"pattern\":{\"fillmode\":\"overlay\",\"size\":10,\"solidity\":0.2}},\"type\":\"barpolar\"}],\"pie\":[{\"automargin\":true,\"type\":\"pie\"}]},\"layout\":{\"autotypenumbers\":\"strict\",\"colorway\":[\"#636efa\",\"#EF553B\",\"#00cc96\",\"#ab63fa\",\"#FFA15A\",\"#19d3f3\",\"#FF6692\",\"#B6E880\",\"#FF97FF\",\"#FECB52\"],\"font\":{\"color\":\"#2a3f5f\"},\"hovermode\":\"closest\",\"hoverlabel\":{\"align\":\"left\"},\"paper_bgcolor\":\"white\",\"plot_bgcolor\":\"#E5ECF6\",\"polar\":{\"bgcolor\":\"#E5ECF6\",\"angularaxis\":{\"gridcolor\":\"white\",\"linecolor\":\"white\",\"ticks\":\"\"},\"radialaxis\":{\"gridcolor\":\"white\",\"linecolor\":\"white\",\"ticks\":\"\"}},\"ternary\":{\"bgcolor\":\"#E5ECF6\",\"aaxis\":{\"gridcolor\":\"white\",\"linecolor\":\"white\",\"ticks\":\"\"},\"baxis\":{\"gridcolor\":\"white\",\"linecolor\":\"white\",\"ticks\":\"\"},\"caxis\":{\"gridcolor\":\"white\",\"linecolor\":\"white\",\"ticks\":\"\"}},\"coloraxis\":{\"colorbar\":{\"outlinewidth\":0,\"ticks\":\"\"}},\"colorscale\":{\"sequential\":[[0.0,\"#0d0887\"],[0.1111111111111111,\"#46039f\"],[0.2222222222222222,\"#7201a8\"],[0.3333333333333333,\"#9c179e\"],[0.4444444444444444,\"#bd3786\"],[0.5555555555555556,\"#d8576b\"],[0.6666666666666666,\"#ed7953\"],[0.7777777777777778,\"#fb9f3a\"],[0.8888888888888888,\"#fdca26\"],[1.0,\"#f0f921\"]],\"sequentialminus\":[[0.0,\"#0d0887\"],[0.1111111111111111,\"#46039f\"],[0.2222222222222222,\"#7201a8\"],[0.3333333333333333,\"#9c179e\"],[0.4444444444444444,\"#bd3786\"],[0.5555555555555556,\"#d8576b\"],[0.6666666666666666,\"#ed7953\"],[0.7777777777777778,\"#fb9f3a\"],[0.8888888888888888,\"#fdca26\"],[1.0,\"#f0f921\"]],\"diverging\":[[0,\"#8e0152\"],[0.1,\"#c51b7d\"],[0.2,\"#de77ae\"],[0.3,\"#f1b6da\"],[0.4,\"#fde0ef\"],[0.5,\"#f7f7f7\"],[0.6,\"#e6f5d0\"],[0.7,\"#b8e186\"],[0.8,\"#7fbc41\"],[0.9,\"#4d9221\"],[1,\"#276419\"]]},\"xaxis\":{\"gridcolor\":\"white\",\"linecolor\":\"white\",\"ticks\":\"\",\"title\":{\"standoff\":15},\"zerolinecolor\":\"white\",\"automargin\":true,\"zerolinewidth\":2},\"yaxis\":{\"gridcolor\":\"white\",\"linecolor\":\"white\",\"ticks\":\"\",\"title\":{\"standoff\":15},\"zerolinecolor\":\"white\",\"automargin\":true,\"zerolinewidth\":2},\"scene\":{\"xaxis\":{\"backgroundcolor\":\"#E5ECF6\",\"gridcolor\":\"white\",\"linecolor\":\"white\",\"showbackground\":true,\"ticks\":\"\",\"zerolinecolor\":\"white\",\"gridwidth\":2},\"yaxis\":{\"backgroundcolor\":\"#E5ECF6\",\"gridcolor\":\"white\",\"linecolor\":\"white\",\"showbackground\":true,\"ticks\":\"\",\"zerolinecolor\":\"white\",\"gridwidth\":2},\"zaxis\":{\"backgroundcolor\":\"#E5ECF6\",\"gridcolor\":\"white\",\"linecolor\":\"white\",\"showbackground\":true,\"ticks\":\"\",\"zerolinecolor\":\"white\",\"gridwidth\":2}},\"shapedefaults\":{\"line\":{\"color\":\"#2a3f5f\"}},\"annotationdefaults\":{\"arrowcolor\":\"#2a3f5f\",\"arrowhead\":0,\"arrowwidth\":1},\"geo\":{\"bgcolor\":\"white\",\"landcolor\":\"#E5ECF6\",\"subunitcolor\":\"white\",\"showland\":true,\"showlakes\":true,\"lakecolor\":\"white\"},\"title\":{\"x\":0.05},\"mapbox\":{\"style\":\"light\"}}},\"xaxis\":{\"anchor\":\"y\",\"domain\":[0.0,1.0],\"scaleanchor\":\"y\",\"constrain\":\"domain\"},\"yaxis\":{\"anchor\":\"x\",\"domain\":[0.0,1.0],\"autorange\":\"reversed\",\"constrain\":\"domain\"},\"coloraxis\":{\"colorscale\":[[0.0,\"#0d0887\"],[0.1111111111111111,\"#46039f\"],[0.2222222222222222,\"#7201a8\"],[0.3333333333333333,\"#9c179e\"],[0.4444444444444444,\"#bd3786\"],[0.5555555555555556,\"#d8576b\"],[0.6666666666666666,\"#ed7953\"],[0.7777777777777778,\"#fb9f3a\"],[0.8888888888888888,\"#fdca26\"],[1.0,\"#f0f921\"]]},\"margin\":{\"t\":60}},                        {\"responsive\": true}                    ).then(function(){\n",
       "                            \n",
       "var gd = document.getElementById('a3963d15-c20a-4e3f-bd58-0c9a4382953a');\n",
       "var x = new MutationObserver(function (mutations, observer) {{\n",
       "        var display = window.getComputedStyle(gd).display;\n",
       "        if (!display || display === 'none') {{\n",
       "            console.log([gd, 'removed!']);\n",
       "            Plotly.purge(gd);\n",
       "            observer.disconnect();\n",
       "        }}\n",
       "}});\n",
       "\n",
       "// Listen for the removal of the full notebook cells\n",
       "var notebookContainer = gd.closest('#notebook-container');\n",
       "if (notebookContainer) {{\n",
       "    x.observe(notebookContainer, {childList: true});\n",
       "}}\n",
       "\n",
       "// Listen for the clearing of the current output cell\n",
       "var outputEl = gd.closest('.output');\n",
       "if (outputEl) {{\n",
       "    x.observe(outputEl, {childList: true});\n",
       "}}\n",
       "\n",
       "                        })                };                });            </script>        </div>"
      ]
     },
     "metadata": {},
     "output_type": "display_data"
    }
   ],
   "source": [
    "px.imshow(m.evaluate(x_center, y_center), aspect='equal').show()"
   ]
  },
  {
   "cell_type": "code",
   "execution_count": 53,
   "id": "4b434056-2440-4f2e-a89a-771aba0b69ee",
   "metadata": {},
   "outputs": [
    {
     "data": {
      "text/plain": [
       "1071.3467"
      ]
     },
     "execution_count": 53,
     "metadata": {},
     "output_type": "execute_result"
    }
   ],
   "source": [
    "np.sum(star_cutout)"
   ]
  },
  {
   "cell_type": "code",
   "execution_count": 16,
   "id": "37908820-2f20-4dbc-919d-bed027e57f03",
   "metadata": {},
   "outputs": [
    {
     "data": {
      "text/plain": [
       "210"
      ]
     },
     "execution_count": 16,
     "metadata": {},
     "output_type": "execute_result"
    }
   ],
   "source": [
    "import numpy as np\n",
    "np.argmax(m.evaluate(x_center, y_center))"
   ]
  },
  {
   "cell_type": "code",
   "execution_count": 20,
   "id": "2191abb7-56ad-4277-9a69-becd99b274ca",
   "metadata": {},
   "outputs": [
    {
     "data": {
      "text/plain": [
       "1.0"
      ]
     },
     "execution_count": 20,
     "metadata": {},
     "output_type": "execute_result"
    }
   ],
   "source": [
    "m.evaluate(2050.4, 2052.2).sum()"
   ]
  },
  {
   "cell_type": "code",
   "execution_count": 66,
   "id": "2d8e1c36-e2a6-4dfd-8f4a-3c46c6fae19c",
   "metadata": {},
   "outputs": [],
   "source": [
    "s = slice(0, 100, 1)"
   ]
  },
  {
   "cell_type": "code",
   "execution_count": 70,
   "id": "9400146c-ecf6-4eaf-ba3e-65e24b69b795",
   "metadata": {},
   "outputs": [
    {
     "data": {
      "text/plain": [
       "(0, 100, 1)"
      ]
     },
     "execution_count": 70,
     "metadata": {},
     "output_type": "execute_result"
    }
   ],
   "source": [
    "s.indices(105)"
   ]
  },
  {
   "cell_type": "code",
   "execution_count": null,
   "id": "ead781eb-9256-4215-9412-fc5c4e5ea833",
   "metadata": {},
   "outputs": [],
   "source": []
  }
 ],
 "metadata": {
  "kernelspec": {
   "display_name": "Python 3 (ipykernel)",
   "language": "python",
   "name": "python3"
  },
  "language_info": {
   "codemirror_mode": {
    "name": "ipython",
    "version": 3
   },
   "file_extension": ".py",
   "mimetype": "text/x-python",
   "name": "python",
   "nbconvert_exporter": "python",
   "pygments_lexer": "ipython3",
   "version": "3.10.13"
  }
 },
 "nbformat": 4,
 "nbformat_minor": 5
}
